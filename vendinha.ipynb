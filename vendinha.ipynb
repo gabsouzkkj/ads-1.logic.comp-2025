{
 "cells": [
  {
   "cell_type": "markdown",
   "id": "03c014e4",
   "metadata": {},
   "source": [
    "# VENDINHA - FIADO"
   ]
  },
  {
   "cell_type": "code",
   "execution_count": 5,
   "id": "3caf4ad6",
   "metadata": {},
   "outputs": [
    {
     "name": "stdout",
     "output_type": "stream",
     "text": [
      "📗: SISTEMA DE FIADO \n",
      "\n",
      "✨: OPÇÕES:\n",
      "1 - Cadastrar novo cliente\n",
      "2 - Ver lista de clientes\n",
      "3 - Marcar cliente como PAGO\n",
      "0 - Sair do sistema\n",
      "\n",
      "✅: Cliente \"Gabriel Philippe\" cadastrado com status: PAGO\n",
      "\n",
      "✨: OPÇÕES:\n",
      "1 - Cadastrar novo cliente\n",
      "2 - Ver lista de clientes\n",
      "3 - Marcar cliente como PAGO\n",
      "0 - Sair do sistema\n"
     ]
    },
    {
     "ename": "ValueError",
     "evalue": "could not convert string to float: ''",
     "output_type": "error",
     "traceback": [
      "\u001b[1;31m---------------------------------------------------------------------------\u001b[0m",
      "\u001b[1;31mValueError\u001b[0m                                Traceback (most recent call last)",
      "Cell \u001b[1;32mIn[5], line 20\u001b[0m\n\u001b[0;32m     18\u001b[0m \u001b[38;5;28;01melif\u001b[39;00m opcao \u001b[38;5;241m==\u001b[39m \u001b[38;5;124m\"\u001b[39m\u001b[38;5;124m1\u001b[39m\u001b[38;5;124m\"\u001b[39m:\n\u001b[0;32m     19\u001b[0m     nome \u001b[38;5;241m=\u001b[39m \u001b[38;5;28minput\u001b[39m(\u001b[38;5;124m\"\u001b[39m\u001b[38;5;130;01m\\n\u001b[39;00m\u001b[38;5;124mDigite o nome do cliente > \u001b[39m\u001b[38;5;124m\"\u001b[39m)\n\u001b[1;32m---> 20\u001b[0m     devendo \u001b[38;5;241m=\u001b[39m \u001b[38;5;28;43mfloat\u001b[39;49m\u001b[43m(\u001b[49m\u001b[38;5;28;43minput\u001b[39;49m\u001b[43m(\u001b[49m\u001b[38;5;124;43m'\u001b[39;49m\u001b[38;5;124;43mDigite a quantia que ele está devendo > \u001b[39;49m\u001b[38;5;124;43m'\u001b[39;49m\u001b[43m)\u001b[49m\u001b[43m)\u001b[49m\n\u001b[0;32m     21\u001b[0m     pago \u001b[38;5;241m=\u001b[39m \u001b[38;5;28minput\u001b[39m(\u001b[38;5;124mf\u001b[39m\u001b[38;5;124m'\u001b[39m\u001b[38;5;124m\"\u001b[39m\u001b[38;5;132;01m{\u001b[39;00mnome\u001b[38;5;132;01m}\u001b[39;00m\u001b[38;5;124m\"\u001b[39m\u001b[38;5;124m já pagou? [S/N]: \u001b[39m\u001b[38;5;124m'\u001b[39m)\u001b[38;5;241m.\u001b[39mstrip()\u001b[38;5;241m.\u001b[39mupper()\n\u001b[0;32m     24\u001b[0m     \u001b[38;5;28;01mif\u001b[39;00m pago \u001b[38;5;241m==\u001b[39m \u001b[38;5;124m\"\u001b[39m\u001b[38;5;124mS\u001b[39m\u001b[38;5;124m\"\u001b[39m:\n",
      "\u001b[1;31mValueError\u001b[0m: could not convert string to float: ''"
     ]
    }
   ],
   "source": [
    "lista_clientes = []\n",
    "\n",
    "print(\"📗: SISTEMA DE FIADO \")\n",
    "\n",
    "while True:  \n",
    "    print(\"\\n✨: OPÇÕES:\")\n",
    "    print(\"1 - Cadastrar novo cliente\")\n",
    "    print(\"2 - Ver lista de clientes\")\n",
    "    print(\"3 - Marcar cliente como PAGO\")\n",
    "    print(\"0 - Sair do sistema\")\n",
    "\n",
    "    opcao = input(\"\\n🔂: Digite a opção desejada (0 para encerrar o sistema) > \")\n",
    "    \n",
    "    if opcao == \"0\":\n",
    "        print(\"\\n👋: Saindo do sistema... Até logo!\")\n",
    "        break\n",
    "    \n",
    "    elif opcao == \"1\":\n",
    "        nome = input(\"\\nDigite o nome do cliente > \")\n",
    "        devendo = float(input('Digite a quantia que ele está devendo > '))\n",
    "        pago = input(f'O cliente {nome} já pagou? [S/N]: ').strip().upper()\n",
    "        \n",
    "        \n",
    "        if pago == \"S\":\n",
    "            status = \"PAGO\"\n",
    "        elif pago == \"N\":\n",
    "            status = \"DEVENDO\"\n",
    "        else:\n",
    "            print(\"\\n🚫: Opção inválida. Tente novamente!\")\n",
    "        \n",
    "        lista_clientes.append({\"Nome\": nome, \"Devendo\": devendo, \"Status\": status})\n",
    "        print(f'\\n✅: Cliente \"{nome}\" cadastrado com status: {status}')\n",
    "    \n",
    "    elif opcao == \"2\":\n",
    "        if not lista_clientes:\n",
    "            print(\"\\n⚠️: Nenhum cliente cadastrado ainda!\")\n",
    "        else:\n",
    "            print(\"\\n📖: LISTA DE CLIENTES\")\n",
    "            for index, cliente in enumerate(lista_clientes):\n",
    "                print(f'* Índice: {index} | Nome: {cliente[\"Nome\"]} | Devendo: R${cliente[\"Devendo\"]:.2f} | Status: {cliente[\"Status\"]}')\n",
    "    \n",
    "    elif opcao == \"3\":\n",
    "        if not lista_clientes:\n",
    "            print(\"\\n⚠️: Nenhum cliente cadastrado ainda!\")\n",
    "        else:\n",
    "            print(\"\\n📖: LISTA DE CLIENTES\")\n",
    "            for index, cliente in enumerate(lista_clientes):\n",
    "                print(f'* Índice: {index} | Nome: {cliente[\"Nome\"]} | Devendo: R${cliente[\"Devendo\"]:.2f} | Status: {cliente[\"Status\"]} ')\n",
    "            \n",
    "            indice = int(input('\\nDigite o índice do cliente que pagou: '))\n",
    "            \n",
    "            if indice >= 0 and indice < len(lista_clientes):\n",
    "                if lista_clientes[indice][\"Status\"] == \"DEVENDO\":\n",
    "                    lista_clientes[indice][\"Status\"] = \"PAGO\"\n",
    "                    print(f'\\n✅: Cliente \"{lista_clientes[indice][\"Nome\"]}\" marcado como PAGO!')\n",
    "                else:\n",
    "                    print('\\n⚠️: Este cliente já está marcado como PAGO!')\n",
    "            else:\n",
    "                print('🚫: Índice inválido!')\n",
    "    \n",
    "    else:\n",
    "        print(\"\\n🚫:Opção inválida! Digite 0, 1, 2 ou 3.\")"
   ]
  }
 ],
 "metadata": {
  "kernelspec": {
   "display_name": "Python 3",
   "language": "python",
   "name": "python3"
  },
  "language_info": {
   "codemirror_mode": {
    "name": "ipython",
    "version": 3
   },
   "file_extension": ".py",
   "mimetype": "text/x-python",
   "name": "python",
   "nbconvert_exporter": "python",
   "pygments_lexer": "ipython3",
   "version": "3.11.9"
  }
 },
 "nbformat": 4,
 "nbformat_minor": 5
}
