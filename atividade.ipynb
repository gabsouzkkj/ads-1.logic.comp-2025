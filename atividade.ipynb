{
 "cells": [
  {
   "cell_type": "markdown",
   "metadata": {},
   "source": [
    "1. Crie um algoritmo que receba um valor em metros e converta para centímetros. (1 ponto)\n"
   ]
  },
  {
   "cell_type": "code",
   "execution_count": 1,
   "metadata": {},
   "outputs": [
    {
     "name": "stdout",
     "output_type": "stream",
     "text": [
      "1000\n"
     ]
    }
   ],
   "source": [
    "# 01\n",
    "\n",
    "metros = int(input('Insira um valor para converter a centímetros > '))\n",
    "centimetros = metros * 100\n",
    "\n",
    "print(centimetros)\n"
   ]
  },
  {
   "cell_type": "markdown",
   "metadata": {},
   "source": [
    "2. Crie um algoritmo que pergunte quanto você ganha por hora e o número de horas que você trabalha por mês, o algoritmo deve calcular e mostrar qual seu salário naquele mês. (1 ponto) "
   ]
  },
  {
   "cell_type": "code",
   "execution_count": 6,
   "metadata": {},
   "outputs": [
    {
     "name": "stdout",
     "output_type": "stream",
     "text": [
      "Seu salário é de R$1755.00 por mês!\n"
     ]
    }
   ],
   "source": [
    "ganhoHora = float(input('Insira a quantidade que você ganha por hora > '))\n",
    "nHoraspormes = float(input('Insira o número de horas trabalhadas por mês > '))\n",
    "\n",
    "calculosalario = (ganhoHora * nHoraspormes)\n",
    "\n",
    "print(f'Seu salário é de R${calculosalario:.2f} por mês!')\n"
   ]
  },
  {
   "cell_type": "markdown",
   "metadata": {},
   "source": [
    "3. Crie um algoritmo que leia uma entrada em quilômetros, e mostre quantas milhas equivalem essa quantidade em quilômetros. (1 ponto)"
   ]
  },
  {
   "cell_type": "code",
   "execution_count": null,
   "metadata": {},
   "outputs": [
    {
     "name": "stdout",
     "output_type": "stream",
     "text": [
      "O resultado é 48.28 milhas!\n"
     ]
    }
   ],
   "source": [
    "quilometros = int(input('Insira a quantidade de quilometros para mostrar quantas milhas equivalem > '))\n",
    "\n",
    "resultado = quilometros * 0.621371\n",
    "\n",
    "print(f'O resultado é {resultado} milhas.')\n"
   ]
  },
  {
   "cell_type": "markdown",
   "metadata": {},
   "source": [
    "4. Faça um algoritmo que leia um número inteiro e mostre o seu antecessor e seu sucessor. (1 ponto)"
   ]
  },
  {
   "cell_type": "code",
   "execution_count": 26,
   "metadata": {},
   "outputs": [
    {
     "name": "stdout",
     "output_type": "stream",
     "text": [
      "O número 0. O seu antecessor é -1 e sucessor é 1!\n"
     ]
    }
   ],
   "source": [
    "inteiro = int(input('Insira um número inteiro > '))\n",
    "\n",
    "print(f'O número {inteiro}. O seu antecessor é {inteiro - 1} e sucessor é {inteiro + 1}!')"
   ]
  },
  {
   "cell_type": "markdown",
   "metadata": {},
   "source": [
    "5. Zé Papo-de-Pescador, um trabalhador dedicado, comprou um\n",
    "computador para controlar o rendimento de seu trabalho diário na pesca.\n",
    "O regulamento de pesca do estado de São Paulo estabelece que o limite\n",
    "máximo de peso de peixes que pode ser capturado é de 30 quilos. Caso\n",
    "Zé pesque mais do que esse limite, ele deverá pagar uma multa de R$\n",
    "3,00 por cada quilo excedente.\n",
    "\n",
    "Crie um algoritmo que leia o peso total dos peixes capturados e calcule:\n",
    "- O excesso de peso (a quantidade de quilos que ultrapassam o\n",
    "limite de 30 quilos).\n",
    "\n",
    "- O valor da multa, que será calculado multiplicando o excesso de\n",
    "peso por R$ 3,00.\n",
    "\n",
    "O algoritmo deve exibir na tela as informações sobre o peso total, o\n",
    "excesso e o valor da multa que Zé deverá pagar, caso haja algum\n",
    "excedente. (1 ponto)\n"
   ]
  },
  {
   "cell_type": "code",
   "execution_count": 13,
   "metadata": {},
   "outputs": [
    {
     "name": "stdout",
     "output_type": "stream",
     "text": [
      "Você está dentro do peso, não receberá multa!\n"
     ]
    }
   ],
   "source": [
    "limiteMax = 30\n",
    "multaPorKg = 3\n",
    "peso_total = float(input('Insira o peso total dos peixes > '))\n",
    "\n",
    "multaValor = (peso_total * multaPorKg) - limiteMax\n",
    "\n",
    "if peso_total >= limiteMax:\n",
    "    print(f'Você passou do limite, o valor da multa é de R${multaValor:.2f}!')\n",
    "else:\n",
    "    print('Você está dentro do peso, não receberá multa!')"
   ]
  },
  {
   "cell_type": "markdown",
   "metadata": {},
   "source": [
    "6. Um motorista deseja colocar no seu tanque X reais de gasolina. Escreva\n",
    "um algoritmo para ler o preço do litro da gasolina e o valor do\n",
    "pagamento, e exibir quantos litros ele conseguiu colocar no tanque. (1\n",
    "ponto)"
   ]
  },
  {
   "cell_type": "code",
   "execution_count": 18,
   "metadata": {},
   "outputs": [
    {
     "name": "stdout",
     "output_type": "stream",
     "text": [
      "O pagamento foi realizado, foram 15.75 litros!\n"
     ]
    }
   ],
   "source": [
    "precoGasolina = 6.35\n",
    "litros = float(input('A gasolina atualmente custa 6,35 reais. Qual é o valor que você está disposto a pagar por litro? > '))\n",
    "\n",
    "calculo = litros / precoGasolina\n",
    "\n",
    "print(f'O pagamento foi realizado, foram {calculo:.2f} litros!')"
   ]
  },
  {
   "cell_type": "markdown",
   "metadata": {},
   "source": [
    "7. Crie um algoritmo que receba quanto você ganha por hora e quantas\n",
    "horas trabalhou no mês. O algoritmo deve calcular e mostrar o seu\n",
    "salário no referido mês, sabendo que serão descontados 11% do\n",
    "Imposto de Renda (IR) e mais 8% do INSS. No final o algoritmo deve\n",
    "apresentar: (2 pontos)\n",
    "\n",
    "- a. Salário bruto\n",
    "- b. Valor do imposto de renda\n",
    "- c. Valor do INSS\n",
    "- d. Salário líquido (líquido = bruto – impostos)\n"
   ]
  },
  {
   "cell_type": "code",
   "execution_count": null,
   "metadata": {},
   "outputs": [
    {
     "name": "stdout",
     "output_type": "stream",
     "text": [
      "Os valores de acordo com os descontos de imposto de renda, inss é de:\n",
      "Sálario bruto: 1773.0\n",
      "Valor descontado [IR]: 195.03\n",
      "Valor descontado: [INSS]: 141.84\n",
      "Valor final descontado: 1436.13\n"
     ]
    }
   ],
   "source": [
    "ganhoHora = float(input('Insira o quanto você ganha por hora > '))\n",
    "ganhoHorasMes = int(input('Insira quantas horas você trabalho no mês > '))\n",
    "\n",
    "salarioBruto = ganhoHora * ganhoHorasMes\n",
    "valorImposto = salarioBruto * 0.11\n",
    "inss = salarioBruto * 0.08\n",
    "salarioLiquido = salarioBruto - valorImposto - inss\n",
    "\n",
    "print(f'Os valores de acordo com os descontos de imposto de renda, inss é de:')\n",
    "print(f'Sálario bruto: {salarioBruto}')\n",
    "print(f'Valor descontado [IR]: {valorImposto}')\n",
    "print(f'Valor descontado: [INSS]: {inss}')\n",
    "print(f'Valor final descontado: {salarioLiquido}')\n"
   ]
  },
  {
   "cell_type": "markdown",
   "metadata": {},
   "source": [
    "Você foi contratado pela Unimar para auxiliar na reforma dos blocos, \n",
    "ajudando na otimização dos custos com pintura. Para isso, desenvolva \n",
    "um programa que calcule a quantidade de tinta necessária e o custo \n",
    "total da compra. (2 pontos) \n",
    "O programa deve: \n",
    "- Solicitar ao usuário o tamanho da área a ser pintada (em metros \n",
    "quadrados). \n",
    "- Considerar que 1 litro de tinta cobre 3 m². \n",
    "- As tintas são vendidas em latas de 18 litros, e cada lata custa R$ \n",
    "80,00. \n",
    "- Calcular a quantidade total de latas necessárias (arredondando \n",
    "para cima, se necessário). \n",
    "- Informar ao usuário a quantidade de latas a serem compradas e o \n",
    "custo total da compra. \n",
    "- O objetivo do programa é fornecer informações precisas para \n",
    "facilitar a tomada de decisão sobre a compra da tinta."
   ]
  },
  {
   "cell_type": "code",
   "execution_count": null,
   "metadata": {},
   "outputs": [
    {
     "name": "stdout",
     "output_type": "stream",
     "text": [
      "Para pintar área pintada decidida pelo usuário, é de 800.00m2, sendo necessário 14.81 latas de tinta. Com o prelo de 1185.1851851851852\n"
     ]
    }
   ],
   "source": [
    "areaPintada = float(input('Insira em metros quadrados o tamanho da área pintada > '))\n",
    "divisaoPreco = areaPintada / 3\n",
    "quantidade = divisaoPreco / 18\n",
    "\n",
    "print(f'Para pintar área pintada decidida pelo usuário, é de {areaPintada:.2f}m2, sendo necessário {quantidade:.2f}L de latas de tinta. Com o preço de {quantidade * 80} reais') "
   ]
  }
 ],
 "metadata": {
  "kernelspec": {
   "display_name": "Python 3",
   "language": "python",
   "name": "python3"
  },
  "language_info": {
   "codemirror_mode": {
    "name": "ipython",
    "version": 3
   },
   "file_extension": ".py",
   "mimetype": "text/x-python",
   "name": "python",
   "nbconvert_exporter": "python",
   "pygments_lexer": "ipython3",
   "version": "3.12.4"
  }
 },
 "nbformat": 4,
 "nbformat_minor": 2
}
