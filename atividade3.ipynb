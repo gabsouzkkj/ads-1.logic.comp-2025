{
 "cells": [
  {
   "cell_type": "markdown",
   "metadata": {},
   "source": [
    "1. Elabore um programa que peça ao usuário para digitar um número inteiro e positivo. O programa deve então exibir na tela todos os números de 1 até o número informado."
   ]
  },
  {
   "cell_type": "code",
   "execution_count": 6,
   "metadata": {},
   "outputs": [
    {
     "name": "stdout",
     "output_type": "stream",
     "text": [
      "1\n",
      "2\n",
      "3\n",
      "4\n",
      "5\n",
      "6\n",
      "7\n",
      "8\n",
      "9\n",
      "10\n"
     ]
    }
   ],
   "source": [
    "numeroInteiro = int(input('Insira um número inteiro e positivo > '))\n",
    "\n",
    "for numero in range(1, numeroInteiro + 1):\n",
    "    print(numero)\n"
   ]
  },
  {
   "cell_type": "markdown",
   "metadata": {},
   "source": [
    "2. Crie um programa que solicite ao usuário: \n",
    "\n",
    "* Um valor inicial, um valor final e um incremento.\n",
    "\n",
    "Depois, o programa deve contar do valor inicial até o valor final, pulando de \n",
    "acordo com o incremento informado, e mostrar os valores na tela. "
   ]
  },
  {
   "cell_type": "code",
   "execution_count": 8,
   "metadata": {},
   "outputs": [
    {
     "name": "stdout",
     "output_type": "stream",
     "text": [
      "0 10 20 30 40 50 60 70 80 90 "
     ]
    }
   ],
   "source": [
    "valorInicial = int(input('Insira um número inicial > '))\n",
    "valorFinal = int(input('Insira um número para o final > '))\n",
    "valorIncremento = int(input('Insira um valor incremento > '))\n",
    "\n",
    "for programa in range(valorInicial, valorFinal, valorIncremento):\n",
    "    print(programa, end=\" \")"
   ]
  },
  {
   "cell_type": "markdown",
   "metadata": {},
   "source": [
    "3. Desenvolva um programa que peça ao usuário para digitar um número \n",
    "inteiro. Em seguida, o programa deve exibir a tabuada desse número de \n",
    "1 até 10. "
   ]
  },
  {
   "cell_type": "code",
   "execution_count": null,
   "metadata": {},
   "outputs": [
    {
     "name": "stdout",
     "output_type": "stream",
     "text": [
      "1 x 10 = 10\n",
      "2 x 10 = 20\n",
      "3 x 10 = 30\n",
      "4 x 10 = 40\n",
      "5 x 10 = 50\n",
      "6 x 10 = 60\n",
      "7 x 10 = 70\n",
      "8 x 10 = 80\n",
      "9 x 10 = 90\n",
      "10 x 10 = 100\n"
     ]
    }
   ],
   "source": [
    "numero = int(input('Insira um número para a tabuada > '))\n",
    "\n",
    "for programa in range(1, 11):\n",
    "    print(f'{programa} x {numero} = {programa * numero}')"
   ]
  },
  {
   "cell_type": "markdown",
   "metadata": {},
   "source": [
    "4. Faça um programa que solicite ao usuário que digite 5 números inteiros. \n",
    "Ao final, o programa deve exibir a soma de todos os números digitados."
   ]
  },
  {
   "cell_type": "code",
   "execution_count": 25,
   "metadata": {},
   "outputs": [
    {
     "name": "stdout",
     "output_type": "stream",
     "text": [
      "A soma total da sequência numérica foi de: 150!\n"
     ]
    }
   ],
   "source": [
    "somaTotal = 0\n",
    "sequencia = 0\n",
    "\n",
    "for programa in range(1, 6):\n",
    "    numero = int(input(f'Insira o {sequencia + 1} número > '))\n",
    "    somaTotal += numero\n",
    "    sequencia += 1\n",
    "\n",
    "print(f'A soma total da sequência numérica foi de: {somaTotal}!')"
   ]
  },
  {
   "cell_type": "markdown",
   "metadata": {},
   "source": [
    "5. Escreva um programa que leia 10 números inteiros e: \n",
    "\n",
    "* ○ Conte quantos desses números são maiores que 50. \n",
    "\n",
    "* ○ Exiba a quantidade ao final. "
   ]
  },
  {
   "cell_type": "code",
   "execution_count": 30,
   "metadata": {},
   "outputs": [
    {
     "name": "stdout",
     "output_type": "stream",
     "text": [
      "Dentro dos 50 números, 10 são maiores ou iguais a 50\n",
      "Dentro de todos os números, os números menores são 1 e números maiores são 9!\n"
     ]
    }
   ],
   "source": [
    "sequencia = 0\n",
    "maior = 0\n",
    "menor = 0\n",
    "\n",
    "for programa in range(1, 11):\n",
    "    numero = int(input(f'Insira o {sequencia + 1}'))\n",
    "    sequencia += 1\n",
    "\n",
    "    if numero >= 50:\n",
    "        maior += 1\n",
    "    elif numero <= 50 :\n",
    "        menor += 1\n",
    "\n",
    "if numero >= 50:\n",
    "    print(f'Dentro dos {numero} números, {sequencia} são maiores ou iguais a 50')\n",
    "else:\n",
    "    print(f'Dentro dos {sequencia} números, {sequencia} são menores!')\n",
    "\n",
    "print(f'Dentro de todos os números, os números menores são {menor} e números maiores são {maior}!')"
   ]
  },
  {
   "cell_type": "markdown",
   "metadata": {},
   "source": [
    "6. Uma equipe de atletas está sendo avaliada para uma competição. A altura de 7 atletas foi medida. \n",
    "Crie um programa que: \n",
    "* A. Leia a altura de cada atleta. \n",
    "\n",
    "* B. Conte quantos atletas têm altura superior a 1,90m. \n",
    "\n",
    "* C. Exiba o total ao final."
   ]
  },
  {
   "cell_type": "code",
   "execution_count": null,
   "metadata": {},
   "outputs": [
    {
     "name": "stdout",
     "output_type": "stream",
     "text": [
      "De acordo com 7 atletlas, 3 tem a altura menor que 1.90!\n",
      "Dentro de todos os atletas, 4 atletas tem altura maior que 1.90 e os outros 3 atletas tem altura menor que 1.90!\n"
     ]
    }
   ],
   "source": [
    "sequencia = 0\n",
    "maior = 0\n",
    "menor = 0\n",
    "for competicao in range(1, 8):\n",
    "    alturaAtleta = float(input(f'Insira a altura do {sequencia + 1} atleta (em metros)> '))\n",
    "    sequencia += 1\n",
    "\n",
    "    if alturaAtleta >= 1.90:\n",
    "        maior += 1\n",
    "    elif alturaAtleta <= 1.89 :\n",
    "        menor += 1\n",
    "    \n",
    "if alturaAtleta >= 1.90:\n",
    "    print(f'De acordo com 7 atletas, {maior} tem a altura superior que 1.90!')\n",
    "elif alturaAtleta <= 1.89 :\n",
    "    print(f'De acordo com 7 atletas, {menor} tem a altura inferior que 1.90!')\n",
    "\n",
    "print(f'Dentro de todos os atletas, {maior} atletas tem altura superior que 1.90 e os outros {menor} atletas tem altura inferior que 1.90!')\n"
   ]
  },
  {
   "cell_type": "markdown",
   "metadata": {},
   "source": [
    "\n",
    "7)\tEm uma sala com 5 alunos, suas notas foram registradas. O Exiba: \n",
    "* A.\tA maior nota. \n",
    "\n",
    "* B.\tA menor nota. \n",
    "\n",
    "* C.\tA média da turma. \n"
   ]
  },
  {
   "cell_type": "code",
   "execution_count": null,
   "metadata": {},
   "outputs": [
    {
     "name": "stdout",
     "output_type": "stream",
     "text": [
      "⚠️: Atenção: A nota 11.0 do 4. aluno é inválida.\n",
      "⚠️: Verifique acima e reescreva elas. Pois elas estão fora do intervalo de 0 a 10!\n"
     ]
    }
   ],
   "source": [
    "maior = -1\n",
    "menor = 11\n",
    "somaTotal = 0\n",
    "notas_invalidas = False \n",
    "\n",
    "for sequencia in range(1, 6):\n",
    "    nota = float(input(f'Insira a nota do {sequencia}. aluno: '))\n",
    "\n",
    "    if nota > 10 or nota < 0:\n",
    "        print(f'⚠️: Atenção: A nota {nota} do {sequencia}. aluno é inválida.')\n",
    "        notas_invalidas = True\n",
    "    else:\n",
    "        somaTotal += nota\n",
    "        if nota > maior:\n",
    "            maior = nota\n",
    "        if nota < menor:\n",
    "            menor = nota\n",
    "\n",
    "if notas_invalidas:\n",
    "    print('⚠️: Verifique acima e reescreva elas. Pois elas estão fora do intervalo de 0 a 10!')\n",
    "else:\n",
    "    media = somaTotal / 5\n",
    "    print(f'A média da sala foi de: {media:.2f}')\n",
    "    print(f'A maior nota foi: {maior:.2f}')\n",
    "    print(f'A menor nota foi: {menor:.2f}')"
   ]
  }
 ],
 "metadata": {
  "kernelspec": {
   "display_name": "Python 3",
   "language": "python",
   "name": "python3"
  },
  "language_info": {
   "codemirror_mode": {
    "name": "ipython",
    "version": 3
   },
   "file_extension": ".py",
   "mimetype": "text/x-python",
   "name": "python",
   "nbconvert_exporter": "python",
   "pygments_lexer": "ipython3",
   "version": "3.13.3"
  }
 },
 "nbformat": 4,
 "nbformat_minor": 2
}
