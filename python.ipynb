{
  "cells": [
    {
      "cell_type": "markdown",
      "metadata": {
        "id": "vkNJdaakl9X7"
      },
      "source": [
        "## 01 - Entrada e Saída de Dados"
      ]
    },
    {
      "cell_type": "markdown",
      "metadata": {
        "id": "_mGIss-OmKVy"
      },
      "source": [
        "## Primeiros passos com Python\n",
        "\n",
        "No Python, assim como as demais linguagens, temos a forma correta de escrever os comandos. Isso é chamado de **sintaxe**. Cada comando, existe sua sintaxe correta de escrita, caso contrário, apresentará um erro."
      ]
    },
    {
      "cell_type": "code",
      "execution_count": null,
      "metadata": {
        "colab": {
          "base_uri": "https://localhost:8080/"
        },
        "id": "4T0h61ANopre",
        "outputId": "4f27867c-8bce-442d-82d1-a98c518cc1e7"
      },
      "outputs": [
        {
          "name": "stdout",
          "output_type": "stream",
          "text": [
            "The Zen of Python, by Tim Peters\n",
            "\n",
            "Beautiful is better than ugly.\n",
            "Explicit is better than implicit.\n",
            "Simple is better than complex.\n",
            "Complex is better than complicated.\n",
            "Flat is better than nested.\n",
            "Sparse is better than dense.\n",
            "Readability counts.\n",
            "Special cases aren't special enough to break the rules.\n",
            "Although practicality beats purity.\n",
            "Errors should never pass silently.\n",
            "Unless explicitly silenced.\n",
            "In the face of ambiguity, refuse the temptation to guess.\n",
            "There should be one-- and preferably only one --obvious way to do it.\n",
            "Although that way may not be obvious at first unless you're Dutch.\n",
            "Now is better than never.\n",
            "Although never is often better than *right* now.\n",
            "If the implementation is hard to explain, it's a bad idea.\n",
            "If the implementation is easy to explain, it may be a good idea.\n",
            "Namespaces are one honking great idea -- let's do more of those!\n"
          ]
        }
      ],
      "source": [
        "import this"
      ]
    },
    {
      "cell_type": "markdown",
      "metadata": {
        "id": "128INtAnoPYd"
      },
      "source": [
        "## Saída de dados\n",
        "\n",
        "O comando responsável por **exibir** informações para o usuário no Python é o `print`. Em pseudocódigo, lemos como `escreva`.\n",
        "\n",
        "Exemplo em pseudocógido: `escreva(\"Olá mundo!\")`\n",
        "\n",
        "Exemplo em Python: `print('Olá mundo')`"
      ]
    },
    {
      "cell_type": "code",
      "execution_count": null,
      "metadata": {
        "colab": {
          "base_uri": "https://localhost:8080/"
        },
        "id": "vYZYcDeDrrI_",
        "outputId": "f148b112-5e03-4d1b-b07c-e24922ee6544"
      },
      "outputs": [
        {
          "name": "stdout",
          "output_type": "stream",
          "text": [
            "Olá mundo!\n"
          ]
        }
      ],
      "source": [
        "print('Olá mundo!')"
      ]
    },
    {
      "cell_type": "markdown",
      "metadata": {
        "id": "P7PGgww9ruzl"
      },
      "source": [
        "## Entrada de dados\n",
        "\n",
        "Já o comando de entrada de dados, responsável por ler as informações digitadas pelo usuário, é o `input`. Em pseudocódigo, é lido como `leia`.\n",
        "\n",
        "Exemplo em pseudocódigo: `leia()`\n",
        "\n",
        "Exemplo em Python: `input()`\n",
        "\n",
        "Faça abaixo o código em Python:"
      ]
    },
    {
      "cell_type": "code",
      "execution_count": null,
      "metadata": {
        "colab": {
          "base_uri": "https://localhost:8080/"
        },
        "id": "0bwD6L1XsQ6O",
        "outputId": "f7d3e724-a552-4d02-8dfe-8e4558867a18"
      },
      "outputs": [
        {
          "data": {
            "text/plain": [
              "'Unimar'"
            ]
          },
          "execution_count": 13,
          "metadata": {},
          "output_type": "execute_result"
        }
      ],
      "source": [
        "input('Qual sua faculdade?')"
      ]
    },
    {
      "cell_type": "markdown",
      "metadata": {
        "id": "Ybha8_o3u45N"
      },
      "source": [
        "## 02 - Variáveis"
      ]
    },
    {
      "cell_type": "markdown",
      "metadata": {
        "id": "kfkJTQ7hvIp1"
      },
      "source": [
        "## Conceito\n",
        "\n",
        "Na computação, temos as variáveis. Variáveis, são posições na memória que sofrem alteração de valor.\n",
        "\n",
        "Ou seja, se você guardou um valor em uma variável, como um nome, uma idade, ele pode ser alterado posteriormente pois é possível essa volatilidade de seu valor.\n",
        "\n",
        "Para declarar uma variável, e armazenar um valor, é usado o sinal de = (igual).\n",
        "\n",
        "No Python, o tipo da variável é concebido de forma dinâmica, ou seja, no ato da atribuição de um valor."
      ]
    },
    {
      "cell_type": "markdown",
      "metadata": {
        "id": "nBeCp-XkyXz9"
      },
      "source": [
        "## Padrões\n",
        "\n",
        "Existem alguns padrões de declaração de variáveis, os mais comuns são:\n",
        "\n",
        "* unimarUniversidade = camelCase\n",
        "* UnimarUniversidade = PascalCase\n",
        "* unimar_universidade = snake_case"
      ]
    },
    {
      "cell_type": "code",
      "execution_count": null,
      "metadata": {
        "id": "3slG4FQryu2e"
      },
      "outputs": [],
      "source": [
        "nome = 'Nicollas' #normal\n",
        "nomePessoa = 'Nicollas' #camelCase\n",
        "NomePessoa = 'Nicollas' #PascalCase\n",
        "nome_pessoa = 'Nicollas' #snake_case"
      ]
    },
    {
      "cell_type": "markdown",
      "metadata": {
        "id": "pun5erMN0Qmd"
      },
      "source": [
        "Acima temos um exemplo de **atribuição** a uma variável, o valor 'Nicollas'.\n",
        "\n",
        "Podemos ler da seguinte maneira o comando: A variável `nome` recebe o valor de **Nicollas**.\n",
        "\n",
        "As aspas indicam que ela é do tipo texto.\n",
        "\n",
        "Com o que vimos, como podemos mostrar uma saudação para a pessoa que inseriou o nome na variável?"
      ]
    },
    {
      "cell_type": "code",
      "execution_count": null,
      "metadata": {
        "colab": {
          "base_uri": "https://localhost:8080/"
        },
        "id": "c918eOfb07NO",
        "outputId": "6669647d-6748-45cc-a841-fe4e4f924d9a"
      },
      "outputs": [
        {
          "name": "stdout",
          "output_type": "stream",
          "text": [
            "Olá Nicollas\n",
            "Olá Nicollas\n",
            "Olá Nicollas\n",
            "Olá Nicollas\n"
          ]
        }
      ],
      "source": [
        "print('Olá', nome)\n",
        "print('Olá', nomePessoa)\n",
        "print('Olá', NomePessoa)\n",
        "print('Olá', nome_pessoa)"
      ]
    },
    {
      "cell_type": "markdown",
      "metadata": {
        "id": "PiJKzTQJ13pm"
      },
      "source": [
        "## Concatenar\n",
        "\n",
        "Para juntarmos um conteúdo de texto variáveis, ou apenas variáveis com variáveis, usa-se a concatenação, simbolizada pela vírgula. Isso dita ao Python que você quer juntar/unir os valores.\n",
        "\n",
        "Exemplo com mais texto:"
      ]
    },
    {
      "cell_type": "code",
      "execution_count": null,
      "metadata": {
        "colab": {
          "base_uri": "https://localhost:8080/"
        },
        "id": "iPJCSLVA3c_M",
        "outputId": "38e1a18f-a535-4e9e-c124-2de6d9491a02"
      },
      "outputs": [
        {
          "name": "stdout",
          "output_type": "stream",
          "text": [
            "Olá Nicollas bem-vindo à Unimar!\n"
          ]
        }
      ],
      "source": [
        "print('Olá', nome, 'bem-vindo à Unimar!')"
      ]
    },
    {
      "cell_type": "markdown",
      "metadata": {
        "id": "WvR7P0UT3l8d"
      },
      "source": [
        "## Declaração\n",
        "\n",
        "Quando declaramos uma variável, temos que nos atentar na forma como declaramos as variáveis. Existe a sintaxe correta de declarações para tal.\n",
        "\n",
        "* sem espaços\n",
        "* não começar com números\n",
        "* sem usar caracteres especias/acentos\n",
        "* não usar palavras reservadas\n",
        "\n",
        "1. nota_1 - OK\n",
        "2. Média final - ACENTO E ESPAÇO\n",
        "3. Nome_Func - OK\n",
        "4. A - OK\n",
        "5. 123 - COMEÇA COM NÚMERO\n",
        "6. 1x - COMEÇA COM NÚMERO\n",
        "7. X1 - OK\n",
        "8. Código! - ACENTO E CARACTERE ESPECIAL\n",
        "9. Cod Cliente - ESPAÇO\n",
        "10. Y*X - CARACTERE ESPECIAL\n",
        "11. NOTA+2 - CARACTERE ESPECIAL"
      ]
    },
    {
      "cell_type": "markdown",
      "metadata": {
        "id": "9CUkyEZZF25s"
      },
      "source": [
        "## Tipos de dados\n",
        "\n",
        "Em Python, o tipo de uma variável não precisa ser declarado explicitamente antes de usar a variável. Python é uma linguagem de tipagem dinâmica, o que significa que o tipo de uma variável é inferido automaticamente com base no valor que ela recebe.\n",
        "\n",
        "Quando você atribui um valor a uma variável em Python, o interpretador determina o tipo dessa variável com base no tipo do valor atribuído. Exemplo\n"
      ]
    },
    {
      "cell_type": "markdown",
      "metadata": {
        "id": "vy4OPchJHJuV"
      },
      "source": [
        "`str`: representa uma cadeia de caracteres, ou seja, textos de forma geral:\n",
        "\n",
        "str = string = cadeia\n",
        "\n",
        "* 'Unimar - Universidade de Marília'\n",
        "* 'Nicollas'\n",
        "* 'Python'\n",
        "* '123'\n",
        "\n",
        "`int`: representa números inteiros\n",
        "\n",
        "int = interger = inteiro\n",
        "\n",
        "* 1\n",
        "* 50\n",
        "* -3\n",
        "\n",
        "`float`: representa números de ponto flutuante, ou seja, números com casas decimais\n",
        "\n",
        "float = floating = real\n",
        "\n",
        "* 3.14\n",
        "* -0.24\n",
        "* 145.6"
      ]
    },
    {
      "cell_type": "code",
      "execution_count": null,
      "metadata": {
        "colab": {
          "base_uri": "https://localhost:8080/"
        },
        "id": "rAsSchOUIsEk",
        "outputId": "a1153c56-743c-4ad7-a150-49818151b298"
      },
      "outputs": [
        {
          "name": "stdout",
          "output_type": "stream",
          "text": [
            "<class 'str'>\n",
            "<class 'int'>\n",
            "<class 'float'>\n"
          ]
        }
      ],
      "source": [
        "nomeAluno = 'StartUP'\n",
        "idade = 19\n",
        "altura = 1.90\n",
        "\n",
        "print(type(nome))\n",
        "print(type(idade))\n",
        "print(type(altura))"
      ]
    },
    {
      "cell_type": "code",
      "execution_count": null,
      "metadata": {
        "colab": {
          "base_uri": "https://localhost:8080/"
        },
        "id": "24n7X5tKLQDM",
        "outputId": "02f90e30-6869-42e6-db7a-fd838efbb7cc"
      },
      "outputs": [
        {
          "name": "stdout",
          "output_type": "stream",
          "text": [
            "Jefferson\n"
          ]
        }
      ],
      "source": [
        "print(nomeAluno)"
      ]
    },
    {
      "cell_type": "code",
      "execution_count": null,
      "metadata": {
        "colab": {
          "base_uri": "https://localhost:8080/"
        },
        "id": "2tDubdgjKzIE",
        "outputId": "10d43fd6-07e1-40fe-e2c6-2686e3424dcb"
      },
      "outputs": [
        {
          "name": "stdout",
          "output_type": "stream",
          "text": [
            "Digite o seu nome: Neymar\n",
            "Digite sua idade: 33\n",
            "Digite sua altura: 1.65\n"
          ]
        }
      ],
      "source": [
        "nomeAluno = input('Digite o seu nome: ')\n",
        "idade = input('Digite sua idade: ')\n",
        "altura = input('Digite sua altura: ')"
      ]
    },
    {
      "cell_type": "markdown",
      "metadata": {
        "id": "aD6BsY-zwfbA"
      },
      "source": [
        "Ao concatenar valores, tanto o sinal de vírgula `(,)` tanto como o sinal de `+` funcionam como strings (textos).\n",
        "\n",
        "O operador `+` só pode ser usado entre strings e faz uma concatenação sem adicionar espaços automaticamente. Já a vírgula pode-se usar com outros tipos de dados, e adiciona um espaço automaticamente.\n",
        "\n",
        "Porém, ao usar o sinal de `+` entre uma string e uma variável de tipo numeral, irá ocorrer um erro."
      ]
    },
    {
      "cell_type": "code",
      "execution_count": null,
      "metadata": {
        "id": "g_MHmIuuwfbA",
        "outputId": "936dd9dc-137b-4545-a9ed-f0ede69d37d9"
      },
      "outputs": [
        {
          "name": "stdout",
          "output_type": "stream",
          "text": [
            "Olá, Lucas. Você possui umaFerrari.\n",
            "Olá, Lucas. Você possui 38 anos.\n"
          ]
        }
      ],
      "source": [
        "nomeProfessor = 'Lucas' #string\n",
        "idadeProf = 38 #int\n",
        "carroProf = 'Ferrari'\n",
        "\n",
        "# print('olá,' + nomeProfessor + '. Você possui' + idadeProf 'anos.')\n",
        "print('Olá, ' + nomeProfessor + '. Você possui uma' + carroProf + '.')\n",
        "print('Olá,', nomeProfessor + '. Você possui', idadeProf, 'anos.')"
      ]
    },
    {
      "cell_type": "markdown",
      "metadata": {
        "id": "CRUsJzk4wfbA"
      },
      "source": [
        "## Atividade - Entrada e Saída"
      ]
    },
    {
      "cell_type": "markdown",
      "metadata": {
        "id": "SK3WHtmswfbA"
      },
      "source": [
        "1 - Peça ao usuário que digite seu time do coração e exiba uma mensagem qualquer.\n",
        "\n",
        "Exemplo:\n",
        "\n",
        "Entrada: MAC\n",
        "\n",
        "Saída: Top! O MAC é o melhor do mundo!\n"
      ]
    },
    {
      "cell_type": "code",
      "execution_count": null,
      "metadata": {
        "id": "h7TB10NhwfbA",
        "outputId": "612dd97b-060f-44de-d64d-3d8b18f21db2"
      },
      "outputs": [
        {
          "name": "stdout",
          "output_type": "stream",
          "text": [
            "Top! O MAC é o melhor do mundo!\n",
            "Top! O MAC é o melhor do mundo!\n",
            "Top! O MAC é o melhor do mundo!\n"
          ]
        }
      ],
      "source": [
        "seuTime = input('Qual o seu time de coração?')\n",
        "\n",
        "print('Top! O', seuTime, 'é o melhor do mundo!')\n",
        "print('Top! O ' + seuTime + ' é o melhor do mundo!')\n",
        "print(f'Top! O {seuTime} é o melhor do mundo!')"
      ]
    },
    {
      "cell_type": "markdown",
      "metadata": {
        "id": "R4L9MwBJwfbA"
      },
      "source": [
        "2 - Peça ao usuário para digitar sua comida favorita.\n",
        "\n",
        "Exemplo:\n",
        "\n",
        "Entrada: Lasanha\n",
        "\n",
        "Saída: Lasanha é bão mesmo!"
      ]
    },
    {
      "cell_type": "code",
      "execution_count": null,
      "metadata": {
        "id": "RrZQz4DxwfbA",
        "outputId": "f0e2f5e2-1818-4994-8696-bfb30fe26887"
      },
      "outputs": [
        {
          "name": "stdout",
          "output_type": "stream",
          "text": [
            "Lasanha é bão mesmo!\n",
            "Lasanha é bão mesmo!\n",
            "Lasanha é bão mesmo!\n"
          ]
        }
      ],
      "source": [
        "suaComida = input('Qual a sua comida favorita?')\n",
        "\n",
        "print(suaComida, 'é bão mesmo!')\n",
        "print(suaComida + ' é bão mesmo!')\n",
        "print(f'{suaComida} é bão mesmo!')"
      ]
    },
    {
      "cell_type": "markdown",
      "metadata": {
        "id": "4QmL-AAUwfbA"
      },
      "source": [
        "3 - Peça para o usuário para digitar uma palavra e um número. Depois, exiba uma senha personalizada.\n",
        "\n",
        "Exemplo:\n",
        "\n",
        "Entrada: Gato e 123\n",
        "\n",
        "Saída: Sua nova senha é Gato123"
      ]
    },
    {
      "cell_type": "code",
      "execution_count": null,
      "metadata": {
        "id": "aDcy9f5QwfbA",
        "outputId": "5be1ee48-2384-4b86-8d4f-7a2dc63fa7c9"
      },
      "outputs": [
        {
          "name": "stdout",
          "output_type": "stream",
          "text": [
            "Sua nova senha é Macaco22\n",
            "Sua nova senha é Macaco22\n"
          ]
        }
      ],
      "source": [
        "suaPalavra = input('Digite a palavra desejada:')\n",
        "seuNum = input('Digite o número desejado:')\n",
        "\n",
        "print('Sua nova senha é', suaPalavra + seuNum)\n",
        "print(f'Sua nova senha é {suaPalavra}{seuNum}')"
      ]
    },
    {
      "cell_type": "markdown",
      "metadata": {
        "id": "3axQIOdOwfbA"
      },
      "source": [
        "4 - Peça ao usuário para digitar um nome e uma profissão fictícia para um personagem.\n",
        "\n",
        "Exemplo:\n",
        "\n",
        "Entrada: Robscleyton / Manobrista de Nave\n",
        "\n",
        "Saída: Robscleyton é um grande manobrista de nave."
      ]
    },
    {
      "cell_type": "code",
      "execution_count": null,
      "metadata": {
        "id": "XoVJTGC-wfbA",
        "outputId": "ca8c3d03-81df-4a58-ab1c-d11b2b0cf86c"
      },
      "outputs": [
        {
          "name": "stdout",
          "output_type": "stream",
          "text": [
            "Plinio é um grande urologista.\n"
          ]
        }
      ],
      "source": [
        "seuNome = input('Digite o nome de seu personagem')\n",
        "seuJob = input('Digite o trabalho de seu personagem')\n",
        "\n",
        "print(seuNome.title(), 'é um grande', seuJob.lower() + '.')"
      ]
    },
    {
      "cell_type": "markdown",
      "metadata": {
        "id": "xnD-fLvkwfbA"
      },
      "source": [
        "## 3. Operações"
      ]
    },
    {
      "cell_type": "markdown",
      "metadata": {
        "id": "Sxo6T8AMwfbB"
      },
      "source": [
        "**Hierarquia dos Operadore**\n",
        "\n",
        "1. Parêntese ();\n",
        "2. Multiplicação e Divisão (* e /)\n",
        "3. Soma e Subtração (+ e -)"
      ]
    },
    {
      "cell_type": "code",
      "execution_count": null,
      "metadata": {
        "id": "QG-0x1UNwfbB"
      },
      "outputs": [],
      "source": [
        "print(1 + 1) #soma"
      ]
    },
    {
      "cell_type": "code",
      "execution_count": null,
      "metadata": {
        "id": "4Zzi1y70wfbB"
      },
      "outputs": [],
      "source": [
        "print(5 * 5) #multiplicação"
      ]
    },
    {
      "cell_type": "code",
      "execution_count": null,
      "metadata": {
        "id": "FVlzWx0rwfbB"
      },
      "outputs": [],
      "source": [
        "print(2 ** 2) #potenciação"
      ]
    },
    {
      "cell_type": "code",
      "execution_count": null,
      "metadata": {
        "id": "DR8XM1-0wfbB"
      },
      "outputs": [],
      "source": [
        "print(25 // 5) #divisão inteira"
      ]
    },
    {
      "cell_type": "code",
      "execution_count": null,
      "metadata": {
        "id": "163ElIuXwfbB"
      },
      "outputs": [],
      "source": [
        "print(25 % 5) #módulo (resto da divisão)"
      ]
    },
    {
      "cell_type": "markdown",
      "metadata": {
        "id": "08EkJPjkwfbE"
      },
      "source": [
        "# Exercícios - Operadores Aritméticos\n",
        "![image.png](attachment:image.png)"
      ]
    },
    {
      "cell_type": "markdown",
      "metadata": {
        "id": "z0rgcxPPwfbE"
      },
      "source": [
        "01 - Faça um algoritmo que leia dois valores inteiros e positivos. Ao fim, exiba a some destes valores ao usuário:"
      ]
    },
    {
      "cell_type": "code",
      "execution_count": null,
      "metadata": {
        "id": "447gu0vOwfbE",
        "outputId": "7c671ba2-4120-4a43-fbfa-065d835eb308"
      },
      "outputs": [
        {
          "name": "stdout",
          "output_type": "stream",
          "text": [
            "A soma dos dois valores é: 30\n"
          ]
        }
      ],
      "source": [
        "num1 = int(input('Digite um número inteiro'))\n",
        "num2 = int(input('Digite outro número inteiro, iremos somá-lo ao primeiro.'))\n",
        "\n",
        "numSoma = num1 + num2\n",
        "\n",
        "print(f'A soma dos dois valores é: {numSoma}')"
      ]
    },
    {
      "cell_type": "markdown",
      "metadata": {
        "id": "EvKzz2rNwfbE"
      },
      "source": [
        "02 - Faça um algoritmo que leia um número inteiro positivo e calcule o dobro deste número"
      ]
    },
    {
      "cell_type": "code",
      "execution_count": null,
      "metadata": {
        "id": "RXq6quNQwfbE",
        "outputId": "adbf4f4a-56a9-4ff7-b3f2-cf4014d866d1"
      },
      "outputs": [
        {
          "name": "stdout",
          "output_type": "stream",
          "text": [
            "O dobro de seu número é: 20\n"
          ]
        }
      ],
      "source": [
        "num = int(input('Digite um número inteiro positivo'))\n",
        "\n",
        "numDouble = num * 2\n",
        "\n",
        "if num < 0:\n",
        "    print('Seu número é negativo. Tente novamente')\n",
        "elif num > 0:\n",
        "    print(f'O dobro de seu número é: {numDouble}')\n",
        "else:\n",
        "    print(f'Para de brisar irmão')"
      ]
    },
    {
      "cell_type": "markdown",
      "metadata": {
        "id": "l_yTqhkWwfbF"
      },
      "source": [
        "03 - Faça um algoritmo que leia três notas de um aluno. Ao fim, exiba a média aritmética das três notas:"
      ]
    },
    {
      "cell_type": "code",
      "execution_count": null,
      "metadata": {
        "id": "tQ67m_jbwfbF",
        "outputId": "c5597268-177e-4dad-e157-da5c1bebf6b3"
      },
      "outputs": [
        {
          "name": "stdout",
          "output_type": "stream",
          "text": [
            "A média da nota dos três alunos é: 7.333333333333333\n"
          ]
        }
      ],
      "source": [
        "note1 = int(input('Digite a nota de um aluno'))\n",
        "note2 = int(input('Digite a nota de outro aluno'))\n",
        "note3 = int(input('Digite a nota de mais um aluno'))\n",
        "\n",
        "medium = ((note1 + note2 + note3) / 3)\n",
        "print(f'A média da nota dos três alunos é: {medium}')"
      ]
    },
    {
      "cell_type": "markdown",
      "metadata": {
        "id": "KBRj8zQ2wfbF"
      },
      "source": [
        "4. Cálcule a área de um triângulo.\n",
        "\n",
        "Fórmula: área = base * altura"
      ]
    },
    {
      "cell_type": "code",
      "execution_count": null,
      "metadata": {
        "id": "ikl16cwEwfbF",
        "outputId": "5fef9d08-f0f4-47ca-951b-d37dbeda7002"
      },
      "outputs": [
        {
          "name": "stdout",
          "output_type": "stream",
          "text": [
            "A área do triângulo é: 50.0\n"
          ]
        }
      ],
      "source": [
        "h = float(input('Digite a altura do triângulo'))\n",
        "b = float(input('Digite a base do triângulo'))\n",
        "\n",
        "triangle = h * b\n",
        "print(f'A área do triângulo é: {triangle}')"
      ]
    },
    {
      "cell_type": "markdown",
      "metadata": {
        "id": "uFGImAFLwfbF"
      },
      "source": [
        "5. Com o valor atual do Dólar, um casal precisa se planejar para uma viagem. Faça um algoritmo que permita o casal converter a quantidade de dinheiro em reais que possuem, para Dólar, considerando a cotação atual do dia."
      ]
    },
    {
      "cell_type": "code",
      "execution_count": null,
      "metadata": {
        "id": "ott4WJ6uwfbF",
        "outputId": "7de9f2db-d3f5-49e0-ef62-f608a4e4f06e"
      },
      "outputs": [
        {
          "name": "stdout",
          "output_type": "stream",
          "text": [
            "O valor do real em dolar é: 270.51\n"
          ]
        }
      ],
      "source": [
        "real = float(input('Digite a quantidade em reais'))\n",
        "dolar = 5.73\n",
        "valorConvertido = real / dolar\n",
        "\n",
        "print(f'O valor do real em dolar é: {valorConvertido:.2f}')"
      ]
    },
    {
      "cell_type": "markdown",
      "metadata": {
        "id": "m5MYxPD5wfbF"
      },
      "source": [
        "06. Solicite para o usuário a sua idade. COm sua idade, crie um algoritmo que calcule a quantidade de dias que a pessoa já viveu (aproximadamente)"
      ]
    },
    {
      "cell_type": "code",
      "execution_count": null,
      "metadata": {
        "id": "inmzyB3HwfbF",
        "outputId": "f0b36a3a-e013-4044-9384-1fd340d6bb59"
      },
      "outputs": [
        {
          "name": "stdout",
          "output_type": "stream",
          "text": [
            "Você já viveu por 6570 dias!\n"
          ]
        }
      ],
      "source": [
        "idade = int(input('Digite sua idade'))\n",
        "\n",
        "suaVida = idade * 365\n",
        "\n",
        "print(f'Você já viveu por {suaVida} dias!')"
      ]
    },
    {
      "cell_type": "markdown",
      "metadata": {
        "id": "LLoulllowfbF"
      },
      "source": [
        "7. Joáo está muito contente com o desempenho do seu time e resolveu adquirir uma camiseta do melhor time do mundo, COrinthians. Ao chegar na loja, percebeu que há um desconto em pagamentos à vista, que é a mesma forma que ele faria. Solicite ao usuário, o valor do produto, o percentual de desconto, e ao fim, exiba o preço já descontado para pagamento."
      ]
    },
    {
      "cell_type": "code",
      "execution_count": null,
      "metadata": {
        "id": "OYdxiT0bwfbF",
        "outputId": "1f412981-1d55-4c3d-ef6a-ed513b32e8ba"
      },
      "outputs": [
        {
          "name": "stdout",
          "output_type": "stream",
          "text": [
            "O valor da camiseta com o desconto é: 35.0\n"
          ]
        }
      ],
      "source": [
        "precoCamisa = float(input(\"Qual o valor da camiseta?\"))\n",
        "desconto = float(input(\"Qual o valor do desconto?\"))\n",
        "\n",
        "precoDescontado = precoCamisa - (precoCamisa * desconto / 100)\n",
        "\n",
        "print(f\"O valor da camiseta com o desconto é: {precoDescontado}\")"
      ]
    },
    {
      "cell_type": "markdown",
      "metadata": {
        "id": "pwlZagBOwfbF"
      },
      "source": [
        "8. Faça um algoritmo que leia uma temperatura em Celcius, e converta-a em Fahrenheit e em Kelvin."
      ]
    },
    {
      "cell_type": "code",
      "execution_count": null,
      "metadata": {
        "id": "bDafF_X7wfbF",
        "outputId": "7f218d82-6d71-444b-f6bd-3ee3c516230e"
      },
      "outputs": [
        {
          "name": "stdout",
          "output_type": "stream",
          "text": [
            "A sua temperatura em Fahrenheit em Kelvin, respectivamente: 53.6 e 285.0\n"
          ]
        }
      ],
      "source": [
        "temperatura = float(input(\"Digite a temperatura desejado\"))\n",
        "tempToFahrenheit = (temperatura * 1.8) + 32\n",
        "tempToKelvin = temperatura + 273\n",
        "\n",
        "print(f\"A sua temperatura em Fahrenheit em Kelvin, respectivamente: {tempToFahrenheit} e {tempToKelvin}\")"
      ]
    },
    {
      "cell_type": "markdown",
      "metadata": {
        "id": "8t0NkMVKwfbF"
      },
      "source": [
        "9. Faça um algoritmo que leia o peso e a altura de uma pessoa. Com esses dados, calcular o IMC do usuário."
      ]
    },
    {
      "cell_type": "code",
      "execution_count": null,
      "metadata": {
        "id": "mu_CR4wOwfbF",
        "outputId": "0e54cbe2-54f4-4e77-fb58-9fddcfd6f428"
      },
      "outputs": [
        {
          "name": "stdout",
          "output_type": "stream",
          "text": [
            "Seu Índice de Gordura Corporal é: 34.54287190082645\n"
          ]
        }
      ],
      "source": [
        "seuPeso = float(input(\"Digite o seu peso.\"))\n",
        "suaAltura = float(input(\"Digite sua altura.\"))\n",
        "\n",
        "imc = seuPeso / (suaAltura ** 2)\n",
        "\n",
        "print(f\"Seu Índice de Gordura Corporal é: {imc}\")"
      ]
    },
    {
      "cell_type": "markdown",
      "metadata": {
        "id": "76nETknTwfbF"
      },
      "source": [
        "10. Faça um algoritmo que solicite dois números ao usuário e calcule o resto da divisão entre eles."
      ]
    },
    {
      "cell_type": "code",
      "execution_count": null,
      "metadata": {
        "id": "aujqd-XlwfbG",
        "outputId": "6dd31bd9-156b-414f-f361-a550399c1540"
      },
      "outputs": [
        {
          "name": "stdout",
          "output_type": "stream",
          "text": [
            "O resto da divisão entre os dois números é: 2\n"
          ]
        }
      ],
      "source": [
        "num1 = int(input(\"Digite um número.\"))\n",
        "num2 = int(input(\"Digite outro número.\"))\n",
        "\n",
        "resto = num1 % num2\n",
        "\n",
        "print(f\"O resto da divisão entre os dois números é: {resto}\")"
      ]
    },
    {
      "cell_type": "markdown",
      "metadata": {
        "id": "K8BgalrJwfbG"
      },
      "source": [
        "11. Para se preparar para a Calourada, uma aluna do vôlei da turma ADS começou a correr para melhorar o condicionamento físico e deja calcular a sua **velocidade média** durante as sessões de corrida. Solicite ao usuário, a distância percorrida, e o tempo gasto da atividade para o cálculo."
      ]
    },
    {
      "cell_type": "code",
      "execution_count": null,
      "metadata": {
        "id": "-u4FXZibwfbG",
        "outputId": "1efe719e-ac97-46b0-9d16-ab987a861573"
      },
      "outputs": [
        {
          "name": "stdout",
          "output_type": "stream",
          "text": [
            "Sua velocidade média foi: 0.20\n"
          ]
        }
      ],
      "source": [
        "distance = float(input(\"Qual a distância percorrida em KM?\"))\n",
        "time = float(input(\"Qual foi o tempo gasto em horas?\"))\n",
        "\n",
        "mediumVelocity = distance / time\n",
        "\n",
        "print(f\"Sua velocidade média foi: {mediumVelocity:.2f}\")"
      ]
    },
    {
      "cell_type": "markdown",
      "metadata": {
        "id": "nrHofxs2wfbG"
      },
      "source": [
        "12. Faça um algortimo que leia um valor em anos. A partir dessa entrada, calcular quantos meses, dias, horas e minutos possui essa entrada."
      ]
    },
    {
      "cell_type": "code",
      "execution_count": null,
      "metadata": {
        "id": "Mw1gXWNPwfbG",
        "outputId": "967fa70e-8571-4dca-b6e3-c8e0859184e0"
      },
      "outputs": [
        {
          "name": "stdout",
          "output_type": "stream",
          "text": [
            "Dentro dessa quantidade de anos, temos 12 meses, 365 dias, 8766 horas e 525960 minutos!\n"
          ]
        }
      ],
      "source": [
        "years = int(input(\"Digite a quantidade de anos\"))\n",
        "yearMonths = years * 12\n",
        "yearDays = years * 365\n",
        "yearHours = years * 8766\n",
        "yearMinutes = years * 525960\n",
        "\n",
        "print(f\"Dentro dessa quantidade de anos, temos {yearMonths} meses, {yearDays} dias, {yearHours} horas e {yearMinutes} minutos!\")"
      ]
    },
    {
      "cell_type": "markdown",
      "metadata": {
        "id": "6IU1bFZHnrHG"
      },
      "source": [
        "13. Faça um algoritmo que calcule a conta final de um dado cliente na Unimar Lanches, que por sua vez, possui a seguinte tabela de preços:\n",
        "\n",
        "* Hamburguer - R$18.50\n",
        "* X-Salada - R$22.00\n",
        "* Fritas - R$12.90\n",
        "* Refri - R$5.00\n",
        "* Milkshake - R$8.99\n",
        "\n",
        "O cliente poderá escolher quantos produtos desejar. Ao fim, mostrar o total ao cliente."
      ]
    },
    {
      "cell_type": "code",
      "execution_count": null,
      "metadata": {
        "id": "rMMkqbxmwfbG",
        "outputId": "f56d97ad-aa98-45e4-ad8e-0aec81ab7235"
      },
      "outputs": [
        {
          "name": "stdout",
          "output_type": "stream",
          "text": [
            "O cliente terá que pagar R$64.0.\n"
          ]
        }
      ],
      "source": [
        "hamburguer = 18.50\n",
        "xsalada = 22.00\n",
        "fritas = 12.90\n",
        "refri = 5.00\n",
        "milkshake = 8.99\n",
        "\n",
        "def calculus():\n",
        "    hamQuant = float(input(\"Quantos hamburguers o cliente pediu?\"))\n",
        "    hamCalc = hamburguer * hamQuant\n",
        "\n",
        "    xsalQuant = float(input(\"Quantos X-Salada o cliente pediu\"))\n",
        "    xsalCalc = xsalada * xsalQuant\n",
        "\n",
        "    fritasQuant = float(input(\"Quantas fritas o cliente pediu?\"))\n",
        "    fritasCalc = fritas * fritasQuant\n",
        "\n",
        "    refriQuant = float(input(\"Quantas refris o cliente pediu?\"))\n",
        "    refriCalc = refri * refriQuant\n",
        "\n",
        "    milkQuant = float(input(\"Quantas milk-shakes o cliente pediu?\"))\n",
        "    milkCalc = milkshake * milkQuant\n",
        "\n",
        "    allCalc = hamCalc + xsalCalc + fritasCalc + refriCalc + milkCalc\n",
        "\n",
        "    print(f\"O cliente terá que pagar R${allCalc}\")\n",
        "\n",
        "calculus()\n"
      ]
    },
    {
      "cell_type": "markdown",
      "metadata": {
        "id": "H0OaT-96wfbG"
      },
      "source": [
        "14. Os funcionários do Bar do Moe's conseguiram um adicional devido a alta das vendas neste período do ano. Faça um algoritmo que leia o salário base do funcionário, o percentual de acréscimo, e ao fim mostre o salário total recalculado."
      ]
    },
    {
      "cell_type": "code",
      "execution_count": null,
      "metadata": {
        "id": "-2Qh_8BkwfbG",
        "outputId": "d93ab82d-e4a8-4c2a-c790-70e9f78e0a11"
      },
      "outputs": [
        {
          "name": "stdout",
          "output_type": "stream",
          "text": [
            "O salário adicionado ao percentual é: 1782.5\n"
          ]
        }
      ],
      "source": [
        "salary = float(input(\"Qual o salário do safado do barman?\"))\n",
        "salaryAcr = float(input(\"Qual o percentual de acréscimo?\"))\n",
        "\n",
        "salaryDivision = (salaryAcr / 100) * salary\n",
        "salaryCalc = salaryDivision + salary\n",
        "\n",
        "print(f\"O salário adicionado ao percentual é: {salaryCalc}\")"
      ]
    },
    {
      "cell_type": "markdown",
      "metadata": {
        "id": "taDYMraywfbG"
      },
      "source": [
        "## Relacionais\n",
        "\n",
        "Operadores relacionais, são responsáveis por relacionar dois objetos. Sempre retornarão `True` ou `False`.\n",
        "\n",
        "![image.png](attachment:image.png)"
      ]
    },
    {
      "cell_type": "code",
      "execution_count": null,
      "metadata": {
        "id": "EbsQZw8twfbG",
        "outputId": "b645776b-91d5-460b-fd6c-5ab50b19ed12"
      },
      "outputs": [
        {
          "name": "stdout",
          "output_type": "stream",
          "text": [
            "True\n",
            "False\n",
            "False\n"
          ]
        }
      ],
      "source": [
        "print(5 == 5) #igualdade\n",
        "print(5 == 4)\n",
        "\n",
        "n1 = 5\n",
        "n2 = 4\n",
        "\n",
        "print(n1 == n2)"
      ]
    },
    {
      "cell_type": "code",
      "execution_count": null,
      "metadata": {
        "id": "pHC7WXYgwfbG",
        "outputId": "143ab59b-771e-44d5-b43b-26d6bfac2196"
      },
      "outputs": [
        {
          "name": "stdout",
          "output_type": "stream",
          "text": [
            "True\n",
            "False\n"
          ]
        }
      ],
      "source": [
        "print(10 > 5) #maior\n",
        "print(5 > 10)"
      ]
    },
    {
      "cell_type": "code",
      "execution_count": null,
      "metadata": {
        "id": "jbdREtsTwfbG",
        "outputId": "b9f1a46c-ea14-432b-a57f-8679672baa6b"
      },
      "outputs": [
        {
          "name": "stdout",
          "output_type": "stream",
          "text": [
            "True\n",
            "False\n"
          ]
        }
      ],
      "source": [
        "print(10 >= 5) #maior OU igual\n",
        "print(5 >= 10)"
      ]
    },
    {
      "cell_type": "code",
      "execution_count": null,
      "metadata": {
        "id": "x3__WSBQwfbG",
        "outputId": "ace99446-d832-48e9-8e9a-a2516a1047f9"
      },
      "outputs": [
        {
          "name": "stdout",
          "output_type": "stream",
          "text": [
            "True\n",
            "False\n"
          ]
        }
      ],
      "source": [
        "print(5 < 10) #menor\n",
        "print(10 < 5)"
      ]
    },
    {
      "cell_type": "code",
      "execution_count": null,
      "metadata": {
        "id": "2epwj6CbwfbG",
        "outputId": "9aafda99-cd11-4a5d-de7b-fa30f4823a1e"
      },
      "outputs": [
        {
          "name": "stdout",
          "output_type": "stream",
          "text": [
            "True\n",
            "False\n"
          ]
        }
      ],
      "source": [
        "print(5 <= 10) #menor OU igual\n",
        "print(10 <= 5)"
      ]
    },
    {
      "cell_type": "markdown",
      "metadata": {
        "id": "BBkXcQ-7wfbH"
      },
      "source": [
        "## 4. Lógicos\n",
        "\n",
        "Operadores lógicos são utilizados para realizar operações de comparação entre valores ou expressões.\n",
        "O resultado de uma expressão com a utilização dos operadores lógicos retornará uma expressão que poderá ser `False` ou `True`\n",
        "\n",
        "**E lógico** (AND): Retorna verdadeiro se **ambas** as expressões envolvidas forem verdadeiras, caso contrário, retorna falso.\n",
        "\n",
        "**OU lógico** (OR) Retorna verdadeiro se pelo menos **uma** das expressões envolidas for verdadeira.\n",
        "\n",
        "**NÃO lógico** (NOT) Este operador **nega o valor** de uma expressão. Se a expressão é verdadeira (`True`)\n",
        "\n",
        "![image.png](attachment:image.png)\n"
      ]
    },
    {
      "cell_type": "markdown",
      "metadata": {
        "id": "cO6fZ0WBwfbH"
      },
      "source": [
        "Operador AND"
      ]
    },
    {
      "cell_type": "code",
      "execution_count": null,
      "metadata": {
        "id": "8xrRT55twfbH"
      },
      "outputs": [],
      "source": [
        "n1 = 2\n",
        "n2 = 5\n",
        "n3 = 7\n",
        "n4 = 10\n",
        "\n",
        "print(n4 > n1 and n2 > n4) # V e F = F\n",
        "print(n1 > n3 and n3 > n2) # F e V = F\n",
        "print(n1 < n2 and n3 < n4) # V e V = V\n",
        "print(n4 > n1 and n3 > n4) # F e F = F"
      ]
    },
    {
      "cell_type": "markdown",
      "metadata": {
        "id": "cJ4zQjT4wfbH"
      },
      "source": [
        "Operador OR"
      ]
    },
    {
      "cell_type": "code",
      "execution_count": null,
      "metadata": {
        "id": "dhpbleemwfbH"
      },
      "outputs": [],
      "source": [
        "n1 = 2\n",
        "n2 = 5\n",
        "n3 = 7\n",
        "n4 = 10\n",
        "\n",
        "print(n4 > n1 or n2 > n4) # V ou F = F\n",
        "print(n1 > n3 or n3 > n2) # F ou V = V\n",
        "print(n1 < n2 or n3 < n4) # V ou V = V\n",
        "print(n4 > n1 or n3 > n4) # F ou F = F"
      ]
    },
    {
      "cell_type": "markdown",
      "metadata": {
        "id": "OO7CTUaqwfbH"
      },
      "source": [
        "Operador NOT"
      ]
    },
    {
      "cell_type": "code",
      "execution_count": null,
      "metadata": {
        "id": "nbTHotcewfbH",
        "outputId": "c1bb40d3-68b1-4328-87ac-4dc468115424"
      },
      "outputs": [
        {
          "name": "stdout",
          "output_type": "stream",
          "text": [
            "False\n"
          ]
        }
      ],
      "source": [
        "palmeiras_tem_mundial = True\n",
        "print(not palmeiras_tem_mundial) #False"
      ]
    },
    {
      "cell_type": "code",
      "execution_count": null,
      "metadata": {
        "id": "peKIIAXYwfbH",
        "outputId": "e6e8e2cd-870a-4bf6-b456-caa2b8cac234"
      },
      "outputs": [
        {
          "name": "stdout",
          "output_type": "stream",
          "text": [
            "True\n"
          ]
        }
      ],
      "source": [
        "curintia_tem_2_mundial = False\n",
        "print(not curintia_tem_2_mundial) #True"
      ]
    },
    {
      "cell_type": "code",
      "execution_count": null,
      "metadata": {
        "id": "2_wD2rSuwfbH",
        "outputId": "4d375e01-9cec-44ba-e698-43aedb74af00"
      },
      "outputs": [
        {
          "name": "stdout",
          "output_type": "stream",
          "text": [
            "False\n"
          ]
        }
      ],
      "source": [
        "nicollas_netto = True\n",
        "print(not nicollas_netto) #False"
      ]
    },
    {
      "cell_type": "markdown",
      "metadata": {
        "id": "yskSpnntwfbH"
      },
      "source": [
        "# 4.1. Estruturas de Controle\n",
        "\n",
        "Estrutura de seleção é utilizada quando um algoritmo necessita escolher uma instruççao ou um conjunto de instruções quando uma **condição** (representada por uma expressão relacional ou lógica) é satisfeita ou não."
      ]
    },
    {
      "cell_type": "markdown",
      "metadata": {
        "id": "6QWSTvMowfbH"
      },
      "source": [
        "## Estrutura de seleção simples (IF)\n",
        "![image.png](attachment:image.png)"
      ]
    },
    {
      "cell_type": "markdown",
      "metadata": {
        "id": "Aw0SHMeOwfbH"
      },
      "source": [
        "Exemplo:\n",
        "\n",
        "se (condição):\n",
        "    <instrução_1>\n",
        "    <instrução_2>\n",
        "    ...\n",
        "    <instrução_n>\n"
      ]
    },
    {
      "cell_type": "markdown",
      "metadata": {
        "id": "0Mb3aQi_wfbH"
      },
      "source": [
        "Quando o computador encontra o bloco de instruções acima, inicialmente a condição é testada. Caso o resultado do teste seja um valor **verdadeiro**, o conjunto de instruções dentro do bloco `se` será executado. Caso a condição resulte em um valor **falso** todo o bloco de instruções é **ignorado** e o fluxo de execução do algoritmo segue logo abaixo do bloco `se`."
      ]
    },
    {
      "cell_type": "markdown",
      "metadata": {
        "id": "5o8AQDdIwfbH"
      },
      "source": [
        "## Sintaxe\n",
        "\n",
        "Observa-se que, em Python, após a condição, **deverá** ter dois pontos (:), que indica o início de um novo bloco. Caso a condição seja verdadeira, será executado o bloco abaixo dos dois pontos. Esse bloco deverá estar **IDENTADO** com um TAB a frente do `SE`.\n",
        "\n",
        "- **IF = SE**\n",
        "- **ELSE = SENÃO**\n",
        "- **ELIF = SENÃO SE**\n",
        "\n",
        "![image.png](attachment:image.png)\n",
        "\n",
        "Exemplos:"
      ]
    },
    {
      "cell_type": "code",
      "execution_count": null,
      "metadata": {
        "id": "yobS7tJ0nrHI"
      },
      "outputs": [],
      "source": [
        "numero = int(input('Insira um número inteiro > '))\n",
        "resto_divisao = numero % 2\n",
        "\n",
        "if (resto_divisao == 0):\n",
        "    print(f'O número {numero} é par')\n",
        "else:\n",
        "    print(f'O número {numero} é impar')"
      ]
    },
    {
      "cell_type": "markdown",
      "metadata": {
        "id": "U9Z3JcNSnrHI"
      },
      "source": [
        "Estrutura de Seleção Composta\n",
        "\n",
        "![image.png](attachment:image.png)"
      ]
    },
    {
      "cell_type": "markdown",
      "metadata": {
        "id": "0COSmkoknrHI"
      },
      "source": [
        "Estrutura de Sintaxe Composta\n",
        "\n",
        "![image.png](attachment:image.png)"
      ]
    },
    {
      "cell_type": "markdown",
      "metadata": {
        "id": "svaJWS6ynrHI"
      },
      "source": [
        "Da mesma forma que a estrutura de seleção simples, a condição é testada. Caso o valor resulta em **VERDADEIRO**, o conjuro de instruções logo abaixo do comando `SE` será executado e o conjunto de instruções pertencentes ao bloco `SENAO` serão ignorados.\n",
        "\n",
        "Por outro lado, caso o teste resulte em um valor **FALSO**, o conjunto de instruções pertencentes ao bloco `SENAO` serão executados.\n",
        "\n",
        "Após a execução de um dos conjuntos de instruções o fluxo do programa continua sua execução logo abaixo da estrutura de seleção."
      ]
    },
    {
      "cell_type": "markdown",
      "metadata": {
        "id": "oH7HUty2nrHI"
      },
      "source": [
        "## Observações\n",
        "\n",
        "- 1. Pode-se ter uma instrução `SE` (if) sem o bloco `SENAO`, mas o contrário não é possível. Toda instrução `SENAO` deve estar associada a uma instrução `SE`. Cada instrução `SE` pode ter apenas uma instrução `SENAO` associada.\n",
        "- 2. Ao escrever a instrução `SENAO` (else) **não se deve colocar nenhuma condição lógica**, pois a sua execução sempre correrá quando a condição da instrução `SE` for falsa.\n"
      ]
    },
    {
      "cell_type": "code",
      "execution_count": null,
      "metadata": {
        "id": "GNSUytSanrHI",
        "outputId": "0faf2422-b61b-47e1-f8bf-02d584bf8153"
      },
      "outputs": [
        {
          "name": "stdout",
          "output_type": "stream",
          "text": [
            "1000000 é par\n"
          ]
        }
      ],
      "source": [
        "#algoritmo valida número par ou impar\n",
        "\n",
        "# entrada\n",
        "numero = int(input('Insira um valor inteiro > '))\n",
        "resto = numero % 2\n",
        "\n",
        "#saída\n",
        "if resto == 0:\n",
        "    print(f'{numero} é par')\n",
        "else:\n",
        "    print(f'{numero} é impar')"
      ]
    },
    {
      "cell_type": "code",
      "execution_count": null,
      "metadata": {
        "id": "gvJA1HkjnrHI",
        "outputId": "5733ded7-91af-45d2-9d39-26fe697a62f3"
      },
      "outputs": [
        {
          "name": "stdout",
          "output_type": "stream",
          "text": [
            "-1 é negativo\n"
          ]
        }
      ],
      "source": [
        "#algoritmo valida positivo ou negativo\n",
        "\n",
        "# entrada\n",
        "numero = int(input('Insira um valor inteiro > '))\n",
        "\n",
        "#saída\n",
        "if numero >= 0:\n",
        "    print(f'{numero} é positivo')\n",
        "else:\n",
        "    print(f'{numero} é negativo')"
      ]
    },
    {
      "cell_type": "markdown",
      "metadata": {
        "id": "_8plzw83nrHI"
      },
      "source": [
        "# Exercícios - Estrutura de Seleção"
      ]
    },
    {
      "cell_type": "markdown",
      "metadata": {
        "id": "FSnlHw-9nrHI"
      },
      "source": [
        "01. Faça um algoritmo que leia duas notas, calcule a média e verifique se o aluno foi aprovovado ou reprovado. Para estar aprovado, a média deverá ser maior ou igual a 7.\n",
        "02. Faça um algoritmo que leia dois valores inteiros e determine qual deles é o maior."
      ]
    },
    {
      "cell_type": "code",
      "execution_count": null,
      "metadata": {
        "id": "-aPwJ1qGnrHI",
        "outputId": "7b64e55c-5624-4381-e1f8-28166515648b"
      },
      "outputs": [
        {
          "name": "stdout",
          "output_type": "stream",
          "text": [
            "Reprovado\n"
          ]
        }
      ],
      "source": [
        "# 01\n",
        "\n",
        "notaUm = float(input('Insira a primeira nota > '))\n",
        "notaDois = float(input('Insira a segunda nota > '))\n",
        "\n",
        "notaFinal = (notaUm + notaDois / 2)\n",
        "\n",
        "if notaFinal >= 7:\n",
        "    print('Aprovado')\n",
        "else:\n",
        "    print('Reprovado')"
      ]
    },
    {
      "cell_type": "code",
      "execution_count": null,
      "metadata": {
        "id": "ncf5hAxdnrHI",
        "outputId": "67b1596f-4b30-43fa-f956-a43ca7ef1845"
      },
      "outputs": [
        {
          "name": "stdout",
          "output_type": "stream",
          "text": [
            "3 e 3 são iguais.\n"
          ]
        }
      ],
      "source": [
        "# 02\n",
        "\n",
        "inteiroUm = int(input('Insira um valor inteiro > '))\n",
        "inteiroOutro = int(input('Insira outro valor inteiro > '))\n",
        "\n",
        "if inteiroUm > inteiroOutro:\n",
        "    print(f'{inteiroUm} é maior que {inteiroOutro}.')\n",
        "elif inteiroUm < inteiroOutro:\n",
        "    print(f'{inteiroOutro} é maior que {inteiroUm}.')\n",
        "else:\n",
        "    print(f'{inteiroUm} e {inteiroOutro} são iguais.')"
      ]
    },
    {
      "cell_type": "markdown",
      "metadata": {
        "id": "2WvTBbKsnrHI"
      },
      "source": [
        "## IF / ELIF - Encadeado\n",
        "\n",
        "Cada `ìf` será avaliado individualmente, o que significa que todas as condições podem ser verdadeiras e ser executadas.\n",
        "\n",
        "Abaixo a estrutura não encadeada:"
      ]
    },
    {
      "cell_type": "code",
      "execution_count": null,
      "metadata": {
        "id": "kzEJfWNfnrHJ"
      },
      "outputs": [],
      "source": [
        "velocidade = 150\n",
        "\n",
        "if velocidade > 80:\n",
        "    print('Multa leve aplicada!')\n",
        "\n",
        "if velocidade > 100:\n",
        "    print('Multa grave aplicada!')\n",
        "\n",
        "if velocidade > 120:\n",
        "    print('Multa gravísssima aplicada!')\n",
        "\n",
        "print('Programa encerrado.')\n"
      ]
    },
    {
      "cell_type": "markdown",
      "metadata": {
        "id": "Z-LUo4NrnrHJ"
      },
      "source": [
        "E agora abaixo a estrutura encadeada:"
      ]
    },
    {
      "cell_type": "code",
      "execution_count": null,
      "metadata": {
        "id": "aM4L--bZnrHJ",
        "outputId": "a5e6368b-7319-4a4e-d456-2777edbee455"
      },
      "outputs": [
        {
          "name": "stdout",
          "output_type": "stream",
          "text": [
            "Infração média, multa de R$130,16\n"
          ]
        }
      ],
      "source": [
        "pergunta = int(input('Qual foi a velocidade que foi ultrapassada do normal? > '))\n",
        "\n",
        "if pergunta > 80:\n",
        "    print(f'Infração média, multa de R$130,16!')\n",
        "elif pergunta >= 110:\n",
        "    print(f'Infração grave, multa de R$195,23!')\n",
        "elif pergunta >= 120:\n",
        "    print(f'Infração gravíssima, multa de R$ 293,47!')\n",
        "else:\n",
        "    print('Você está dentro do limite de velocidade!')"
      ]
    },
    {
      "cell_type": "markdown",
      "metadata": {
        "id": "Hz2IIrfJnrHJ"
      },
      "source": [
        "3. Faça um algoritmo que leia a velocidade máxima permitida em uma rodovia e também a velocidade de um determinado veículo. Verifique se o carro infringiu o limite de velocidade permitido e pagará multa ou não.\n",
        "4. Idem ao 2 porém com 3 valores."
      ]
    },
    {
      "cell_type": "code",
      "execution_count": null,
      "metadata": {
        "id": "hrPksv6fnrHJ"
      },
      "outputs": [],
      "source": [
        "# 03 - Forma 1\n",
        "pergunta = int(input('Qual foi a velocidade que foi ultrapassada do normal? > '))\n",
        "\n",
        "if pergunta > 80:\n",
        "    print(f'Infração média, multa de R$130,16!')\n",
        "elif pergunta >= 110:\n",
        "    print(f'Infração grave, multa de R$195,23!')\n",
        "elif pergunta >= 120:\n",
        "    print(f'Infração gravíssima, multa de R$ 293,47!')\n",
        "else:\n",
        "    print('Você está dentro do limite de velocidade!')\n",
        "\n",
        "# 03 - Forma 2\n",
        "\n",
        "velocidadeMaxima = int(input('Insira a velocidade máxima permitida:'))\n",
        "velocidadeUltrapassada = int(input('Insira a velocidade que foi ultrapassada do normal > '))\n",
        "\n",
        "if velocidadeUltrapassada > velocidadeMaxima:\n",
        "    print(f'Vai tomar multa!')\n",
        "else:\n",
        "    print('Não vai tomar multa!')"
      ]
    },
    {
      "cell_type": "code",
      "execution_count": null,
      "metadata": {
        "id": "-Hr4_SeqnrHJ",
        "outputId": "87084952-51ff-486f-aab3-7a1e7621ccd1"
      },
      "outputs": [
        {
          "name": "stdout",
          "output_type": "stream",
          "text": [
            "Os valores são iguais\n"
          ]
        }
      ],
      "source": [
        "# 04\n",
        "\n",
        "inteiroUm = int(input('Insira um valor inteiro > '))\n",
        "inteiroDois = int(input('Insira outro valor inteiro > '))\n",
        "inteiroTres = int(input('Insira outro valor inteiro > '))\n",
        "\n",
        "if inteiroUm > inteiroDois and inteiroUm > inteiroTres:\n",
        "    print(f'(O maior valor é {inteiroUm:2f}')\n",
        "elif inteiroDois > inteiroUm and inteiroDois > inteiroTres:\n",
        "    print(f'O maior valor é {inteiroDois:2f}')\n",
        "elif inteiroTres > inteiroUm and inteiroTres > inteiroDois:\n",
        "    print(f'O maior valor é {inteiroTres:2f}')\n",
        "else:\n",
        "    print('Os valores são iguais')"
      ]
    },
    {
      "cell_type": "markdown",
      "metadata": {
        "id": "2edgIjLinrHJ"
      },
      "source": [
        "5. Faça um algoritmo que leia a altura e o sexo de uma pessoa. Calcule e mostre o seu peso ideal utilizando as seguintes fórmulas:\n",
        "- Para homens: peso ideal = (altura * 72.7) - 58\n",
        "- Para mulheres: peso ideal = (altura * 62.1) - 44.7"
      ]
    },
    {
      "cell_type": "code",
      "execution_count": null,
      "metadata": {
        "id": "3RZcNf5ZnrHJ",
        "outputId": "da7a536d-6b8b-4174-fd63-882f68bbf903"
      },
      "outputs": [
        {
          "name": "stdout",
          "output_type": "stream",
          "text": [
            "O seu peso ideal é 83.03800000000001 kg, de acordo com seu gênero!\n"
          ]
        }
      ],
      "source": [
        "# 05\n",
        "\n",
        "sexo = input('Insira o seu sexo > ')\n",
        "altura = float(input('Insira sua altura > '))\n",
        "\n",
        "calculoFeminino = (altura * 62.1) - 44.7\n",
        "calculoMasculino = (altura * 72.7) - 58\n",
        "\n",
        "if sexo.lower() == 'feminino':\n",
        "    print(f'O seu peso ideal é {calculoFeminino:.2f} kg, de acordo com seu gênero!')\n",
        "elif sexo.lower() == 'masculino':\n",
        "    print(f'O seu peso ideal é {calculoMasculino:2f} kg, de acordo com seu gênero!')\n",
        "else:\n",
        "    print('Sexo inválido!')"
      ]
    },
    {
      "cell_type": "markdown",
      "metadata": {
        "id": "3ubLjy4e65yM"
      },
      "source": [
        "06. Crie um programa que peça ao usuário uma senha e só permita o acesso se a senha for 'sp_campeao'\n",
        "07. Peça ao usuário um número e verifique se ele está no intervalo entre 10 e 50 (inclusive).\n",
        "08. Peça o salário do usuário e o valor de um empréstimo. Aprove o empréstimo apenas se o valor não ultrapassar 30% do salário.\n",
        "09. Peça um número ao usuário e informe se ele é multiplo de 3 e de 5 ao mesmo tempo."
      ]
    },
    {
      "cell_type": "code",
      "execution_count": null,
      "metadata": {
        "id": "II7HMrZd65yM",
        "outputId": "6edabba7-a77c-4338-8176-ac7c30408620"
      },
      "outputs": [
        {
          "name": "stdout",
          "output_type": "stream",
          "text": [
            "Bem-vindo, Lucas!\n"
          ]
        }
      ],
      "source": [
        "# 06\n",
        "\n",
        "login = input('Insira seu login > ')\n",
        "senha = input('Insira sua senha > ')\n",
        "\n",
        "if login.lower() == 'lucas_bruim' and senha.lower() == 'sp_campeao':\n",
        "    print('Bem-vindo, Lucas Bruim!')\n",
        "else:\n",
        "    print('Login ou senha inválidos. Tente novamente.')"
      ]
    },
    {
      "cell_type": "code",
      "execution_count": null,
      "metadata": {
        "id": "48ek9GUl65yM",
        "outputId": "47604ac6-bc3e-473d-f296-bafffb4a27f8"
      },
      "outputs": [
        {
          "name": "stdout",
          "output_type": "stream",
          "text": [
            "O número não está entre 10 e 50\n"
          ]
        }
      ],
      "source": [
        "# 07\n",
        "\n",
        "numero = int(input(\"Insira um número > \"))\n",
        "\n",
        "if numero >= 10 and numero <= 50:\n",
        "    print(\"O número está entre 10 e 50!\")\n",
        "else:\n",
        "    print(\"O número não está entre 10 e 50!\")"
      ]
    },
    {
      "cell_type": "code",
      "execution_count": 2,
      "metadata": {
        "id": "h-mSynfC65yN",
        "outputId": "9af1359e-58ad-4b7a-ce50-1f44ae9c6097"
      },
      "outputs": [
        {
          "name": "stdout",
          "output_type": "stream",
          "text": [
            "O valor não foi aprovado! Seria: 600.00\n"
          ]
        }
      ],
      "source": [
        "# 08\n",
        "\n",
        "salarioUsuario = float(input('Insira seu salário > '))\n",
        "valorEmprestimo = float(input('Insira o valor do empréstimo > '))\n",
        "\n",
        "calculoFinal = salarioUsuario * 0.3\n",
        "\n",
        "if valorEmprestimo >= 0.3:\n",
        "    print(f'O valor não foi aprovado! Seria: {calculoFinal:.2f}')\n",
        "else:\n",
        "    print(f'O valor foi aprovado! Seria: {calculoFinal:.2f}')"
      ]
    },
    {
      "cell_type": "code",
      "execution_count": 41,
      "metadata": {
        "id": "h07QtftJ65yN",
        "outputId": "cdb56fee-59a2-44f4-c00a-58118709fe1c"
      },
      "outputs": [
        {
          "name": "stdout",
          "output_type": "stream",
          "text": [
            "o número é multiplo de 3!\n"
          ]
        }
      ],
      "source": [
        "# 09\n",
        "\n",
        "numero = int(input('Insira um número > '))\n",
        "\n",
        "if numero % 5 == 0:\n",
        "    print('O número é múltiplo de 5!')\n",
        "elif numero % 3 == 0:\n",
        "    print('o número é multiplo de 3!')\n",
        "elif numero % 5 == 0 and numero % 3 == 0:\n",
        "    print('O número é múltiplo de 5 e 3!')\n",
        "else:\n",
        "    print('O número não é múltiplo de nenhum dos dois!')"
      ]
    },
    {
      "cell_type": "markdown",
      "metadata": {
        "id": "0dsv2dcx65yN"
      },
      "source": [
        "10. Uma competição de natação é organizada de acordo com a idade de cada nadador. Elabore um algoritmo que leia a idade de um nadador e determine qual categoria que ele deve competir.\n",
        "\n",
        "Considere:\n",
        "\n",
        "* idade <= 8: Categoria Infantil A\n",
        "* idade < 13: Categoria Infantil B\n",
        "* idade < 18: Categoria Juvenil A\n",
        "* idade < 21: Categoria Juvenil B\n",
        "* idade >= 21: Categoria Infantil Sênior\n"
      ]
    },
    {
      "cell_type": "code",
      "execution_count": 4,
      "metadata": {
        "id": "15pD-cQj65yO",
        "outputId": "51f08e14-2735-4142-e5f7-4e599904b2bc"
      },
      "outputs": [
        {
          "name": "stdout",
          "output_type": "stream",
          "text": [
            "Você tem 10 anos e está na categoria Infantil B!\n"
          ]
        }
      ],
      "source": [
        "# 10\n",
        "\n",
        "idadeNadador = int(input('Caro competidor, qual sua idade? > '))\n",
        "\n",
        "def competicao_natacao():\n",
        "    if idadeNadador <= 8:\n",
        "        print(f'Você tem {idadeNadador} anos e está na categoria Infantil A!')\n",
        "    elif idadeNadador <= 13:\n",
        "        print(f'Você tem {idadeNadador} anos e está na categoria Infantil B!')\n",
        "    elif idadeNadador <= 18:\n",
        "        print(f'Você tem {idadeNadador} anos e está na categoria Juvenil A!')\n",
        "    elif idadeNadador < 21:\n",
        "        print(f'Você tem {idadeNadador} anos e está na categoria Juvenil B!')\n",
        "    elif idadeNadador >= 21:\n",
        "        print(f'Você tem {idadeNadador} anos e está na categoria Infantil Sênior!')\n",
        "    else:\n",
        "        print('Idade inválida, escreva novamente sua idade!')\n",
        "\n",
        "competicao_natacao()"
      ]
    },
    {
      "cell_type": "markdown",
      "metadata": {},
      "source": [
        "11. O IMC - Índice de Massa Corporal é calculado pela seguinte fórmula:\n",
        "\n",
        "IMC = Peso / Altura²\n",
        "\n",
        "Elabore um algoritmo que calcule o IMC e em seguida defina a condição da pessoa:\n",
        "\n"
      ]
    },
    {
      "cell_type": "code",
      "execution_count": null,
      "metadata": {},
      "outputs": [
        {
          "name": "stdout",
          "output_type": "stream",
          "text": [
            "Atualmente você pesa 140.0 kg e tem 1.9 de altura, está obeso!\n"
          ]
        }
      ],
      "source": [
        "# 11\n",
        "\n",
        "peso = float(input('Insira seu peso (em kg) > '))\n",
        "altura = float(input('Insira sua altura (em metros) > '))\n",
        "\n",
        "imc = peso / (altura ** 2)\n",
        "\n",
        "def indice_massa():\n",
        "    if imc < 18:\n",
        "        print(f'Atualmente você pesa {peso} kg e tem {altura} de altura, está abaixo do peso!')\n",
        "    elif imc >= 18 and imc < 25:\n",
        "        print(f'Atualmente você pesa {peso} kg e tem {altura} de altura, está no peso ideal!')\n",
        "    elif imc >= 25 and imc < 30:\n",
        "        print(f'Atualmente você pesa {peso} kg e tem {altura} de altura, está no acima do peso!')\n",
        "    elif imc >= 30:\n",
        "        print(f'Atualmente você pesa {peso} kg e tem {altura} de altura, está obeso!')\n",
        "    else:\n",
        "        print('Digite novamente!')\n",
        "\n",
        "indice_massa()"
      ]
    },
    {
      "cell_type": "markdown",
      "metadata": {},
      "source": [
        "12. Elabore um algoritmo que determine se um ano é ou não bissexto.\n",
        "\n",
        "Obs. Um ano é bissexto se ele for divisível por 400 ou se ele for divisível por 4 e não por 100"
      ]
    },
    {
      "cell_type": "code",
      "execution_count": 12,
      "metadata": {},
      "outputs": [
        {
          "name": "stdout",
          "output_type": "stream",
          "text": [
            "O ano 2000 é bissexto!\n"
          ]
        }
      ],
      "source": [
        "ano = int(input('Insira um ano para ver se é bissexto > '))\n",
        "\n",
        "def verificar_bissexto():\n",
        "    if ano % 400 == 0 or ano % 4 == 0 and ano % 100 != 0:\n",
        "        print(f'O ano {ano} é bissexto!')\n",
        "    else:\n",
        "        print(f'O ano {ano} não é bissexto!')\n",
        "\n",
        "verificar_bissexto()"
      ]
    },
    {
      "cell_type": "markdown",
      "metadata": {},
      "source": [
        "13. Calculadora simples. Faça um algoritmo que leia dois números inteiros\n",
        " digitados pelo usuário. Com estes dois números, mostras as opções de\n",
        " operações aritméticas (básicas) possíveis entre os números, e permitir a\n",
        " escolha do usuário. Com a escolha feita, realizar a operação aritmética\n",
        " entre os números."
      ]
    },
    {
      "cell_type": "code",
      "execution_count": null,
      "metadata": {},
      "outputs": [],
      "source": [
        "numero = int(input('Digite o primeiro número > '))\n",
        "numeroOutro = int(input('Digite o outro número > '))\n",
        "operacao = input('Qual operação > ')\n",
        "\n",
        "if operacao.lower() == 'somar':\n",
        "    print(f'A soma dos dois números é: {numero + numeroOutro}')\n",
        "elif operacao.lower() == 'subtrair':\n",
        "    print(f'A subtração dos dois números é: {numero - numeroOutro}')\n",
        "elif operacao.lower() == 'multiplicar':\n",
        "    print(f'A multiplicação dos dois números é: {numero * numeroOutro}')\n",
        "elif operacao.lower() == 'dividir':\n",
        "    print(f'A divisão dos dois números é: {numero / numeroOutro}')\n",
        "else:\n",
        "    print('Operação inválida! Repita o processo.')"
      ]
    },
    {
      "cell_type": "markdown",
      "metadata": {},
      "source": [
        "## Estrutura de seleção múltipla (match-case)\n",
        "\n",
        "O `match-case` é uma estrutura que foi introduzida na versão 3.10 do Python. Essa nova funcionalidade permite realizar correspondênciaa de padrões e executar ações com base nesses padrões. \n",
        "\n",
        "Antes do `match-case`, você provavelmente usaria uma série de if-elif-else. Agora, com `match-case`, você pode fazer isso de forma mais estruturada. Exemplo:"
      ]
    },
    {
      "cell_type": "code",
      "execution_count": null,
      "metadata": {},
      "outputs": [
        {
          "name": "stdout",
          "output_type": "stream",
          "text": [
            "Opção inválida!\n"
          ]
        }
      ],
      "source": [
        "#Ex 1\n",
        "opcao = input('Insira um nome > ')\n",
        "\n",
        "#escolha\n",
        "match opcao:\n",
        "    case 'Julio':\n",
        "        print('Olá Julio')\n",
        "    case 'Maria':\n",
        "        print('Olá Maria')\n",
        "    case _:\n",
        "        print('Opção inválida! Não conheço você...')"
      ]
    },
    {
      "cell_type": "code",
      "execution_count": null,
      "metadata": {},
      "outputs": [
        {
          "name": "stdout",
          "output_type": "stream",
          "text": [
            "A variável é do tipo string!\n"
          ]
        }
      ],
      "source": [
        "#Ex 2\n",
        "var = \"teste\"\n",
        "\n",
        "match var:\n",
        "    case int():\n",
        "        print('A variável é do tipo inteiro!')\n",
        "    case str():\n",
        "        print('A variável é do tipo string!')\n",
        "    case float():\n",
        "        print('A variável é do tipo float!')\n",
        "    case _:\n",
        "        print('Não conheço esse tipo de dado!')"
      ]
    },
    {
      "cell_type": "code",
      "execution_count": null,
      "metadata": {},
      "outputs": [
        {
          "name": "stdout",
          "output_type": "stream",
          "text": [
            "Insira o sabor desejado de pizza abaixo:\n",
            "- Portuguesa \n",
            "- Marguerita \n",
            "- Calabreza \n",
            "\n",
            "Bom gosto, sua pizza sairá em breve!\n",
            "Sua pizzara estará chegando em breve\n",
            "Certamente, estaremos enviando seu lanche para Bloco 4 Unimar!\n"
          ]
        }
      ],
      "source": [
        "#Ex 3\n",
        "print('Insira o sabor desejado de pizza abaixo:')\n",
        "print('- Portuguesa \\n- Marguerita \\n- Calabreza \\n')\n",
        "sabor = input('Insira o sabor aqui > ')\n",
        "\n",
        "match sabor:\n",
        "    case 'Portuguesa':\n",
        "        print('Bom gosto, sua pizza sairá em breve!')\n",
        "        print('Sua pizzara estará chegando em breve')\n",
        "        pergunta = input('Deseja adicionar entrega?')\n",
        "        endereco = input('Insira seu endereço para entrega > ')\n",
        "\n",
        "        if pergunta == 'Sim':\n",
        "            print(f'Certamente, estaremos enviando seu lanche para {endereco}!')\n",
        "        elif pergunta == 'Não':\n",
        "                print('Excelente, venha para a loja buscar seu lanche!')\n",
        "        else:\n",
        "            print('Erro no sistema, repita o processo novamente')\n",
        "\n",
        "    case 'Marguerita':\n",
        "        print('Bom gosto, sua pizza sairá em breve!')\n",
        "        print('Sua pizzara estará chegando em breve')\n",
        "        pergunta = input('Deseja adicionar entrega?')\n",
        "        endereco = input('Insira seu endereço para entrega > ')\n",
        "\n",
        "        if pergunta == 'Sim':\n",
        "            print(f'Certamente, estaremos enviando seu lanche para {endereco}!')\n",
        "        elif pergunta == 'Não':\n",
        "                print('Excelente, venha para a loja buscar seu lanche!')\n",
        "        else:\n",
        "            print('Erro no sistema, repita o processo novamente')\n",
        "    case 'Calabreza':\n",
        "        print('Bom gosto, sua pizza sairá em breve!')\n",
        "        print('Sua pizzara estará chegando em breve')\n",
        "        pergunta = input('Deseja adicionar entrega?')\n",
        "        endereco = input('Insira seu endereço para entrega > ')\n",
        "\n",
        "        if pergunta == 'Sim':\n",
        "            print(f'Certamente, estaremos enviando seu lanche para {endereco}!')\n",
        "        elif pergunta == 'Não':\n",
        "                print('Excelente, venha para a loja buscar seu lanche!')\n",
        "        else:\n",
        "            print('Erro no sistema, repita o processo novamente')\n",
        "    case _:\n",
        "        print('Escolha o sabor corretamente!')"
      ]
    },
    {
      "cell_type": "markdown",
      "metadata": {},
      "source": [
        "Exercícios - Match-case\n",
        "\n",
        "01. Faça um algoritmo que leia um número de `1 a 7`, use match-case para imprimir o ida da semana correspondente por extenso. Se o número não estiver neste intervalo, mostre \"Dia inválido\"!"
      ]
    },
    {
      "cell_type": "code",
      "execution_count": null,
      "metadata": {},
      "outputs": [],
      "source": [
        "dia = input('Insira qual número da semana (1 a 7) deseja solicitar > ')\n",
        "\n",
        "match dia:\n",
        "    case '1':\n",
        "        print('Segunda feira —— Pompéia, Sp ')\n",
        "    case '2':\n",
        "        print('Terça feira —— Pompéia, Sp ')\n",
        "    case '3':\n",
        "        print('Quarta feira —— Pompéia, Sp ')\n",
        "    case '4':\n",
        "        print('Quinta feira —— Pompéia, Sp ')\n",
        "    case '5':\n",
        "        print('Sexta feira —— Pompéia, Sp ')\n",
        "    case '6':\n",
        "        print('Sábado —— Pompéia, Sp ')\n",
        "    case '7':\n",
        "        print('Domingo —— Pompéia, Sp ')\n",
        "    case _:\n",
        "        print('Dia inválido')"
      ]
    },
    {
      "cell_type": "markdown",
      "metadata": {},
      "source": [
        "02. Faça um algoritmo que leia dois números e uma operação (soma, sub, mult, div). Use match-case para realizar a operação e imprimir o resultado. Se a operação for inválida, imprima \"Operação inválida!\".\n",
        "03. Faça um algoritmo que leia um nome de um animal (cachorro, gato, cobra, galinha). Com essa informação, identifique o tipo do animal (mamífero, réptil ou ave). Caso o animal não esteja nas opções, mostrar \"Animal inválido\"."
      ]
    },
    {
      "cell_type": "code",
      "execution_count": null,
      "metadata": {},
      "outputs": [],
      "source": [
        "# 02\n",
        "operacao = input('Insira qual o tipo da operação')\n",
        "\n",
        "match operacao.lower():\n",
        "    case 'soma':\n",
        "        numero = float(input('Insira o primeiro número: '))\n",
        "        numeroOutro = float(input('Insira o segundo número: '))\n",
        "        print(f'O resultado da operação de tipo soma é: {numero + numeroOutro}')\n",
        "    case 'subtração':\n",
        "        numero = float(input('Insira o primeiro número: '))\n",
        "        numeroOutro = float(input('Insira o segundo número: '))\n",
        "        print(f'O resultado da operação de tipo subtração é: {numero - numeroOutro}')\n",
        "    case 'multiplicação':\n",
        "        numero = float(input('Insira o primeiro número: '))\n",
        "        numeroOutro = float(input('Insira o segundo número: '))\n",
        "        print(f'O resultado da operação de tipo multiplicação é: {numero * numeroOutro}')\n",
        "    case 'divisão':\n",
        "        numero = float(input('Insira o primeiro número: '))\n",
        "        numeroOutro = float(input('Insira o segundo número: '))\n",
        "        print(f'O resultado da operação de tipo divisão é: {numero / numeroOutro}')\n",
        "    case _:\n",
        "        print('Operação inválida!')"
      ]
    },
    {
      "cell_type": "code",
      "execution_count": 5,
      "metadata": {},
      "outputs": [
        {
          "name": "stdout",
          "output_type": "stream",
          "text": [
            "Certamente, Luan Pereira! Estarei apresentando os dados do cachorro abaixo:\n",
            "\n",
            " - Tipo: Mamífero. \n",
            " - Peso médio: 5kg a 80kg (Depende bastante da raça) \n",
            " - Outras características: Diversas raças com tamanhos e temperamentos variados; excelente olfato; domesticado há milhares de anos.\n"
          ]
        }
      ],
      "source": [
        "# 03\n",
        "\n",
        "fazendeiro = input('Insira seu nome de fazendeiro > ')\n",
        "animal = input('Insira o nome de um animal (Cachorro, gato, cobra ou galinha) para saber suas informações > ')\n",
        "\n",
        "match animal.lower():\n",
        "    case 'cachorro':\n",
        "        print(f'Certamente, {fazendeiro}! Estarei apresentando os dados do cachorro abaixo:')\n",
        "        print('\\n - Tipo: Mamífero. \\n - Peso médio: 5kg a 80kg (Depende bastante da raça) \\n - Outras características: Diversas raças com tamanhos e temperamentos variados; excelente olfato; domesticado há milhares de anos.')\n",
        "    case 'gato':\n",
        "        print(f'Certamente, {fazendeiro}! Estarei apresentando os dados do gato abaixo:')\n",
        "        print('\\n - Tipo: Mamífero. \\n - Peso médio: 2,5kg a 7kg \\n - Outras características: Ágil e independente; visão noturna apurada; excelente caçador; ronrona quando está feliz.')\n",
        "    case 'cobra':\n",
        "        print(f'Certamente, {fazendeiro}! Estarei apresentando os dados do cobra abaixo:')\n",
        "        print('\\n - Tipo: Réptil. \\n - Peso médio: 1kg a 250 kg (Depende bastante da espécie) \\n - Outras características: Corpo alongado e flexível; algumas espécies são venenosas; não possuem patas; trocam de pele.')\n",
        "    case 'galinha':\n",
        "        print(f'Certamente, {fazendeiro}! Estarei apresentando os dados do galinha abaixo:')\n",
        "        print('\\n - Tipo: Ave. \\n - Peso médio: 1,5 a 5 kg \\n - Outras características: Domésticada para produção de carne e ovos; algumas raças botam ovos de cores diferentes; possuem crista e barbela.')\n",
        "    case _:\n",
        "        print('Animal não encontrado!')\n"
      ]
    },
    {
      "cell_type": "markdown",
      "metadata": {},
      "source": [
        "04. Faça um algoritmo que leia um número e mostre se ele é par ou ímpar.\n",
        "05. Faça um número que leia uma letra do alfabeto e mostre se ela é vogal ou consoante."
      ]
    },
    {
      "cell_type": "code",
      "execution_count": null,
      "metadata": {},
      "outputs": [
        {
          "name": "stdout",
          "output_type": "stream",
          "text": [
            "O número 2 é par!\n"
          ]
        }
      ],
      "source": [
        "# 04\n",
        "\n",
        "numero = int(input('Insira um número para verificar se é par ou impar > '))\n",
        "calculo = (numero % 2)\n",
        "\n",
        "match calculo:\n",
        "    case 0:\n",
        "        print(f'O número {numero} é par!')\n",
        "    case _:\n",
        "        print(f'O número {numero} é impar!')"
      ]
    },
    {
      "cell_type": "code",
      "execution_count": 34,
      "metadata": {},
      "outputs": [
        {
          "name": "stdout",
          "output_type": "stream",
          "text": [
            "O número 2 é um número!\n"
          ]
        }
      ],
      "source": [
        "# 05\n",
        "\n",
        "letraAlfabeto = str(input('Insira uma letra do alfabeto para verificar se é vogal ou consoante'))\n",
        "\n",
        "match letraAlfabeto.lower():\n",
        "    case 'a' | 'e' | 'i' | 'o' | 'u':\n",
        "        print(f'A letra {letraAlfabeto} é uma vogal!')\n",
        "    case letraAlfabeto if letraAlfabeto.isdigit:\n",
        "        print(f'O número {letraAlfabeto} é um número!')\n",
        "    case _:\n",
        "        print(f'A letra {letraAlfabeto} é uma consoante!')"
      ]
    },
    {
      "cell_type": "markdown",
      "metadata": {},
      "source": [
        "06. Faça um algoritmo que leia uma entrada em R$. Mostrar as opções de conversão de moeda para o usuário (USD, EUR, YEN ou ARS). O usuário deve escolher para qual moeda ele deseja converter seu dinheiro."
      ]
    },
    {
      "cell_type": "code",
      "execution_count": null,
      "metadata": {},
      "outputs": [
        {
          "name": "stdout",
          "output_type": "stream",
          "text": [
            "A conversão de 1.0 reais para yen é de: 26.0 YEN\n"
          ]
        }
      ],
      "source": [
        "# 06\n",
        "\n",
        "conversao = input('Primeiramente, insira o tipo de conversão de reais para (USD, EUR, YEN ou ARS) > ')\n",
        "usd = 5.73\n",
        "eur = 6.43\n",
        "yen = 26\n",
        "ars = 186.51\n",
        "\n",
        "match conversao.lower():\n",
        "    case 'usd':\n",
        "        real = float(input('Insira a quantidade em real > '))\n",
        "        print(f'A conversão de {real} reais para dolar é de: {real / usd} USD')\n",
        "    case 'eur':\n",
        "        real = float(input('Insira a quantidade em real > '))\n",
        "        print(f'A conversão de {real} reais para euro é de: {real / eur} EURO')\n",
        "    case 'yen':\n",
        "        real = float(input('Insira a quantidade em real > '))\n",
        "        print(f'A conversão de {real} reais para yen é de: {real / yen} YEN')\n",
        "    case 'ars':\n",
        "        real = float(input('Insira a quantidade em real > '))\n",
        "        print(f'A conversão de {real} reais para peso argentino é de: {real / ars} ARS')\n",
        "    case _:\n",
        "        print('Tipo de conversão inválida!')"
      ]
    },
    {
      "cell_type": "markdown",
      "metadata": {},
      "source": [
        "07. O cliente fez uma compra de X reais na lojinha do MAX. Mostre as seguintes opções de pagamento: Débito, Crédito, Parcelado ou Pix. Se escolher PIX, calcular desconto de 5% do valor da compra. Parcelado até 3x sem acréscimo. Parcelado até 7x acréscimo de 5%. Acima de 7x acréscimo de 10%. Demais opções de compra não há alteração."
      ]
    },
    {
      "cell_type": "code",
      "execution_count": null,
      "metadata": {},
      "outputs": [
        {
          "name": "stdout",
          "output_type": "stream",
          "text": [
            "Olá! Seja bem-vindo(a) a lojinha MAX, os seguintes pagamentos são: \n",
            " 1. Débito \n",
            " 2. Crédito \n",
            " 3. Parcelado \n",
            " 4. PIX\n",
            "Você escolheu o pagamento por Parcelado..\n",
            "O valor do GTA 5 é de 100.0\n"
          ]
        }
      ],
      "source": [
        "print('Olá! Seja bem-vindo(a) à lojinha MAX, os seguintes pagamentos são:\\n 1. Débito \\n 2. Crédito \\n 3. Parcelado \\n 4. PIX')\n",
        "decisao = float(input('Insira o número abaixo para prosseguir o pagamento > '))\n",
        "desconto = 0.05 \n",
        "\n",
        "match decisao:\n",
        "    case 1 | 2:\n",
        "        precoPagamento = float(input('Insira o preço que você pagou pelo GTA 5 > '))\n",
        "        print(f'O valor do seu pagamento foi de R$ {precoPagamento}')\n",
        "    \n",
        "    case 3:\n",
        "        print('Você escolheu o pagamento por Parcelado..')\n",
        "        precoPagamento = float(input('Insira o preço que você pagou pelo GTA 5 > '))\n",
        "        parcelas = int(input('Insira a quantidade de parcelas > '))\n",
        "        \n",
        "        if parcelas > 3 and parcelas <= 7:\n",
        "            acrescimo = precoPagamento * 0.5\n",
        "            print(f'O valor total do GTA 5 com acréscimo é de R$ {precoPagamento + acrescimo}')\n",
        "        elif parcelas <= 3:\n",
        "            print(f'O valor total do GTA 5 é de R$ {precoPagamento}')\n",
        "        elif parcelas >= 7:\n",
        "            acrescimo = precoPagamento * 0.1\n",
        "            print(f'O valor total do GTA 5 com acréscimo é de R$ {precoPagamento + acrescimo}')\n",
        "    \n",
        "    case 4:\n",
        "        print('Você escolheu o pagamento por PIX..')\n",
        "        precoPagamento = float(input('Insira o preço que você pagou pelo GTA 5 X > '))\n",
        "        precoFinal = precoPagamento - (precoPagamento * desconto)\n",
        "        print(f'O seu pagamento de R$ {precoPagamento} foi efetuado com sucesso! Sofreu um desconto de 5%, sendo o valor final: R$ {precoFinal}')\n",
        "    \n",
        "    case _:\n",
        "        print('Pagamento não encontrado, tente novamente!')\n"
      ]
    },
    {
      "cell_type": "markdown",
      "metadata": {},
      "source": [
        "## Estrutura de repetição (WHILE)\n",
        "\n",
        "Uma das estruturas de repetição do Python é o `while`, `enquanto` em pseudocódigo, que se repete um bloco enquanto a condição testada for verdadeira.\n",
        "\n",
        "            while <codicao>\n",
        "                bloco\n",
        "\n",
        "Para resolver o problema de escrever três números utilizando o `while`, escreveríamos o seguinte programa:"
      ]
    },
    {
      "cell_type": "code",
      "execution_count": 4,
      "metadata": {},
      "outputs": [
        {
          "name": "stdout",
          "output_type": "stream",
          "text": [
            "2\n",
            "3\n",
            "4\n"
          ]
        }
      ],
      "source": [
        "x = 1\n",
        "\n",
        "while x <= 3:\n",
        "    x = x + 1\n",
        "    print(x)"
      ]
    },
    {
      "cell_type": "markdown",
      "metadata": {},
      "source": [
        "Dentro do bloco do while, podemos ter quaisquer estrutura necessária, como outra de repetição, estruturas de controle etc. Dependerá da necessidade de cada contexto.\n",
        "01EX. Modifique o programa anterior para exibir números de 1 a 100."
      ]
    },
    {
      "cell_type": "code",
      "execution_count": 11,
      "metadata": {},
      "outputs": [
        {
          "name": "stdout",
          "output_type": "stream",
          "text": [
            "1\n",
            "2\n",
            "3\n",
            "4\n",
            "5\n",
            "6\n",
            "7\n",
            "8\n",
            "9\n",
            "10\n",
            "11\n",
            "12\n",
            "13\n",
            "14\n",
            "15\n",
            "16\n",
            "17\n",
            "18\n",
            "19\n",
            "20\n",
            "21\n",
            "22\n",
            "23\n",
            "24\n",
            "25\n",
            "26\n",
            "27\n",
            "28\n",
            "29\n",
            "30\n",
            "31\n",
            "32\n",
            "33\n",
            "34\n",
            "35\n",
            "36\n",
            "37\n",
            "38\n",
            "39\n",
            "40\n",
            "41\n",
            "42\n",
            "43\n",
            "44\n",
            "45\n",
            "46\n",
            "47\n",
            "48\n",
            "49\n",
            "50\n",
            "51\n",
            "52\n",
            "53\n",
            "54\n",
            "55\n",
            "56\n",
            "57\n",
            "58\n",
            "59\n",
            "60\n",
            "61\n",
            "62\n",
            "63\n",
            "64\n",
            "65\n",
            "66\n",
            "67\n",
            "68\n",
            "69\n",
            "70\n",
            "71\n",
            "72\n",
            "73\n",
            "74\n",
            "75\n",
            "76\n",
            "77\n",
            "78\n",
            "79\n",
            "80\n",
            "81\n",
            "82\n",
            "83\n",
            "84\n",
            "85\n",
            "86\n",
            "87\n",
            "88\n",
            "89\n",
            "90\n",
            "91\n",
            "92\n",
            "93\n",
            "94\n",
            "95\n",
            "96\n",
            "97\n",
            "98\n",
            "99\n",
            "100\n"
          ]
        }
      ],
      "source": [
        "x = 1 \n",
        "\n",
        "while x <= 100:\n",
        "    print(x)\n",
        "    x = x + 1"
      ]
    },
    {
      "cell_type": "markdown",
      "metadata": {},
      "source": [
        "02 EX. Modifique o programa anterior para exibir números de 50 a 100."
      ]
    },
    {
      "cell_type": "code",
      "execution_count": 12,
      "metadata": {},
      "outputs": [
        {
          "name": "stdout",
          "output_type": "stream",
          "text": [
            "50\n",
            "51\n",
            "52\n",
            "53\n",
            "54\n",
            "55\n",
            "56\n",
            "57\n",
            "58\n",
            "59\n",
            "60\n",
            "61\n",
            "62\n",
            "63\n",
            "64\n",
            "65\n",
            "66\n",
            "67\n",
            "68\n",
            "69\n",
            "70\n",
            "71\n",
            "72\n",
            "73\n",
            "74\n",
            "75\n",
            "76\n",
            "77\n",
            "78\n",
            "79\n",
            "80\n",
            "81\n",
            "82\n",
            "83\n",
            "84\n",
            "85\n",
            "86\n",
            "87\n",
            "88\n",
            "89\n",
            "90\n",
            "91\n",
            "92\n",
            "93\n",
            "94\n",
            "95\n",
            "96\n",
            "97\n",
            "98\n",
            "99\n",
            "100\n"
          ]
        }
      ],
      "source": [
        "x = 50\n",
        "\n",
        "while x <= 100:\n",
        "    print(x)\n",
        "    x = x + 1"
      ]
    },
    {
      "cell_type": "markdown",
      "metadata": {},
      "source": [
        "03 EX. Faça um programa para escrever a contagem regressiva do lançamento de um foguete. O programa deve imprimir:\n",
        "\n",
        "Iniciando lançamento..\n",
        "10\n",
        "\n",
        "9\n",
        "\n",
        "8\n",
        "\n",
        "7\n",
        "\n",
        "...\n",
        "\n",
        "0\n",
        "\n",
        "Foguete lançado!"
      ]
    },
    {
      "cell_type": "code",
      "execution_count": 20,
      "metadata": {},
      "outputs": [
        {
          "name": "stdout",
          "output_type": "stream",
          "text": [
            "Iniciando lançamento...\n",
            "10\n",
            "9\n",
            "8\n",
            "7\n",
            "6\n",
            "5\n",
            "4\n",
            "3\n",
            "2\n",
            "1\n",
            "0\n",
            "Foguete lançado!\n"
          ]
        }
      ],
      "source": [
        "x = 10\n",
        "print('Iniciando lançamento...')\n",
        "\n",
        "while x >= 0:\n",
        "    print(x)\n",
        "    x -= 1\n",
        "\n",
        "print('Foguete lançado!')"
      ]
    },
    {
      "cell_type": "markdown",
      "metadata": {},
      "source": [
        "## Contadores\n",
        "\n",
        "Podemos utilizar mais de uma variável para controle da estrutura. Imagine um problema em que devemos mostrar os números inteiros entre 1 e um valor digitado pelo usuário:"
      ]
    },
    {
      "cell_type": "code",
      "execution_count": 22,
      "metadata": {},
      "outputs": [
        {
          "name": "stdout",
          "output_type": "stream",
          "text": [
            "1\n",
            "2\n",
            "3\n",
            "4\n",
            "5\n",
            "6\n",
            "7\n",
            "8\n",
            "9\n",
            "10\n",
            "11\n",
            "12\n",
            "13\n",
            "14\n",
            "15\n",
            "16\n",
            "17\n",
            "18\n",
            "19\n",
            "20\n",
            "21\n",
            "22\n",
            "23\n",
            "24\n",
            "25\n",
            "26\n",
            "27\n",
            "28\n",
            "29\n",
            "30\n",
            "31\n",
            "32\n",
            "33\n",
            "34\n",
            "35\n",
            "36\n",
            "37\n",
            "38\n",
            "39\n",
            "40\n",
            "41\n",
            "42\n",
            "43\n",
            "44\n",
            "45\n",
            "46\n",
            "47\n",
            "48\n",
            "49\n",
            "50\n",
            "51\n",
            "52\n",
            "53\n",
            "54\n",
            "55\n",
            "56\n",
            "57\n",
            "58\n",
            "59\n",
            "60\n",
            "61\n",
            "62\n",
            "63\n",
            "64\n",
            "65\n",
            "66\n",
            "67\n",
            "68\n",
            "69\n",
            "70\n",
            "71\n",
            "72\n",
            "73\n",
            "74\n",
            "75\n",
            "76\n",
            "77\n",
            "78\n",
            "79\n",
            "80\n",
            "81\n",
            "82\n",
            "83\n",
            "84\n",
            "85\n",
            "86\n",
            "87\n",
            "88\n",
            "89\n",
            "90\n",
            "91\n",
            "92\n",
            "93\n",
            "94\n",
            "95\n",
            "96\n",
            "97\n",
            "98\n",
            "99\n",
            "100\n",
            "101\n",
            "102\n",
            "103\n",
            "104\n",
            "105\n",
            "106\n",
            "107\n",
            "108\n",
            "109\n",
            "110\n",
            "111\n",
            "112\n",
            "113\n",
            "114\n",
            "115\n",
            "116\n",
            "117\n",
            "118\n",
            "119\n",
            "120\n",
            "121\n",
            "122\n",
            "123\n",
            "124\n",
            "125\n",
            "126\n",
            "127\n",
            "128\n",
            "129\n",
            "130\n",
            "131\n",
            "132\n",
            "133\n",
            "134\n",
            "135\n",
            "136\n",
            "137\n",
            "138\n",
            "139\n",
            "140\n",
            "141\n",
            "142\n",
            "143\n",
            "144\n",
            "145\n",
            "146\n",
            "147\n",
            "148\n",
            "149\n",
            "150\n",
            "151\n",
            "152\n",
            "153\n",
            "154\n",
            "155\n",
            "156\n",
            "157\n",
            "158\n",
            "159\n",
            "160\n",
            "161\n",
            "162\n",
            "163\n",
            "164\n",
            "165\n",
            "166\n",
            "167\n",
            "168\n",
            "169\n",
            "170\n",
            "171\n",
            "172\n",
            "173\n",
            "174\n",
            "175\n",
            "176\n",
            "177\n",
            "178\n",
            "179\n",
            "180\n",
            "181\n",
            "182\n",
            "183\n",
            "184\n",
            "185\n",
            "186\n",
            "187\n",
            "188\n",
            "189\n",
            "190\n",
            "191\n",
            "192\n",
            "193\n",
            "194\n",
            "195\n",
            "196\n",
            "197\n",
            "198\n",
            "199\n",
            "200\n",
            "201\n",
            "202\n",
            "203\n",
            "204\n",
            "205\n",
            "206\n",
            "207\n",
            "208\n",
            "209\n",
            "210\n",
            "211\n",
            "212\n",
            "213\n",
            "214\n",
            "215\n",
            "216\n",
            "217\n",
            "218\n",
            "219\n",
            "220\n",
            "221\n",
            "222\n",
            "223\n",
            "224\n",
            "225\n",
            "226\n",
            "227\n",
            "228\n",
            "229\n",
            "230\n",
            "231\n",
            "232\n",
            "233\n",
            "234\n",
            "235\n",
            "236\n",
            "237\n",
            "238\n",
            "239\n",
            "240\n",
            "241\n",
            "242\n",
            "243\n",
            "244\n",
            "245\n",
            "246\n",
            "247\n",
            "248\n",
            "249\n",
            "250\n",
            "251\n",
            "252\n",
            "253\n",
            "254\n",
            "255\n",
            "256\n",
            "257\n",
            "258\n",
            "259\n",
            "260\n",
            "261\n",
            "262\n",
            "263\n",
            "264\n",
            "265\n",
            "266\n",
            "267\n",
            "268\n",
            "269\n",
            "270\n",
            "271\n",
            "272\n",
            "273\n",
            "274\n",
            "275\n",
            "276\n",
            "277\n",
            "278\n",
            "279\n",
            "280\n",
            "281\n",
            "282\n",
            "283\n",
            "284\n",
            "285\n",
            "286\n",
            "287\n",
            "288\n",
            "289\n",
            "290\n",
            "291\n",
            "292\n",
            "293\n",
            "294\n",
            "295\n",
            "296\n",
            "297\n",
            "298\n",
            "299\n",
            "300\n",
            "301\n",
            "302\n",
            "303\n",
            "304\n",
            "305\n",
            "306\n",
            "307\n",
            "308\n",
            "309\n",
            "310\n",
            "311\n",
            "312\n",
            "313\n",
            "314\n",
            "315\n",
            "316\n",
            "317\n",
            "318\n",
            "319\n",
            "320\n",
            "321\n",
            "322\n",
            "323\n",
            "324\n",
            "325\n",
            "326\n",
            "327\n",
            "328\n",
            "329\n",
            "330\n",
            "331\n",
            "332\n",
            "333\n",
            "334\n",
            "335\n",
            "336\n",
            "337\n",
            "338\n",
            "339\n",
            "340\n",
            "341\n",
            "342\n",
            "343\n",
            "344\n",
            "345\n",
            "346\n",
            "347\n",
            "348\n",
            "349\n",
            "350\n",
            "351\n",
            "352\n",
            "353\n",
            "354\n",
            "355\n",
            "356\n",
            "357\n",
            "358\n",
            "359\n",
            "360\n",
            "361\n",
            "362\n",
            "363\n",
            "364\n",
            "365\n",
            "366\n",
            "367\n",
            "368\n",
            "369\n",
            "370\n",
            "371\n",
            "372\n",
            "373\n",
            "374\n",
            "375\n",
            "376\n",
            "377\n",
            "378\n",
            "379\n",
            "380\n",
            "381\n",
            "382\n",
            "383\n",
            "384\n",
            "385\n",
            "386\n",
            "387\n",
            "388\n",
            "389\n",
            "390\n",
            "391\n",
            "392\n",
            "393\n",
            "394\n",
            "395\n",
            "396\n",
            "397\n",
            "398\n",
            "399\n",
            "400\n",
            "401\n",
            "402\n",
            "403\n",
            "404\n",
            "405\n",
            "406\n",
            "407\n",
            "408\n",
            "409\n",
            "410\n",
            "411\n",
            "412\n",
            "413\n",
            "414\n",
            "415\n",
            "416\n",
            "417\n",
            "418\n",
            "419\n",
            "420\n",
            "421\n",
            "422\n",
            "423\n",
            "424\n",
            "425\n",
            "426\n",
            "427\n",
            "428\n",
            "429\n",
            "430\n",
            "431\n",
            "432\n",
            "433\n",
            "434\n",
            "435\n",
            "436\n",
            "437\n",
            "438\n",
            "439\n",
            "440\n",
            "441\n",
            "442\n",
            "443\n",
            "444\n",
            "445\n",
            "446\n",
            "447\n",
            "448\n",
            "449\n",
            "450\n",
            "451\n",
            "452\n",
            "453\n",
            "454\n",
            "455\n",
            "456\n",
            "457\n",
            "458\n",
            "459\n",
            "460\n",
            "461\n",
            "462\n",
            "463\n",
            "464\n",
            "465\n",
            "466\n",
            "467\n",
            "468\n",
            "469\n",
            "470\n",
            "471\n",
            "472\n",
            "473\n",
            "474\n",
            "475\n",
            "476\n",
            "477\n",
            "478\n",
            "479\n",
            "480\n",
            "481\n",
            "482\n",
            "483\n",
            "484\n",
            "485\n",
            "486\n",
            "487\n",
            "488\n",
            "489\n",
            "490\n",
            "491\n",
            "492\n",
            "493\n",
            "494\n",
            "495\n",
            "496\n",
            "497\n",
            "498\n",
            "499\n",
            "500\n",
            "501\n",
            "502\n",
            "503\n",
            "504\n",
            "505\n",
            "506\n",
            "507\n",
            "508\n",
            "509\n",
            "510\n",
            "511\n",
            "512\n",
            "513\n",
            "514\n",
            "515\n",
            "516\n",
            "517\n",
            "518\n",
            "519\n",
            "520\n",
            "521\n",
            "522\n",
            "523\n",
            "524\n",
            "525\n",
            "526\n",
            "527\n",
            "528\n",
            "529\n",
            "530\n",
            "531\n",
            "532\n",
            "533\n",
            "534\n",
            "535\n",
            "536\n",
            "537\n",
            "538\n",
            "539\n",
            "540\n",
            "541\n",
            "542\n",
            "543\n",
            "544\n",
            "545\n",
            "546\n",
            "547\n",
            "548\n",
            "549\n",
            "550\n",
            "551\n",
            "552\n",
            "553\n",
            "554\n",
            "555\n",
            "556\n",
            "557\n",
            "558\n",
            "559\n",
            "560\n",
            "561\n",
            "562\n",
            "563\n",
            "564\n",
            "565\n",
            "566\n",
            "567\n",
            "568\n",
            "569\n",
            "570\n",
            "571\n",
            "572\n",
            "573\n",
            "574\n",
            "575\n",
            "576\n",
            "577\n",
            "578\n",
            "579\n",
            "580\n",
            "581\n",
            "582\n",
            "583\n",
            "584\n",
            "585\n",
            "586\n",
            "587\n",
            "588\n",
            "589\n",
            "590\n",
            "591\n",
            "592\n",
            "593\n",
            "594\n",
            "595\n",
            "596\n",
            "597\n",
            "598\n",
            "599\n",
            "600\n",
            "601\n",
            "602\n",
            "603\n",
            "604\n",
            "605\n",
            "606\n",
            "607\n",
            "608\n",
            "609\n",
            "610\n",
            "611\n",
            "612\n",
            "613\n",
            "614\n",
            "615\n",
            "616\n",
            "617\n",
            "618\n",
            "619\n",
            "620\n",
            "621\n",
            "622\n",
            "623\n",
            "624\n",
            "625\n",
            "626\n",
            "627\n",
            "628\n",
            "629\n",
            "630\n",
            "631\n",
            "632\n",
            "633\n",
            "634\n",
            "635\n",
            "636\n",
            "637\n",
            "638\n",
            "639\n",
            "640\n",
            "641\n",
            "642\n",
            "643\n",
            "644\n",
            "645\n",
            "646\n",
            "647\n",
            "648\n",
            "649\n",
            "650\n",
            "651\n",
            "652\n",
            "653\n",
            "654\n",
            "655\n",
            "656\n",
            "657\n",
            "658\n",
            "659\n",
            "660\n",
            "661\n",
            "662\n",
            "663\n",
            "664\n",
            "665\n",
            "666\n",
            "667\n",
            "668\n",
            "669\n",
            "670\n",
            "671\n",
            "672\n",
            "673\n",
            "674\n",
            "675\n",
            "676\n",
            "677\n",
            "678\n",
            "679\n",
            "680\n",
            "681\n",
            "682\n",
            "683\n",
            "684\n",
            "685\n",
            "686\n",
            "687\n",
            "688\n",
            "689\n",
            "690\n",
            "691\n",
            "692\n",
            "693\n",
            "694\n",
            "695\n",
            "696\n",
            "697\n",
            "698\n",
            "699\n",
            "700\n",
            "701\n",
            "702\n",
            "703\n",
            "704\n",
            "705\n",
            "706\n",
            "707\n",
            "708\n",
            "709\n",
            "710\n",
            "711\n",
            "712\n",
            "713\n",
            "714\n",
            "715\n",
            "716\n",
            "717\n",
            "718\n",
            "719\n",
            "720\n",
            "721\n",
            "722\n",
            "723\n",
            "724\n",
            "725\n",
            "726\n",
            "727\n",
            "728\n",
            "729\n",
            "730\n",
            "731\n",
            "732\n",
            "733\n",
            "734\n",
            "735\n",
            "736\n",
            "737\n",
            "738\n",
            "739\n",
            "740\n",
            "741\n",
            "742\n",
            "743\n",
            "744\n",
            "745\n",
            "746\n",
            "747\n",
            "748\n",
            "749\n",
            "750\n",
            "751\n",
            "752\n",
            "753\n",
            "754\n",
            "755\n",
            "756\n",
            "757\n",
            "758\n",
            "759\n",
            "760\n",
            "761\n",
            "762\n",
            "763\n",
            "764\n",
            "765\n",
            "766\n",
            "767\n",
            "768\n",
            "769\n",
            "770\n",
            "771\n",
            "772\n",
            "773\n",
            "774\n",
            "775\n",
            "776\n",
            "777\n",
            "778\n",
            "779\n",
            "780\n",
            "781\n",
            "782\n",
            "783\n",
            "784\n",
            "785\n",
            "786\n",
            "787\n",
            "788\n",
            "789\n",
            "790\n",
            "791\n",
            "792\n",
            "793\n",
            "794\n",
            "795\n",
            "796\n",
            "797\n",
            "798\n",
            "799\n",
            "800\n",
            "801\n",
            "802\n",
            "803\n",
            "804\n",
            "805\n",
            "806\n",
            "807\n",
            "808\n",
            "809\n",
            "810\n",
            "811\n",
            "812\n",
            "813\n",
            "814\n",
            "815\n",
            "816\n",
            "817\n",
            "818\n",
            "819\n",
            "820\n",
            "821\n",
            "822\n",
            "823\n",
            "824\n",
            "825\n",
            "826\n",
            "827\n",
            "828\n",
            "829\n",
            "830\n",
            "831\n",
            "832\n",
            "833\n",
            "834\n",
            "835\n",
            "836\n",
            "837\n",
            "838\n",
            "839\n",
            "840\n",
            "841\n",
            "842\n",
            "843\n",
            "844\n",
            "845\n",
            "846\n",
            "847\n",
            "848\n",
            "849\n",
            "850\n",
            "851\n",
            "852\n",
            "853\n",
            "854\n",
            "855\n",
            "856\n",
            "857\n",
            "858\n",
            "859\n",
            "860\n",
            "861\n",
            "862\n",
            "863\n",
            "864\n",
            "865\n",
            "866\n",
            "867\n",
            "868\n",
            "869\n",
            "870\n",
            "871\n",
            "872\n",
            "873\n",
            "874\n",
            "875\n",
            "876\n",
            "877\n",
            "878\n",
            "879\n",
            "880\n",
            "881\n",
            "882\n",
            "883\n",
            "884\n",
            "885\n",
            "886\n",
            "887\n",
            "888\n",
            "889\n",
            "890\n",
            "891\n",
            "892\n",
            "893\n",
            "894\n",
            "895\n",
            "896\n",
            "897\n",
            "898\n",
            "899\n",
            "900\n",
            "901\n",
            "902\n",
            "903\n",
            "904\n",
            "905\n",
            "906\n",
            "907\n",
            "908\n",
            "909\n",
            "910\n",
            "911\n",
            "912\n",
            "913\n",
            "914\n",
            "915\n",
            "916\n",
            "917\n",
            "918\n",
            "919\n",
            "920\n",
            "921\n",
            "922\n",
            "923\n",
            "924\n",
            "925\n",
            "926\n",
            "927\n",
            "928\n",
            "929\n",
            "930\n",
            "931\n",
            "932\n",
            "933\n",
            "934\n",
            "935\n",
            "936\n",
            "937\n",
            "938\n",
            "939\n",
            "940\n",
            "941\n",
            "942\n",
            "943\n",
            "944\n",
            "945\n",
            "946\n",
            "947\n",
            "948\n",
            "949\n",
            "950\n",
            "951\n",
            "952\n",
            "953\n",
            "954\n",
            "955\n",
            "956\n",
            "957\n",
            "958\n",
            "959\n",
            "960\n",
            "961\n",
            "962\n",
            "963\n",
            "964\n",
            "965\n",
            "966\n",
            "967\n",
            "968\n",
            "969\n",
            "970\n",
            "971\n",
            "972\n",
            "973\n",
            "974\n",
            "975\n",
            "976\n",
            "977\n",
            "978\n",
            "979\n",
            "980\n",
            "981\n",
            "982\n",
            "983\n",
            "984\n",
            "985\n",
            "986\n",
            "987\n",
            "988\n",
            "989\n",
            "990\n",
            "991\n",
            "992\n",
            "993\n",
            "994\n",
            "995\n",
            "996\n",
            "997\n",
            "998\n",
            "999\n",
            "1000\n",
            "1001\n",
            "1002\n",
            "1003\n",
            "1004\n",
            "1005\n",
            "1006\n",
            "1007\n",
            "1008\n",
            "1009\n",
            "1010\n",
            "1011\n",
            "1012\n",
            "1013\n",
            "1014\n",
            "1015\n",
            "1016\n",
            "1017\n",
            "1018\n",
            "1019\n",
            "1020\n",
            "1021\n",
            "1022\n",
            "1023\n",
            "1024\n",
            "1025\n",
            "1026\n",
            "1027\n",
            "1028\n",
            "1029\n",
            "1030\n",
            "1031\n",
            "1032\n",
            "1033\n",
            "1034\n",
            "1035\n",
            "1036\n",
            "1037\n",
            "1038\n",
            "1039\n",
            "1040\n",
            "1041\n",
            "1042\n",
            "1043\n",
            "1044\n",
            "1045\n",
            "1046\n",
            "1047\n",
            "1048\n",
            "1049\n",
            "1050\n",
            "1051\n",
            "1052\n",
            "1053\n",
            "1054\n",
            "1055\n",
            "1056\n",
            "1057\n",
            "1058\n",
            "1059\n",
            "1060\n",
            "1061\n",
            "1062\n",
            "1063\n",
            "1064\n",
            "1065\n",
            "1066\n",
            "1067\n",
            "1068\n",
            "1069\n",
            "1070\n",
            "1071\n",
            "1072\n",
            "1073\n",
            "1074\n",
            "1075\n",
            "1076\n",
            "1077\n",
            "1078\n",
            "1079\n",
            "1080\n",
            "1081\n",
            "1082\n",
            "1083\n",
            "1084\n",
            "1085\n",
            "1086\n",
            "1087\n",
            "1088\n",
            "1089\n",
            "1090\n",
            "1091\n",
            "1092\n",
            "1093\n",
            "1094\n",
            "1095\n",
            "1096\n",
            "1097\n",
            "1098\n",
            "1099\n",
            "1100\n",
            "1101\n",
            "1102\n",
            "1103\n",
            "1104\n",
            "1105\n",
            "1106\n",
            "1107\n",
            "1108\n",
            "1109\n",
            "1110\n",
            "1111\n",
            "Acabou!\n"
          ]
        }
      ],
      "source": [
        "numero = int(input('Insira um número para o último número da repetição > ')\n",
        ")\n",
        "\n",
        "x = 1\n",
        "\n",
        "while x <= numero:\n",
        "    print(x)\n",
        "    x += 1\n",
        "\n",
        "print('Acabou!')"
      ]
    },
    {
      "cell_type": "markdown",
      "metadata": {},
      "source": [
        "04 EX. Modifique o exemplo anterorior mostrando apenas os números pares existentes."
      ]
    },
    {
      "cell_type": "code",
      "execution_count": 24,
      "metadata": {},
      "outputs": [
        {
          "name": "stdout",
          "output_type": "stream",
          "text": [
            "0 1 2 3 4 5 6 7 8 9 10 \n",
            "Fim da sequência!\n"
          ]
        }
      ],
      "source": [
        "numero = int(input('Insira um número para o último número da repetição > ')\n",
        ")\n",
        "x = 0\n",
        "\n",
        "while x <= numero:\n",
        "    print(x, end=\" \")\n",
        "    x += 1\n",
        "\n",
        "print('\\nFim da sequência!')"
      ]
    },
    {
      "cell_type": "markdown",
      "metadata": {},
      "source": [
        "05 EX. Modifique o exercício anterior para ímprimir de 1 até o número digitado pelo usuário, mas dessa vez, imprima apenas os números impares."
      ]
    },
    {
      "cell_type": "code",
      "execution_count": 29,
      "metadata": {},
      "outputs": [
        {
          "name": "stdout",
          "output_type": "stream",
          "text": [
            "1 3 5 7 9 11 13 15 17 19 21 23 25 27 29 31 33 35 37 39 41 43 45 47 49 51 53 55 57 59 61 63 65 67 69 71 73 75 77 79 81 83 85 87 89 91 93 95 97 99 "
          ]
        }
      ],
      "source": [
        "numero = int(input('Insira um número para o último número da repetição > ')\n",
        ")\n",
        "x = 1\n",
        "while x <= numero:\n",
        "    print(x, end=\" \")\n",
        "    x += 2"
      ]
    },
    {
      "cell_type": "code",
      "execution_count": 34,
      "metadata": {},
      "outputs": [
        {
          "name": "stdout",
          "output_type": "stream",
          "text": [
            "0 2 4 6 8 10 12 14 16 18 20 22 24 "
          ]
        }
      ],
      "source": [
        "# 05.1 \n",
        "\n",
        "numero = int(input('Insira um número > '))\n",
        "\n",
        "if numero % 2 == 0:\n",
        "    x = 1\n",
        "    while x <= numero:\n",
        "        print(x, end=\" \")\n",
        "        x += 2\n",
        "elif numero % 2 != 0:\n",
        "    x = 0\n",
        "    while x <= numero:\n",
        "        print(x, end=\" \")\n",
        "        x += 2\n",
        "else:\n",
        "    print('O número não é par e nem ímpar!')"
      ]
    },
    {
      "cell_type": "markdown",
      "metadata": {},
      "source": [
        "06. Reescreva o programa anterior para escrever os 10 primeiros múltiplos de 3. Não precisa obter nada digitado pelo usuário."
      ]
    },
    {
      "cell_type": "code",
      "execution_count": 61,
      "metadata": {},
      "outputs": [
        {
          "name": "stdout",
          "output_type": "stream",
          "text": [
            "3 6 9 12 15 18 21 24 27 30 \n",
            "Finish!\n"
          ]
        }
      ],
      "source": [
        "x = 3\n",
        "while x <= 30:\n",
        "    print(x, end=\" \")\n",
        "    x += 3 \n",
        "\n",
        "print('\\nFinish!')"
      ]
    },
    {
      "cell_type": "markdown",
      "metadata": {},
      "source": [
        "07. Imagine ter de imprimir a tabuada de um número digitado pelo usuário. Essa tabuada deve ser impressa com os valores de 1 a 10, sendo `n` o número digitado pelo usuário.\n"
      ]
    },
    {
      "cell_type": "code",
      "execution_count": 102,
      "metadata": {},
      "outputs": [
        {
          "name": "stdout",
          "output_type": "stream",
          "text": [
            "10 + 0 = 10\n",
            "10 + 1 = 11\n",
            "10 + 2 = 12\n",
            "10 + 3 = 13\n",
            "10 + 4 = 14\n",
            "10 + 5 = 15\n",
            "10 + 6 = 16\n",
            "10 + 7 = 17\n",
            "10 + 8 = 18\n",
            "10 + 9 = 19\n",
            "10 + 10 = 20\n"
          ]
        }
      ],
      "source": [
        "n = int(input('Insira um número para tabuada > ')) #entrada\n",
        "\n",
        "x = 0 \n",
        "while x <= 10: \n",
        "    print(f'{n} + {x} = {n + x}') \n",
        "    x += 1"
      ]
    },
    {
      "cell_type": "markdown",
      "metadata": {},
      "source": [
        "08. Altere o programa anterior para exibir os resultados no mesmo formato ed uma tabuada de `multiplicação`."
      ]
    },
    {
      "cell_type": "code",
      "execution_count": null,
      "metadata": {},
      "outputs": [
        {
          "name": "stdout",
          "output_type": "stream",
          "text": [
            "5 x 0 = 0\n",
            "5 x 1 = 5\n",
            "5 x 2 = 10\n",
            "5 x 3 = 15\n",
            "5 x 4 = 20\n",
            "5 x 5 = 25\n",
            "5 x 6 = 30\n",
            "5 x 7 = 35\n",
            "5 x 8 = 40\n",
            "5 x 9 = 45\n",
            "5 x 10 = 50\n"
          ]
        }
      ],
      "source": [
        "n = int(input('Insira um número para tabuada > '))\n",
        "\n",
        "x = 0 \n",
        "while x <= 10: \n",
        "    print(f'{n} x {x} = {n * x}') \n",
        "    x += 1"
      ]
    },
    {
      "cell_type": "markdown",
      "metadata": {},
      "source": [
        "09. Modifique o programa anterior de forma que o usuário também digite o ínicio e fim da tabuada, em vez de começar com 1 e terminar com 10 como habitual.\n",
        "\n",
        "Exemplo:\n",
        "- Tabuada do número: 15\n",
        "- Digite o inicio da tabuada: 56\n",
        "- Digite o fim da tabuada: 78\n",
        "\n",
        "15 x 56 = 840\n",
        "\n",
        "...\n",
        "\n",
        "...\n",
        "\n",
        "15 x 178 = 1170"
      ]
    },
    {
      "cell_type": "code",
      "execution_count": null,
      "metadata": {},
      "outputs": [
        {
          "name": "stdout",
          "output_type": "stream",
          "text": [
            "15 x 56 = 840\n",
            "15 x 57 = 855\n",
            "15 x 58 = 870\n",
            "15 x 59 = 885\n",
            "15 x 60 = 900\n",
            "15 x 61 = 915\n",
            "15 x 62 = 930\n",
            "15 x 63 = 945\n",
            "15 x 64 = 960\n",
            "15 x 65 = 975\n",
            "15 x 66 = 990\n",
            "15 x 67 = 1005\n",
            "15 x 68 = 1020\n",
            "15 x 69 = 1035\n",
            "15 x 70 = 1050\n",
            "15 x 71 = 1065\n",
            "15 x 72 = 1080\n",
            "15 x 73 = 1095\n",
            "15 x 74 = 1110\n",
            "15 x 75 = 1125\n",
            "15 x 76 = 1140\n",
            "15 x 77 = 1155\n",
            "15 x 78 = 1170\n"
          ]
        }
      ],
      "source": [
        "tabuadaN = int(input('Insira um número para tabuada > '))\n",
        "tabuadaI = int(input('Insira um número para o ínicio da tabuada > '))\n",
        "tabuadaF = int(input('Insira um número para o fim da tabuada > '))\n",
        "\n",
        "while tabuadaI <= tabuadaF: \n",
        "    print(f'{tabuadaN} x {tabuadaI} = {tabuadaN * tabuadaI}') \n",
        "    tabuadaInicio += 1"
      ]
    },
    {
      "cell_type": "markdown",
      "metadata": {},
      "source": [
        "Contadores também podem ser úteis quando usados em condições dentro de programas. Vejamos um programa para corrigir um teste de múltipla escolha com três questões. A resposta da primeira é \"b\", da segunda \"a\" e da terceira \"d\". Segue o exemplo:"
      ]
    },
    {
      "cell_type": "code",
      "execution_count": null,
      "metadata": {},
      "outputs": [],
      "source": [
        "pontos = 0\n",
        "questao = 1\n",
        " \n",
        "while questao <= 3:\n",
        "    resposta = input(f'Resposta da questão: {questao}:')\n",
        "    if questao == 1 and resposta == 'b':\n",
        "        pontos += 1\n",
        "    if questao == 2 and resposta == 'a':\n",
        "        pontos += 1\n",
        "    if questao == 3 and resposta == 'd':\n",
        "        pontos += 1\n",
        "    \n",
        "    questao += 1\n",
        "\n",
        "print(f'Você fez {pontos} pontos!')"
      ]
    },
    {
      "cell_type": "code",
      "execution_count": null,
      "metadata": {},
      "outputs": [],
      "source": [
        "# 10\n",
        "pontos = 0\n",
        "questao = 1\n",
        " \n",
        "while questao <= 3:\n",
        "    resposta = input(f'Resposta da questão: {questao}:')\n",
        "    if questao == 1 and resposta == 'b' or resposta == 'B':\n",
        "        pontos += 1\n",
        "    if questao == 2 and resposta == 'a' or resposta == 'A':\n",
        "        pontos += 1\n",
        "    if questao == 3 and resposta == 'd' or resposta == 'D':\n",
        "        pontos += 1\n",
        "    \n",
        "    questao += 1\n",
        "\n",
        "print(f'Você fez {pontos} pontos!')"
      ]
    },
    {
      "cell_type": "markdown",
      "metadata": {},
      "source": [
        "## Acumuladores \n",
        "\n",
        "Nem sempre vamos precisar de apenas contadores. Em programas para calcular o total de uma soma por exemplo, precisamos de acumuladores.\n",
        "\n",
        "A diferença entre um contador e um acumulador é que nos contadores o valor adicionado é constante, e nos acumuladores, variável."
      ]
    },
    {
      "cell_type": "markdown",
      "metadata": {},
      "source": [
        "11 EX. Faça um programa que leia 10 números e ao final mostre a soma dentre estes 10 números digitado pelo usuário."
      ]
    },
    {
      "cell_type": "code",
      "execution_count": null,
      "metadata": {},
      "outputs": [
        {
          "name": "stdout",
          "output_type": "stream",
          "text": [
            "A soma de todos os números digitados é de 100!\n"
          ]
        }
      ],
      "source": [
        "contador = 1\n",
        "soma = 0 # variável acumuladora (totalizadora)\n",
        "\n",
        "while contador <= 10:\n",
        "    numero = int(input(f'Insira o {contador} número > '))\n",
        "    soma = soma + numero\n",
        "    contador = contador + 1\n",
        "\n",
        "print(f'A soma de todos os números digitados é de {soma}!')\n",
        "\n"
      ]
    },
    {
      "cell_type": "code",
      "execution_count": 1,
      "metadata": {},
      "outputs": [
        {
          "name": "stdout",
          "output_type": "stream",
          "text": [
            "A média das notas é 4.0\n"
          ]
        }
      ],
      "source": [
        "x = 1 #contador\n",
        "soma = 0\n",
        "qtde_notas = 0\n",
        "\n",
        "while x <= 4:\n",
        "    nota = int(input(f'Digite a {x} nota:'))\n",
        "    soma += nota\n",
        "    x += 1\n",
        "\n",
        "print(f'A média das notas é {soma / 4}')"
      ]
    },
    {
      "cell_type": "markdown",
      "metadata": {},
      "source": [
        "## Interrompendo a repetição \n",
        "\n",
        "A instrução `break` (quebrar, interromper, frear, em português) é utilizada para interromper a execução do `while` independentemente do valor atual de sua condição."
      ]
    },
    {
      "cell_type": "code",
      "execution_count": null,
      "metadata": {},
      "outputs": [],
      "source": [
        "soma = 0 \n",
        "\n",
        "while True:\n",
        "    numero = int(input('Insira um número para somar ou 0 para sair > '))\n",
        "    if numero == 0:\n",
        "        break #encerra a execução\n",
        "    soma += numero\n",
        "    \n",
        "print(f'A soma dos números digitados é: {soma}!')"
      ]
    },
    {
      "cell_type": "markdown",
      "metadata": {},
      "source": [
        "## Repetições aninhadas\n",
        "\n",
        "Podemos combinar vários while de forma a obter resultados mais interessantes, com a repetição com incremento de duas variáveis. Vamos exibir as tabuadas de multiplicação de 1 a 10."
      ]
    },
    {
      "cell_type": "code",
      "execution_count": 1,
      "metadata": {},
      "outputs": [
        {
          "name": "stdout",
          "output_type": "stream",
          "text": [
            "1 x 1 = 1\n",
            "1 x 2 = 2\n",
            "1 x 3 = 3\n",
            "1 x 4 = 4\n",
            "1 x 5 = 5\n",
            "1 x 6 = 6\n",
            "1 x 7 = 7\n",
            "1 x 8 = 8\n",
            "1 x 9 = 9\n",
            "1 x 10 = 10\n",
            "2 x 1 = 2\n",
            "2 x 2 = 4\n",
            "2 x 3 = 6\n",
            "2 x 4 = 8\n",
            "2 x 5 = 10\n",
            "2 x 6 = 12\n",
            "2 x 7 = 14\n",
            "2 x 8 = 16\n",
            "2 x 9 = 18\n",
            "2 x 10 = 20\n",
            "3 x 1 = 3\n",
            "3 x 2 = 6\n",
            "3 x 3 = 9\n",
            "3 x 4 = 12\n",
            "3 x 5 = 15\n",
            "3 x 6 = 18\n",
            "3 x 7 = 21\n",
            "3 x 8 = 24\n",
            "3 x 9 = 27\n",
            "3 x 10 = 30\n",
            "4 x 1 = 4\n",
            "4 x 2 = 8\n",
            "4 x 3 = 12\n",
            "4 x 4 = 16\n",
            "4 x 5 = 20\n",
            "4 x 6 = 24\n",
            "4 x 7 = 28\n",
            "4 x 8 = 32\n",
            "4 x 9 = 36\n",
            "4 x 10 = 40\n",
            "5 x 1 = 5\n",
            "5 x 2 = 10\n",
            "5 x 3 = 15\n",
            "5 x 4 = 20\n",
            "5 x 5 = 25\n",
            "5 x 6 = 30\n",
            "5 x 7 = 35\n",
            "5 x 8 = 40\n",
            "5 x 9 = 45\n",
            "5 x 10 = 50\n",
            "6 x 1 = 6\n",
            "6 x 2 = 12\n",
            "6 x 3 = 18\n",
            "6 x 4 = 24\n",
            "6 x 5 = 30\n",
            "6 x 6 = 36\n",
            "6 x 7 = 42\n",
            "6 x 8 = 48\n",
            "6 x 9 = 54\n",
            "6 x 10 = 60\n",
            "7 x 1 = 7\n",
            "7 x 2 = 14\n",
            "7 x 3 = 21\n",
            "7 x 4 = 28\n",
            "7 x 5 = 35\n",
            "7 x 6 = 42\n",
            "7 x 7 = 49\n",
            "7 x 8 = 56\n",
            "7 x 9 = 63\n",
            "7 x 10 = 70\n",
            "8 x 1 = 8\n",
            "8 x 2 = 16\n",
            "8 x 3 = 24\n",
            "8 x 4 = 32\n",
            "8 x 5 = 40\n",
            "8 x 6 = 48\n",
            "8 x 7 = 56\n",
            "8 x 8 = 64\n",
            "8 x 9 = 72\n",
            "8 x 10 = 80\n",
            "9 x 1 = 9\n",
            "9 x 2 = 18\n",
            "9 x 3 = 27\n",
            "9 x 4 = 36\n",
            "9 x 5 = 45\n",
            "9 x 6 = 54\n",
            "9 x 7 = 63\n",
            "9 x 8 = 72\n",
            "9 x 9 = 81\n",
            "9 x 10 = 90\n",
            "10 x 1 = 10\n",
            "10 x 2 = 20\n",
            "10 x 3 = 30\n",
            "10 x 4 = 40\n",
            "10 x 5 = 50\n",
            "10 x 6 = 60\n",
            "10 x 7 = 70\n",
            "10 x 8 = 80\n",
            "10 x 9 = 90\n",
            "10 x 10 = 100\n"
          ]
        }
      ],
      "source": [
        "tabuada = 1\n",
        "\n",
        "while tabuada <= 10:\n",
        "    numero = 1\n",
        "    while numero <= 10:\n",
        "        print(f'{tabuada} x {numero} = {tabuada * numero}')\n",
        "        numero += 1\n",
        "    tabuada += 1"
      ]
    },
    {
      "cell_type": "markdown",
      "metadata": {},
      "source": [
        "## Estrutura de Repetição (FOR)\n",
        "\n",
        "Como já vimos na estrutura de repetição `while`, as estruturas de repetição são um recurso das linguagens de programação responsável por executar um bloco de código repetidas vezes enquanto determina condição é atendida.\n",
        "\n",
        "O `for` por sua vez, é usada para repetir uma ação ***para cada item de uma sequência*** (como listas, strings ou intervalos numéricos).\n",
        "Em vez de escrever o mesmo comando várias vezes, o for percorre automaticamente cada elemento, executando o trecho de código identado dentro da estrutura."
      ]
    },
    {
      "cell_type": "markdown",
      "metadata": {},
      "source": [
        "## Range \n",
        "\n",
        "`range` em inglês: faixa; alcance; distância\n",
        "\n",
        "Quando não passado um início e fim, o python sempre iniciará com 0 e percorre até chegar o número informado, no caso abaixo 11, mostrando os números de 0 até 11."
      ]
    },
    {
      "cell_type": "code",
      "execution_count": 6,
      "metadata": {},
      "outputs": [
        {
          "name": "stdout",
          "output_type": "stream",
          "text": [
            "1 2 3 4 5 6 7 8 9 10 11 "
          ]
        }
      ],
      "source": [
        "\n",
        "for i in range(1,12):\n",
        "    print(i, end=\" \")"
      ]
    },
    {
      "cell_type": "code",
      "execution_count": 5,
      "metadata": {},
      "outputs": [
        {
          "name": "stdout",
          "output_type": "stream",
          "text": [
            "3 6 9 12 15 18 21 24 27 30 "
          ]
        }
      ],
      "source": [
        "for numero in range(3,33,3):\n",
        "    print(numero, end=\" \")"
      ]
    },
    {
      "cell_type": "markdown",
      "metadata": {},
      "source": [
        "## Strings\n",
        "\n",
        "Podemos também trabalhar com strings utilizando o `for`;"
      ]
    },
    {
      "cell_type": "code",
      "execution_count": 10,
      "metadata": {},
      "outputs": [
        {
          "name": "stdout",
          "output_type": "stream",
          "text": [
            "C o r i n t h i a n s "
          ]
        }
      ],
      "source": [
        "palavara = 'Corinthians'\n",
        "\n",
        "for letra in palavara:\n",
        "    print(letra, end=\" \")"
      ]
    },
    {
      "cell_type": "markdown",
      "metadata": {},
      "source": [
        "## Exercícios (FOR)\n",
        "\n",
        "1. Use o for para imprimir os números de 0 a 38.\n",
        "\n",
        "2. Imprima os números de 13 até 59.\n",
        "\n",
        "3. Imprima os números de 0 a 100 de 10 em 10.\n",
        "\n",
        "4. Peça ao usuário um número e mostre a tabuada dele."
      ]
    },
    {
      "cell_type": "code",
      "execution_count": 11,
      "metadata": {},
      "outputs": [
        {
          "name": "stdout",
          "output_type": "stream",
          "text": [
            "0 1 2 3 4 5 6 7 8 9 10 11 12 13 14 15 16 17 18 19 20 21 22 23 24 25 26 27 28 29 30 31 32 33 34 35 36 37 38 "
          ]
        }
      ],
      "source": [
        "# 1\n",
        "for i in range(0, 39):\n",
        "    print(i, end=\" \")"
      ]
    },
    {
      "cell_type": "code",
      "execution_count": 12,
      "metadata": {},
      "outputs": [
        {
          "name": "stdout",
          "output_type": "stream",
          "text": [
            "13 14 15 16 17 18 19 20 21 22 23 24 25 26 27 28 29 30 31 32 33 34 35 36 37 38 39 40 41 42 43 44 45 46 47 48 49 50 51 52 53 54 55 56 57 58 59 "
          ]
        }
      ],
      "source": [
        "# 2\n",
        "for i in range(13, 60):\n",
        "    print(i, end=\" \")"
      ]
    },
    {
      "cell_type": "code",
      "execution_count": 19,
      "metadata": {},
      "outputs": [
        {
          "name": "stdout",
          "output_type": "stream",
          "text": [
            "0 10 20 30 40 50 60 70 80 90 100 "
          ]
        }
      ],
      "source": [
        "# 3\n",
        "for i in range(0, 110, 10):\n",
        "    print(i, end=\" \")"
      ]
    },
    {
      "cell_type": "code",
      "execution_count": null,
      "metadata": {},
      "outputs": [
        {
          "name": "stdout",
          "output_type": "stream",
          "text": [
            "1 x 44 = 44\n",
            "2 x 44 = 88\n",
            "3 x 44 = 132\n",
            "4 x 44 = 176\n",
            "5 x 44 = 220\n",
            "6 x 44 = 264\n",
            "7 x 44 = 308\n",
            "8 x 44 = 352\n",
            "9 x 44 = 396\n",
            "10 x 44 = 440\n"
          ]
        }
      ],
      "source": [
        "# 4\n",
        "tabuada = int(input('Insira um número para solicitar tabuada >'))\n",
        "\n",
        "for numero in range(1, 11):\n",
        "    print(f'{numero} x {tabuada} = {tabuada * numero}')"
      ]
    },
    {
      "cell_type": "code",
      "execution_count": 60,
      "metadata": {},
      "outputs": [
        {
          "name": "stdout",
          "output_type": "stream",
          "text": [
            "0\n",
            "1\n",
            "2\n",
            "3\n",
            "4\n",
            "5\n",
            "6\n",
            "7\n",
            "8\n",
            "9\n"
          ]
        }
      ],
      "source": [
        "limiteCompra = 10\n",
        "\n",
        "for i in range(limiteCompra):\n",
        "    print(i)"
      ]
    },
    {
      "cell_type": "markdown",
      "metadata": {},
      "source": [
        "1. Use o for para imprimir os números de 0 a 38.\n",
        "\n",
        "2. Imprima os números de 13 até 59.\n",
        "\n",
        "3. Imprima os números de 0 a 100 de 10 em 10.\n",
        "\n",
        "4. Peça ao usuário um número e mostre a tabuada dele.\n",
        "\n",
        "5. Imprima apenas os números pares de 1 a 20.\n",
        "\n",
        "6. Peça uma palavra ao usuário e conte quantas vezes aparece a letra \"a\".\n",
        "\n",
        "7. Faça um programa que peça para `n` pessoas a sua idade. Ao final o programa deverá verificar a média de idade da turma:\n",
        "\n",
        "* Entre 0 e 25: Jovem aprendiz no Senai\n",
        "* Entre 26 a 60: Adulto\n",
        "* Maior que 60: Idosa\n",
        "\n",
        "Mostrar também a quantidade de pessoas em cada classificação."
      ]
    },
    {
      "cell_type": "code",
      "execution_count": null,
      "metadata": {},
      "outputs": [
        {
          "name": "stdout",
          "output_type": "stream",
          "text": [
            "0 1 2 3 4 5 6 7 8 9 10 11 12 13 14 15 16 17 18 19 20 21 22 23 24 25 26 27 28 29 30 31 32 33 34 35 36 37 38 "
          ]
        }
      ],
      "source": [
        "# 1\n",
        "for i in range(0, 39):\n",
        "    print(i, end=\" \")"
      ]
    },
    {
      "cell_type": "code",
      "execution_count": null,
      "metadata": {},
      "outputs": [
        {
          "name": "stdout",
          "output_type": "stream",
          "text": [
            "13 14 15 16 17 18 19 20 21 22 23 24 25 26 27 28 29 30 31 32 33 34 35 36 37 38 39 40 41 42 43 44 45 46 47 48 49 50 51 52 53 54 55 56 57 58 59 "
          ]
        }
      ],
      "source": [
        "# 2\n",
        "for i in range(13, 60):\n",
        "    print(i, end=\" \")"
      ]
    },
    {
      "cell_type": "code",
      "execution_count": 4,
      "metadata": {},
      "outputs": [
        {
          "name": "stdout",
          "output_type": "stream",
          "text": [
            "0 10 20 30 40 50 60 70 80 90 100 "
          ]
        }
      ],
      "source": [
        "# 3\n",
        "for i in range(0, 110, 10):\n",
        "    print(i, end=\" \")"
      ]
    },
    {
      "cell_type": "code",
      "execution_count": null,
      "metadata": {},
      "outputs": [
        {
          "name": "stdout",
          "output_type": "stream",
          "text": [
            "10 x 1 = 10\n",
            "10 x 2 = 20\n",
            "10 x 3 = 30\n",
            "10 x 4 = 40\n",
            "10 x 5 = 50\n",
            "10 x 6 = 60\n",
            "10 x 7 = 70\n",
            "10 x 8 = 80\n",
            "10 x 9 = 90\n",
            "10 x 10 = 100\n"
          ]
        }
      ],
      "source": [
        "# 4\n",
        "numero = int(input('Insira um número para ser solicitado tal tabuada > '))\n",
        "\n",
        "for tabuada in range(1, 11):\n",
        "    print(f'{numero} x {tabuada} = {numero * tabuada}')"
      ]
    },
    {
      "cell_type": "code",
      "execution_count": null,
      "metadata": {},
      "outputs": [
        {
          "name": "stdout",
          "output_type": "stream",
          "text": [
            "0 2 4 6 8 10 12 14 16 18 20 "
          ]
        }
      ],
      "source": [
        "# 5\n",
        "for i in range(0, 21, 2):\n",
        "    print(i, end=\" \")"
      ]
    },
    {
      "cell_type": "code",
      "execution_count": null,
      "metadata": {},
      "outputs": [
        {
          "name": "stdout",
          "output_type": "stream",
          "text": [
            "A palavra aaaaaaaaaaaaa aparece 13 vezes\n"
          ]
        }
      ],
      "source": [
        "# 6\n",
        "insiraPalavra = input('Insira uma palavra para verificação quantas vezes a sua palavra repete A > ')\n",
        "vezes = 0\n",
        "\n",
        "for letraA in insiraPalavra:\n",
        "    if letraA == 'A' or letraA == 'a':\n",
        "        vezes += 1\n",
        "\n",
        "print(f'A palavra [{insiraPalavra}] aparece [{vezes}] vezes')"
      ]
    },
    {
      "cell_type": "code",
      "execution_count": 70,
      "metadata": {},
      "outputs": [
        {
          "name": "stdout",
          "output_type": "stream",
          "text": [
            "Dentro de 10 alunos, a média de idade é de 12.5 anos, são Jovens aprendizes no Senai!\n",
            "Dentro da quantidade de aluno, temos 10 alunos no total, temos 10 jovens, 0 adultos e 0 idosos!\n"
          ]
        }
      ],
      "source": [
        "quantidadeAluno = int(input('Insira a quantidade de alunos na sua sala > '))\n",
        "somaIdade = 0\n",
        "jovem = 0\n",
        "adulto = 0\n",
        "idoso = 0\n",
        "\n",
        "for quantidade in range(0, quantidadeAluno):\n",
        "    idadeAluno = int(input(f'Insira a idade do {quantidade + 1} aluno > '))\n",
        "    somaIdade += idadeAluno\n",
        "\n",
        "    if idadeAluno <= 25:\n",
        "        jovem += 1\n",
        "    elif idadeAluno >= 26 and idadeAluno <= 59:\n",
        "        adulto += 1\n",
        "    elif idadeAluno >= 60:\n",
        "        idoso += 1\n",
        "\n",
        "mediaIdade = somaIdade / n\n",
        "\n",
        "if mediaIdade <= 25:\n",
        "    print(f'Dentro de {quantidadeAluno} alunos, a média de idade é de {mediaIdade} anos, são Jovens aprendizes no Senai!')\n",
        "elif mediaIdade >= 26 and mediaIdade <= 59:\n",
        "    print(f'Dentro de {quantidadeAluno} alunos, a média de idade é de {mediaIdade} anos, são Adultos!')\n",
        "elif mediaIdade >= 60:\n",
        "    print(f'Dentro de {quantidadeAluno} alunos, a média de idade é de {mediaIdade} anos, são Idosos!')\n",
        "else:\n",
        "    print('Não foi possível calcular a média de idade dos alunos!')\n",
        "\n",
        "print(f'Dentro da quantidade de aluno, temos {quantidadeAluno} alunos no total, temos {jovem} jovens, {adulto} adultos e {idoso} idosos!') \n"
      ]
    },
    {
      "cell_type": "markdown",
      "metadata": {},
      "source": [
        "# 06. Estrutura de Dados\n",
        "Em programação, estruturas de dados são maneiras de organizar e armazenar informações para que possamos usar essas informações de forma eficiente. Essas estruturas por sua vez, são armazenadas em variáveis, estar por conter vários valores distintos, são denominadas variáveis compostas."
      ]
    },
    {
      "cell_type": "markdown",
      "metadata": {},
      "source": [
        "## Tuplas\n",
        "Tuplas podem ser vistas como listas em Python, seus valores são imutáveis, ou seja, não podem sofrer alteração durante a execução do código. Não é possível alterar, adicionar, ou remover elementos de uma tupla. Sua sintaxe é a seguinte:"
      ]
    },
    {
      "cell_type": "code",
      "execution_count": null,
      "metadata": {},
      "outputs": [],
      "source": [
        "tupla_letras = ('a', 'b', 'c')\n",
        "tupla_numero = (4, 8, 41)"
      ]
    },
    {
      "cell_type": "markdown",
      "metadata": {},
      "source": [
        "Utilizando o parêntese, colocamos os dados que são necessários para nosso algoritmo.\n",
        "\n",
        "Aplicabilidade:\n",
        "\n",
        "* Quando você precisa agrupar dados que NÃO devem mudar depois de criados. Exemplo: coordenadas de um ponto no mapa (latitude, longitude). Uma vez que você registra, aquilo não muda.\n",
        "\n",
        "* Deixar claro que a estrutura é fixa: Se você cria uma função que devolve uma tupla, quem usa seu código já sabe quer aqueles valores estão em uma \"ordem\" e não devem ser alterados.\n",
        "\n",
        "* Desempenho: Tuplas são mais rápidas e mais leves que listas, porque são imutáveis.\n",
        "\n",
        "Exemplos:"
      ]
    },
    {
      "cell_type": "code",
      "execution_count": null,
      "metadata": {},
      "outputs": [],
      "source": [
        "localizacao = (22.90068, -43.1729)\n",
        "nascimento = (6, 18, 1986)"
      ]
    },
    {
      "cell_type": "code",
      "execution_count": 1,
      "metadata": {},
      "outputs": [
        {
          "name": "stdout",
          "output_type": "stream",
          "text": [
            "a b c\n",
            "4 7 41\n",
            "Lucas 28 06/08/2007 42\n"
          ]
        }
      ],
      "source": [
        "tupla_letras = ('a', 'b', 'c')\n",
        "tupla_numeros = (4, 7, 41)\n",
        "tupla_mista = ('Lucas', 28, '06/08/2007', 42)\n",
        "\n",
        "print(*tupla_letras)\n",
        "print(*tupla_numeros)\n",
        "print(*tupla_mista)"
      ]
    },
    {
      "cell_type": "markdown",
      "metadata": {},
      "source": [
        "Os parênteses são opcionais, mas seu uso deixa mais claro a compreensão da expressão:"
      ]
    },
    {
      "cell_type": "code",
      "execution_count": 3,
      "metadata": {},
      "outputs": [
        {
          "name": "stdout",
          "output_type": "stream",
          "text": [
            "Posição 0: a\n",
            "Posição 1: b\n",
            "Posição 2: c\n"
          ]
        }
      ],
      "source": [
        "tupla = 'a', 'b', 'c'\n",
        "print(f'Posição 0:', tupla[0])\n",
        "print(f'Posição 1:', tupla[1])\n",
        "print(f'Posição 2:', tupla[2])"
      ]
    },
    {
      "cell_type": "code",
      "execution_count": null,
      "metadata": {},
      "outputs": [],
      "source": [
        "tupla_nomes = ('Lucas', 'Startup', 'Motoquero Fantasma', 'Bigode')\n",
        "\n",
        "print(tupla_nomes[2]) #acessa o índice 2 da tupla\n",
        "print(tupla_nomes * 2) #multiplica a tupla"
      ]
    },
    {
      "cell_type": "markdown",
      "metadata": {},
      "source": [
        "Acessando tupla com for"
      ]
    },
    {
      "cell_type": "code",
      "execution_count": 5,
      "metadata": {},
      "outputs": [
        {
          "name": "stdout",
          "output_type": "stream",
          "text": [
            "Lucas é um nome\n",
            "Startup é um nome\n",
            "Motoquero Fantasma é um nome\n",
            "Bigode é um nome\n"
          ]
        }
      ],
      "source": [
        "tupla_nomes = ('Lucas', 'Startup', 'Motoquero Fantasma', 'Bigode')\n",
        "\n",
        "for i in tupla_nomes:\n",
        "    print(f'{i} é um nome')"
      ]
    },
    {
      "cell_type": "code",
      "execution_count": 4,
      "metadata": {},
      "outputs": [
        {
          "name": "stdout",
          "output_type": "stream",
          "text": [
            "5\n",
            "6\n",
            "9\n",
            "3\n",
            "6\n"
          ]
        }
      ],
      "source": [
        "tupla_numeros = (5, 6, 9, 3, 6)\n",
        "\n",
        "for i in tupla_numeros:\n",
        "    print(i)"
      ]
    },
    {
      "cell_type": "code",
      "execution_count": null,
      "metadata": {},
      "outputs": [
        {
          "name": "stdout",
          "output_type": "stream",
          "text": [
            "A soma das tuplas é de: 29\n"
          ]
        }
      ],
      "source": [
        "tupla = (5, 6, 9, 3, 6) \n",
        "\n",
        "soma = 0\n",
        "\n",
        "for item in tupla:\n",
        "    soma += item\n",
        "\n",
        "print(f'A soma das tuplas é de: {soma}')"
      ]
    },
    {
      "cell_type": "markdown",
      "metadata": {},
      "source": [
        "Para verificar o comprimento de uma tupla, utilizamos a função `len()`, derivada da palavra lenght (comprimento em inglês)."
      ]
    },
    {
      "cell_type": "code",
      "execution_count": 4,
      "metadata": {},
      "outputs": [
        {
          "name": "stdout",
          "output_type": "stream",
          "text": [
            "O total de elementos na tupla é de 5 elementos\n"
          ]
        }
      ],
      "source": [
        "tupla = (5, 6, 9, 3, 6) \n",
        "\n",
        "print(f'O total de elementos na tupla é de {len(tupla)} elementos')"
      ]
    },
    {
      "cell_type": "markdown",
      "metadata": {},
      "source": [
        "Para realizarmos uma impressão do fim para o início da tupla, utilizamos o `len` formando a seguinte estrutura:"
      ]
    },
    {
      "cell_type": "code",
      "execution_count": 10,
      "metadata": {},
      "outputs": [
        {
          "name": "stdout",
          "output_type": "stream",
          "text": [
            "5\n",
            "6\n",
            "9\n",
            "3\n",
            "6\n"
          ]
        }
      ],
      "source": [
        "# tupla = (5, 6, 9, 3, 6)\n",
        "tupla = (6, 3, 9, 6, 5) \n",
        "\n",
        "for item in range(len(tupla) -1, -1, -1):\n",
        "    # o len(tupla) acaba simulando uma diminuição sob as tuplas (sempre começa pelo 0), ele acaba acessando o (5, 6, 9, 3, 6). \n",
        "    # Visualmente vendo eles são (0, 1, 2, 3, 4), a funcionalidade dele é ir diminuindo os números em \n",
        "    # sequência até o determinado número (-1) chegar a ele.\n",
        "    print(tupla[item])"
      ]
    },
    {
      "cell_type": "markdown",
      "metadata": {},
      "source": [
        "01. Crie uma tupla chamada cores que contenha cinco cores diferentes. Depois, mostre na tela a cor que está na posição `2`.\n",
        "02. Dada a tupla `numeros = (8, 3, 5, 10, 2)`, some todos os valores da tupla e exiba o resultado."
      ]
    },
    {
      "cell_type": "code",
      "execution_count": null,
      "metadata": {},
      "outputs": [
        {
          "name": "stdout",
          "output_type": "stream",
          "text": [
            "A cor na posição 2 é a cor vermelho!\n"
          ]
        }
      ],
      "source": [
        "# 01.\n",
        "cores = ['azul', 'vermelho', 'roxo', 'verde', 'amarelo'] # ['0', '1', '2', '3', '4']\n",
        "\n",
        "print(f'A cor na posição 2 é a cor {cores[1]}!')"
      ]
    },
    {
      "cell_type": "code",
      "execution_count": null,
      "metadata": {},
      "outputs": [
        {
          "name": "stdout",
          "output_type": "stream",
          "text": [
            "A soma das tuplas númericas totalizadas são de 28!\n"
          ]
        }
      ],
      "source": [
        "# 02\n",
        "numeros = [8, 3, 5, 10, 2]\n",
        "soma = 0\n",
        "\n",
        "for i in numeros:\n",
        "    soma += i\n",
        "\n",
        "print(f'A soma das tuplas númericas totalizadas são de {soma}!')"
      ]
    },
    {
      "cell_type": "markdown",
      "metadata": {},
      "source": [
        "03. Dada a tupla valores = `[7, 8, 6, 9, 5]`, calcule a média dos valores e mostre o resultado.\n",
        "04. Crie uma tupla chamada frutas com seis frutas. Peça ao usuário para digitar o nome de uma fruta e diga se ela está ou não dentro da tupla. Continue pedindo para digitar uma fruta caso não tenha acertado."
      ]
    },
    {
      "cell_type": "code",
      "execution_count": null,
      "metadata": {},
      "outputs": [
        {
          "name": "stdout",
          "output_type": "stream",
          "text": [
            "A média realizado de acordo com os valores e quantidade de tupla é 7.0!\n"
          ]
        }
      ],
      "source": [
        "# 03.\n",
        "valores = [7, 8, 6, 9, 5]\n",
        "soma = 0\n",
        "\n",
        "\n",
        "for i in valores:\n",
        "    soma += i\n",
        "\n",
        "media = soma / len(valores)\n",
        "print(f'A média realizado de acordo com os valores e quantidade de tupla é {media}!')"
      ]
    },
    {
      "cell_type": "code",
      "execution_count": null,
      "metadata": {},
      "outputs": [
        {
          "name": "stdout",
          "output_type": "stream",
          "text": [
            "Encerrando programa..\n"
          ]
        }
      ],
      "source": [
        "# 04. \n",
        "frutas = ['maça', 'goiaba', 'caqui', 'laranja', 'banana', 'morango']\n",
        "\n",
        "while True:\n",
        "    adivinhar = input('Adivinhe o nome das frutas dentro da tupla (0 para encerrar programa) > ')\n",
        "\n",
        "    if adivinhar in frutas:\n",
        "        print('Está dentro da lista!')\n",
        "    elif adivinhar == \"0\":\n",
        "        print('Encerrando o programa.')\n",
        "        break\n",
        "    else: \n",
        "        print('Não está dentro da lista')"
      ]
    },
    {
      "cell_type": "markdown",
      "metadata": {},
      "source": [
        "05. Dada a tupla `valores = [1, 4, 7, 2, 9, 5]`, some os valores dos índices `[0 e 1]`, `[1 e 2]`, `[2 e 3]`, e assim por diante, mostrando cada soma."
      ]
    },
    {
      "cell_type": "code",
      "execution_count": 45,
      "metadata": {},
      "outputs": [
        {
          "name": "stdout",
          "output_type": "stream",
          "text": [
            "⚠️: Os valores são [1, 4, 7, 2, 9, 5], em formato de índice é considerado a formação [0, 1, 2, 3, 4, 5]!\n",
            "[0 + 1] = 5\n",
            "[1 + 2] = 11\n",
            "[2 + 3] = 9\n",
            "[3 + 4] = 11\n",
            "[4 + 5] = 14\n"
          ]
        }
      ],
      "source": [
        "# 05. \n",
        "valores = [1, 4, 7, 2, 9, 5] # (0, 1, 2, 3, 4, 5)\n",
        "print('⚠️: Os valores são [1, 4, 7, 2, 9, 5], em formato de índice é considerado a formação [0, 1, 2, 3, 4, 5]!')\n",
        "for i in range(len(valores) - 1): # o i sempre começa com 0\n",
        "    soma = valores[i] + valores[i+1] # soma dos indices 0 e 1, assim por diante\n",
        "    print(f'[{i} + {i+1}] = {soma}')"
      ]
    },
    {
      "cell_type": "markdown",
      "metadata": {},
      "source": [
        "Tuplas em python são imutáveis, ou seja, não é possível adicionar, remover ou alterar elementos depois que ela é criada.\n",
        "\n",
        "Pórem, se uma tupla contiver elementos mutáveis (como listar), o conteúdo desses elementos pode ser modificado, mesmo que a tupla em si permaneça imutável. Exemplo:"
      ]
    },
    {
      "cell_type": "code",
      "execution_count": 59,
      "metadata": {},
      "outputs": [
        {
          "name": "stdout",
          "output_type": "stream",
          "text": [
            "(1, [2, 3], 4, [5, 6, 0], 7)\n"
          ]
        }
      ],
      "source": [
        "tupla = (1, [2, 3], 4, [5, 6], 7)\n",
        "tupla[3].append(0)\n",
        "print(tupla)"
      ]
    },
    {
      "cell_type": "markdown",
      "metadata": {},
      "source": [
        "## Listas\n",
        "\n",
        "Listas são um tip de varíavel que permite o armazenamento de vários valores, acessados por índice. Uma lista pode conter zero ou mais elementos de um mesmo tipo ou de tipo diferente. O tamanho de uma lista é igual a quantidade de elementos que ela contém.\n",
        "\n",
        "Podemos imaginar uma lista como um edifício de apartamentos, em que o térreo é o andar zero, o primeiro andar é o andar 1 e assim por diante. O índice é utilizado para especificar os \"apartamentos\" onde guardaremos os dados.\n",
        "\n",
        "Vimos anteriormente a tupla, uma variável composta que tem como característica a imutabilidade, onde não conseguimos adicionar, alterar ou remover elementos.\n",
        "\n",
        "Listas são mais flexíveis, e podem crescer ou diminuir com o tempo. Vejamos um exemplo de como criar uma lista em python:\n"
      ]
    },
    {
      "cell_type": "code",
      "execution_count": null,
      "metadata": {},
      "outputs": [],
      "source": [
        "lista = []"
      ]
    },
    {
      "cell_type": "markdown",
      "metadata": {},
      "source": [
        "Essa linha cria uma lista com zero elemento, ou seja, uma lista vazia. Os colchetes [] após o símbolo de igualdade servem para indicar que é uma lista. Agora um exemplo de como criar uma lista com 3 elementos:"
      ]
    },
    {
      "cell_type": "code",
      "execution_count": 62,
      "metadata": {},
      "outputs": [
        {
          "name": "stdout",
          "output_type": "stream",
          "text": [
            "15 8 9\n",
            "[15, 8, 9]\n"
          ]
        }
      ],
      "source": [
        "lista = [15, 8, 9]\n",
        "print(lista[0], lista[1], lista[2])\n",
        "print(lista)"
      ]
    },
    {
      "cell_type": "markdown",
      "metadata": {},
      "source": [
        "## Cópia e fatiamento de listas\n",
        "\n",
        "Quando copiamos um objeto a outro, estamos apenas copiando a mesma referência da lista, e não seus dados em si. Nesse caso abaixo, L e V são a mesma lista.\n"
      ]
    },
    {
      "cell_type": "code",
      "execution_count": 65,
      "metadata": {},
      "outputs": [
        {
          "name": "stdout",
          "output_type": "stream",
          "text": [
            "Printando as listas: \n",
            "Lista 1: [1, 2, 3, 4, 5] \n",
            "Lista 2: [1, 2, 3, 4, 5]\n",
            "\n",
            "Printando as listas: \n",
            "Lista 1: [6, 2, 3, 4, 5] \n",
            "Lista 2: [6, 2, 3, 4, 5]\n"
          ]
        }
      ],
      "source": [
        "L = [1, 2, 3, 4, 5] # lista L\n",
        "V = L # recebendo valor da lista L\n",
        "\n",
        "print(f'Printando as listas: \\nLista 1: {L} \\nLista 2: {V}\\n')\n",
        "\n",
        "# alterando um valor da lista 2 [V] na posição 0 (inícial)\n",
        "V[0] = 6\n",
        "\n",
        "print(f'Printando as listas: \\nLista 1: {L} \\nLista 2: {V}')"
      ]
    },
    {
      "cell_type": "markdown",
      "metadata": {},
      "source": [
        "Quando modificamos a lista 2 [V], estamos também modificando o mesmo valor da lista 1 [L], pois ambos são referencias, ou apelidos para a mesma lista na memória."
      ]
    },
    {
      "attachments": {
        "lista1.png": {
          "image/png": "[encoded data removed]"
        }
      },
      "cell_type": "markdown",
      "metadata": {},
      "source": [
        "![lista1.png](attachment:lista1.png)"
      ]
    },
    {
      "cell_type": "code",
      "execution_count": 3,
      "metadata": {},
      "outputs": [
        {
          "name": "stdout",
          "output_type": "stream",
          "text": [
            "[1, 2, 3, 4, 5]\n",
            "[6, 2, 3, 4, 5]\n"
          ]
        }
      ],
      "source": [
        "lista1 = [1, 2, 3, 4, 5]\n",
        "lista2 = lista1[:]\n",
        "\n",
        "lista2[0] = 6\n",
        "\n",
        "print(lista1)\n",
        "print(lista2)"
      ]
    },
    {
      "attachments": {
        "image.png": {
          "image/png": "[encoded data removed]"
        }
      },
      "cell_type": "markdown",
      "metadata": {},
      "source": [
        "Ao usarmos `lista1[:]`, estamos nos referindo a uma nova cópia de listal. Assim, `lista1` e `lista2` se referem a áreas diferentes na memória, permitindo alterá-las de forma independente.\"\n",
        "\n",
        "O link encurtado direciona para: https://encurtador.com.br/vjcVr\n",
        "\n",
        "![image.png](attachment:image.png)"
      ]
    },
    {
      "cell_type": "code",
      "execution_count": null,
      "metadata": {},
      "outputs": [
        {
          "name": "stdout",
          "output_type": "stream",
          "text": [
            "[1, 2, 3, 4, 5]\n",
            "[1, 2, 3]\n",
            "[1, 2, 3, 4]\n",
            "[2, 3]\n"
          ]
        }
      ],
      "source": [
        "# Podemos também \"fatiar\" uma lista:\n",
        "\n",
        "lista = [1, 2, 3, 4, 5] # cria uma lista com 5 elementos\n",
        "\n",
        "print(lista[0:5]) # printa entre a posição 0 e 4 (o último fica de fora)\n",
        "print(lista[:3]) # printa os 3 primeiros elementos da lista\n",
        "print(lista[:-1]) # printa todos, menos o último\n",
        "print(lista[1:3]) # printa os elementos 1 e 2 (o 3 é excluído)"
      ]
    },
    {
      "cell_type": "markdown",
      "metadata": {},
      "source": [
        "# Tamanho de listas\n",
        "\n",
        "Como vimos anteriormente em tuplas, também conseguimos verificar o tamanho de uma lista com a função len()."
      ]
    },
    {
      "cell_type": "code",
      "execution_count": 7,
      "metadata": {},
      "outputs": [
        {
          "name": "stdout",
          "output_type": "stream",
          "text": [
            "Tamanho da lista: 3 elementos\n"
          ]
        }
      ],
      "source": [
        "lista = [12, 9, 5]\n",
        "print(f'Tamanho da lista: {len(lista)} elementos')"
      ]
    },
    {
      "cell_type": "markdown",
      "metadata": {},
      "source": [
        "# Adição de elementos\n",
        "\n",
        "Uma das principais vantagens de se trabalhar com listas, é a manipulação de elementos. O método `append()` faaz a dição de elementos em uma lista:"
      ]
    },
    {
      "cell_type": "code",
      "execution_count": 14,
      "metadata": {},
      "outputs": [
        {
          "name": "stdout",
          "output_type": "stream",
          "text": [
            "['a']\n"
          ]
        }
      ],
      "source": [
        "lista = []\n",
        "\n",
        "lista.append('a')\n",
        "\n",
        "print(lista)"
      ]
    },
    {
      "cell_type": "markdown",
      "metadata": {},
      "source": [
        "01. Faça um programa que leia N números até que o 0 seja digitado. Esse programa deverá imprimir uma lista na mesma ordem em que foi digitado os elementos."
      ]
    },
    {
      "cell_type": "code",
      "execution_count": null,
      "metadata": {},
      "outputs": [
        {
          "name": "stdout",
          "output_type": "stream",
          "text": [
            "O número 0 foi inserido na lista, automaticamente o programa foi encerrado! [4, 4, 4, 4, 4]\n"
          ]
        }
      ],
      "source": [
        "n = []\n",
        "c = 0\n",
        "\n",
        "while True:\n",
        "    c += 1\n",
        "    question = int(input('Insira números na lista (se digitar 0, ele vai parar) > '))\n",
        "\n",
        "    if question == 0:\n",
        "        print(f'Foi solicitado o número 0, automaticamente o programa foi encerrado! Sua lista: {n[:-1]}')\n",
        "        break\n",
        "\n",
        "    n.append(question)\n"
      ]
    },
    {
      "cell_type": "markdown",
      "metadata": {},
      "source": [
        "Adicionando uma lista a outra com o método `extend()`"
      ]
    },
    {
      "cell_type": "code",
      "execution_count": 12,
      "metadata": {},
      "outputs": [
        {
          "name": "stdout",
          "output_type": "stream",
          "text": [
            "['a', 'b']\n",
            "['a', 'b', 'c']\n",
            "['a', 'b', 'c', ['d', 'e']]\n",
            "['a', 'b', 'c', ['d', 'e'], 'f', 'g', 'h']\n"
          ]
        }
      ],
      "source": [
        "lista = ['a']\n",
        "lista.append('b')\n",
        "print(lista)\n",
        "\n",
        "lista.extend('c')\n",
        "print(lista)\n",
        "\n",
        "lista.append(['d','e'])\n",
        "print(lista)\n",
        "\n",
        "lista.extend(['f', 'g', 'h'])\n",
        "print(lista)"
      ]
    },
    {
      "cell_type": "markdown",
      "metadata": {},
      "source": [
        "Exercício exemplo: Faça um programa que leia **duas listas** e gere uma **terceira lista** com os elementos das duas primerias."
      ]
    },
    {
      "cell_type": "code",
      "execution_count": 16,
      "metadata": {},
      "outputs": [
        {
          "name": "stdout",
          "output_type": "stream",
          "text": [
            "Aqui está sua lista: ['1', '2', '3', '4', '5', '6', '7', '8', '9', '10']\n"
          ]
        }
      ],
      "source": [
        "lista = []\n",
        "\n",
        "while True:\n",
        "    valor = input('Insira um valor para lista (digite 0 para prosseguir!) > ')\n",
        "    \n",
        "    if valor == \"0\":\n",
        "        break\n",
        "    else:\n",
        "        lista.append(valor) \n",
        "\n",
        "lista2 = []\n",
        "\n",
        "while True:\n",
        "    valor = input('Insira outro valor para segunda lista (digite 0 para a visualização da leitura das duas listas!) > ')\n",
        "\n",
        "    if valor == \"0\":\n",
        "        break\n",
        "    else:\n",
        "        lista2.append(valor) \n",
        "\n",
        "leituraTotal = lista + lista2\n",
        "\n",
        "print(f'Aqui está sua lista: {leituraTotal}')\n"
      ]
    },
    {
      "cell_type": "markdown",
      "metadata": {},
      "source": [
        "Exercício exemplo: Faça um programa que leia **duas listas** e gere uma **terceira lista** sem elementos repetidos."
      ]
    },
    {
      "cell_type": "code",
      "execution_count": null,
      "metadata": {},
      "outputs": [
        {
          "name": "stdout",
          "output_type": "stream",
          "text": [
            "Mesmo valor! Tente novamente com outro valor.\n",
            "Mesmo valor! Tente novamente com outro valor.\n",
            "Mesmo valor! Tente novamente com outro valor.\n",
            "Mesmo valor! Tente novamente com outro valor.\n",
            "Mesmo valor! Tente novamente com outro valor.\n",
            "Mesmo valor! Tente novamente com outro valor.\n",
            "Mesmo valor! Tente novamente.\n",
            "Mesmo valor! Tente novamente.\n",
            "Mesmo valor! Tente novamente.\n",
            "Mesmo valor! Tente novamente.\n",
            "Aqui está sua lista: ['3']\n"
          ]
        }
      ],
      "source": [
        "lista = []\n",
        "\n",
        "while True:\n",
        "    valor = input('Insira um valor para lista (digite 0 para prosseguir!) > ')\n",
        "    \n",
        "    if valor == \"0\":\n",
        "        break\n",
        "    elif valor in lista:\n",
        "        print('Mesmo valor! Tente novamente com outro valor.')\n",
        "    else:\n",
        "        lista.append(valor) \n",
        "\n",
        "lista2 = []\n",
        "\n",
        "while True:\n",
        "    valor = input('Insira outro valor para segunda lista (digite 0 para a visualização da leitura das duas listas!) > ')\n",
        "\n",
        "    if valor == \"0\":\n",
        "        break\n",
        "    elif valor in lista2:\n",
        "        print('Mesmo valor! Tente novamente com outro valor.')\n",
        "    else:\n",
        "        lista2.append(valor) \n",
        "\n",
        "leituraTotal = lista + lista2\n",
        "\n",
        "print(f'A sua primeira lista é: {lista};')\n",
        "print(f'A sua segunda lista é: {lista2};')\n",
        "print(f'Juntando elas, a sua terceira lista é: {leituraTotal}.')\n"
      ]
    },
    {
      "cell_type": "code",
      "execution_count": null,
      "metadata": {},
      "outputs": [],
      "source": [
        "print('Teste')"
      ]
    },
    {
      "cell_type": "code",
      "execution_count": null,
      "metadata": {},
      "outputs": [],
      "source": [
        "# Forma do professor\n",
        "\n",
        "lista = []\n",
        "print('Digite os elementos da primeira lista (0 para parar) > ')\n",
        "while True:\n",
        "    n = int(input('Insira uma sequência númerica para formar sua lista!'))\n",
        "    if n == 0:\n",
        "        break\n",
        "lista.append(n)\n",
        "\n",
        "lista2 = []\n",
        "print('Digite os elementos da primeira lista (0 para parar) > ')\n",
        "while True:\n",
        "    n = int(input('Insira uma sequência númerica para formar sua lista!'))\n",
        "    if n == 0:\n",
        "        break\n",
        "lista2.append(n)\n",
        "\n",
        "lista3 = []\n",
        "for item in lista1 + lista2:\n",
        "    if item not in lista3:\n",
        "        lista3.append(item)\n",
        "\n",
        "print(f'Terceira lista sem elementos repetidos: {lista3}')\n"
      ]
    },
    {
      "cell_type": "markdown",
      "metadata": {},
      "source": [
        "## Remoção de elementos\n",
        "\n",
        "Como o tamanho da lista pode variar, permitindo a adição de novos elementos, podemos também retirar alguns elementos da lista, ou mesmo todos eles. Para tal, é utilizada a instrução `del`:"
      ]
    },
    {
      "cell_type": "code",
      "execution_count": null,
      "metadata": {},
      "outputs": [],
      "source": [
        "lista = ['a', 'b', 'c']\n",
        "del(lista[1])"
      ]
    },
    {
      "cell_type": "markdown",
      "metadata": {},
      "source": [
        "Importante ressaltar que o elemento excluído nõa ocupa mais lugar na lista, fazendo com que os índices sejam reogarnizados."
      ]
    },
    {
      "cell_type": "code",
      "execution_count": null,
      "metadata": {},
      "outputs": [],
      "source": [
        "# Podemos também apagar fatias inteiras de uma vez só:\n",
        "lista = lista(range(101))\n",
        "print(lista)\n",
        "\n",
        "del lista[40:60]\n",
        "print(lista)"
      ]
    },
    {
      "cell_type": "markdown",
      "metadata": {},
      "source": [
        "`del` - Remover sem retornar nada\n",
        "- Remove um item da lista com base no índice\n",
        "- Não retorna o valor removido\n",
        "- Sintaxe: del lista[`indice`]"
      ]
    },
    {
      "cell_type": "code",
      "execution_count": null,
      "metadata": {},
      "outputs": [],
      "source": [
        "lista = [10, 20, 30]\n",
        "del lista[1]\n",
        "print(lista)"
      ]
    },
    {
      "cell_type": "markdown",
      "metadata": {},
      "source": [
        "`pop` - Remove e retorna\n",
        "Também remove pelo índice (ou último item se nenhum índice for passado de parâmetro)\n",
        "- Retorna valor removido\n",
        "- lista.pop() - Remove o último item\n",
        "- lista.popindice() - Remove o item pelo índice"
      ]
    },
    {
      "cell_type": "code",
      "execution_count": null,
      "metadata": {},
      "outputs": [],
      "source": [
        "item = [10, 20, 30]\n",
        "item_remov = lista.pop(1)\n",
        "print(item_remov)\n",
        "print(lista)"
      ]
    },
    {
      "cell_type": "markdown",
      "metadata": {},
      "source": [
        "`remove()` - Remove pelo valor\n",
        "- Não retorna o valor removido.\n",
        "- Se o valor não exitir, dá erro."
      ]
    },
    {
      "cell_type": "code",
      "execution_count": null,
      "metadata": {},
      "outputs": [],
      "source": [
        "lista = [10, 20, 30, 40]\n",
        "lista.remove(20)\n",
        "print(lista)"
      ]
    },
    {
      "cell_type": "markdown",
      "metadata": {},
      "source": [
        "## Posição dos elementos\n",
        "Para identificarmos a primeira posiçõa dos elementos, é simples. É sabido que a primeira posição dentro de uma lista, é o índice `0`\n",
        "\n",
        "`lista[0]`\n",
        "\n",
        "Para obter o último item da lista, temos algumas formas de manipulação:"
      ]
    },
    {
      "cell_type": "code",
      "execution_count": null,
      "metadata": {},
      "outputs": [],
      "source": [
        "lista = [4, 6, 0, 10, 130]\n",
        "\n",
        "print(f'Primeira posição: {lista[0]}')\n",
        "print(f'Última posição: {lista[len(lista) - 1]}')\n",
        "print(f'Última posição: {lista[4]}')\n",
        "print(f'Última posição: {lista[-1]}')"
      ]
    },
    {
      "cell_type": "markdown",
      "metadata": {},
      "source": [
        "## Exercícios Lista\n",
        "1. Faça um programa que leia N nomes. Ao digitar \"sair\" interromper a leitura de dados. Ao final, mostrar os nomes obtidos."
      ]
    },
    {
      "cell_type": "code",
      "execution_count": null,
      "metadata": {},
      "outputs": [],
      "source": [
        "listaNomes = []\n",
        "print('Insira uma sequência de nomes para alimentar a lista (sair para interromper)!')\n",
        "sequencia = 0\n",
        "\n",
        "while True:\n",
        "  sequencia += 1\n",
        "  n = str(input(f'Nª{sequencia} >'))\n",
        "  \n",
        "  if n == \"sair\":\n",
        "    break\n",
        "  elif n in listaNomes:\n",
        "    print('Esse nome já foi inserido na lista! Tente outro nome.')\n",
        "  else:\n",
        "    listaNomes.append(n)\n",
        "\n",
        "print(f'{listaNomes}')"
      ]
    },
    {
      "cell_type": "markdown",
      "metadata": {},
      "source": [
        "2. Faça um programa que leia N nomes de animais. Mostre as opções inseridas ao usuário e permita que ele possa alterar qualquer nome de animal na lista."
      ]
    },
    {
      "cell_type": "code",
      "execution_count": 16,
      "metadata": {},
      "outputs": [
        {
          "name": "stdout",
          "output_type": "stream",
          "text": [
            "Lista dos animais cadastrados: \n",
            "0 - Gabriel\n",
            "1 - Nicollas\n",
            "Lista atualizada: \n",
            "Gabriel Renan\n"
          ]
        }
      ],
      "source": [
        "animais = []\n",
        "n = int(input('Quantos animais deseja inserir?'))\n",
        "\n",
        "for i in range(n):\n",
        "    i += 1\n",
        "    nome = input(f'Digite o {i} animal > ')\n",
        "    animais.append(nome)\n",
        "\n",
        "print('Lista dos animais cadastrados: ')\n",
        "# for i in range(len(animais)):\n",
        "#     print(f'{i} - {animais[i]}')\n",
        "\n",
        "for i, animal in enumerate(animais):\n",
        "    print(f'{i} - {animais[i]}')\n",
        "\n",
        "indice = int(input('Digite o índice que deseja alterar > '))\n",
        "nv = input('Digite o nome do animal > ')\n",
        "\n",
        "animais[indice] = nv\n",
        "print('Lista atualizada: ')\n",
        "print(*animais)"
      ]
    },
    {
      "cell_type": "markdown",
      "metadata": {},
      "source": [
        "03. Faça um PROGRAMA que leia N números. Mostre a lista completa, depois mostre a lista removendo o último da lista."
      ]
    },
    {
      "cell_type": "code",
      "execution_count": 20,
      "metadata": {},
      "outputs": [
        {
          "name": "stdout",
          "output_type": "stream",
          "text": [
            "Finalizado.\n",
            "Aqui está sua lista: [1, 2, 3, 4, 5]!\n",
            "Aqui está sua lista completa, sem o último número: [1, 2, 3, 4]\n"
          ]
        }
      ],
      "source": [
        "lista = []\n",
        "sequencia = 0\n",
        "\n",
        "while True:\n",
        "    sequencia += 1\n",
        "    decida = int(input(f'Insira o {sequencia} número (digite 0 para parar) > '))\n",
        "\n",
        "    if decida == 0:\n",
        "        print('Finalizado.')\n",
        "        break\n",
        "    lista.append(decida)\n",
        "\n",
        "\n",
        "print(f'Aqui está sua lista: {lista}!')\n",
        "lista.pop(-1)\n",
        "print(f'Aqui está sua lista completa, sem o último número: {lista}')"
      ]
    },
    {
      "cell_type": "markdown",
      "metadata": {},
      "source": [
        "04. Faça um PROGRAMA que leia N números. Mostre a lista completa, depois mostre a lista removendo o primeir item da lista.\n",
        "05. Faça um PROGRAMA que leia N números. Mostre a lista completa e depois mostre o maior número da lista."
      ]
    },
    {
      "cell_type": "code",
      "execution_count": 21,
      "metadata": {},
      "outputs": [
        {
          "name": "stdout",
          "output_type": "stream",
          "text": [
            "Finalizado.\n",
            "Aqui está sua lista: [1, 2, 3, 4, 5]!\n",
            "Aqui está sua lista completa, sem o último número: ([2, 3, 4, 5])\n"
          ]
        }
      ],
      "source": [
        "# 04\n",
        "lista = []\n",
        "sequencia = 0\n",
        "\n",
        "while True:\n",
        "    sequencia += 1\n",
        "    decida = int(input(f'Insira o {sequencia} número (digite 0 para parar) > '))\n",
        "\n",
        "    if decida == 0:\n",
        "        print('Finalizado.')\n",
        "        break\n",
        "    lista.append(decida)\n",
        "\n",
        "\n",
        "print(f'Aqui está sua lista: {lista}!')\n",
        "del(lista[0])\n",
        "print(f'Aqui está sua lista completa, sem o último número: {lista}')"
      ]
    },
    {
      "cell_type": "code",
      "execution_count": 23,
      "metadata": {},
      "outputs": [
        {
          "name": "stdout",
          "output_type": "stream",
          "text": [
            "Finalizado.\n",
            "Aqui está sua lista: [5, 5, 6]!\n",
            "Aqui está sua lista completa, sem o último número: 5\n"
          ]
        }
      ],
      "source": [
        "# 05\n",
        "lista = []\n",
        "sequencia = 0\n",
        "\n",
        "while True:\n",
        "    sequencia += 1\n",
        "    decida = int(input(f'Insira o {sequencia} número (digite 0 para parar) > '))\n",
        "\n",
        "    if decida == 0:\n",
        "        print('Finalizado.')\n",
        "        break\n",
        "    lista.append(decida)\n",
        "\n",
        "\n",
        "print(f'Aqui está sua lista: {lista}!')\n",
        "\n",
        "print(f'Aqui está sua lista completa, sem o último número: {lista[0]}')"
      ]
    },
    {
      "cell_type": "markdown",
      "metadata": {},
      "source": [
        "06. Está acontecendo uma pesquisa em uma escola do ensino médio, e é preciso saber quantos alunos são menores de idade. Faça um programa que leia N idades, e mostre no final, quantos alunos cadastrados são menores de idade.\n",
        "\n",
        "07. Peça ao usuário digitar N produtos eletrônicos (mouse, fone, teclado, etc) e adicione-os em uma lista. Mostre os índices e os produtos ao usuário, e pergunte qual ele deseja remover da lista. Remove e mostra a lista atualizada. OBS: Validar se o índice digitado é válido, existente dentro do intervalo de elementos."
      ]
    },
    {
      "cell_type": "code",
      "execution_count": 9,
      "metadata": {},
      "outputs": [
        {
          "name": "stdout",
          "output_type": "stream",
          "text": [
            "Dentro da lista dos alunos, 1 alunos são de maior e 5 alunos são de menor!\n"
          ]
        }
      ],
      "source": [
        "# 06\n",
        "lista = []\n",
        "x = 0\n",
        "menor = 0\n",
        "maior = 0\n",
        "\n",
        "while True:\n",
        "    x += 1\n",
        "    idade = int(input(f'Digite a idade do {x}º aluno e digite 0 para parar: > '))\n",
        "\n",
        "    if idade == 0:\n",
        "        break\n",
        "    lista.append(idade)\n",
        "\n",
        "for i in lista:\n",
        "    if i >= 18:\n",
        "        menor += 1\n",
        "\n",
        "    if i < 18:\n",
        "        maior += 1\n",
        "        \n",
        "print(f'Dentro da lista dos alunos, {menor} alunos são de maior e {maior} alunos são de menor!')"
      ]
    },
    {
      "cell_type": "code",
      "execution_count": 14,
      "metadata": {},
      "outputs": [
        {
          "name": "stdout",
          "output_type": "stream",
          "text": [
            "Índice: 0, Eletrônico: Fone 1\n",
            "Índice: 1, Eletrônico: Fone 2\n",
            "Índice: 2, Eletrônico: Fone 3\n",
            "Removido! Agora a lista fica: ['Fone 1', 'Fone 2']\n"
          ]
        }
      ],
      "source": [
        "# 07\n",
        "lista = []\n",
        "x = 0\n",
        "\n",
        "cadastrar = int(input('Digite quantos eletrônicos você que cadastrar: '))\n",
        "\n",
        "for i in range(cadastrar):\n",
        "    x += 1\n",
        "    eletronicos = str(input(f'Digite o {x} eletrônico >'))\n",
        "    lista.append(eletronicos)\n",
        "\n",
        "for index, eletronicos in enumerate(lista):\n",
        "    print(f'Índice: {index}, Eletrônico: {eletronicos}')\n",
        "\n",
        "remove = int(input('Qual item você quer remover da lista? Digite seu índice:'))\n",
        "\n",
        "if remove > 0 and remove < len(lista):\n",
        "    del lista[remove]\n",
        "    print(f'Removido! Agora a lista fica: {lista}')\n",
        "else:\n",
        "    print('Índice inexistente! Tende de novo.')"
      ]
    },
    {
      "cell_type": "markdown",
      "metadata": {},
      "source": [
        "# Adição com insert()\n",
        "\n",
        "O método insert() em python é usado para inserir um elemento em uma lista em uma posição específica, sem substituir nenhum item já existente.\n",
        "\n",
        "`lista.insert(posicao, elemento)`\n",
        "\n",
        "Importante: Os elementos que estão a partir da posição específica são deslocados uma posição à frente."
      ]
    },
    {
      "cell_type": "code",
      "execution_count": 18,
      "metadata": {},
      "outputs": [
        {
          "name": "stdout",
          "output_type": "stream",
          "text": [
            "['maça', 'banana', 'laranja', 'uva']\n"
          ]
        }
      ],
      "source": [
        "frutas = ['maça', 'banana', 'uva']\n",
        "frutas.insert(2, 'laranja')\n",
        "print(frutas)"
      ]
    },
    {
      "cell_type": "code",
      "execution_count": 20,
      "metadata": {},
      "outputs": [
        {
          "name": "stdout",
          "output_type": "stream",
          "text": [
            "[5, 10, 20, 30]\n"
          ]
        }
      ],
      "source": [
        "# adicionando no início da lista\n",
        "numeros = [10, 20, 30]\n",
        "numeros.insert(0, 5)\n",
        "print(numeros)"
      ]
    },
    {
      "cell_type": "code",
      "execution_count": 22,
      "metadata": {},
      "outputs": [
        {
          "name": "stdout",
          "output_type": "stream",
          "text": [
            "['Ana', 'Carlos', 'Lucas']\n"
          ]
        }
      ],
      "source": [
        "# adicionando no fim da lista\n",
        "\n",
        "nomes = ['Ana', 'Carlos']\n",
        "#nomes.insert(10, 'Bruim')\n",
        "nomes.insert(len(nomes), 'Lucas')\n",
        "print(nomes)"
      ]
    },
    {
      "cell_type": "markdown",
      "metadata": {},
      "source": [
        "# Analisar funções para lista"
      ]
    },
    {
      "cell_type": "code",
      "execution_count": 23,
      "metadata": {},
      "outputs": [
        {
          "name": "stdout",
          "output_type": "stream",
          "text": [
            "['__add__', '__class__', '__class_getitem__', '__contains__', '__delattr__', '__delitem__', '__dir__', '__doc__', '__eq__', '__format__', '__ge__', '__getattribute__', '__getitem__', '__getstate__', '__gt__', '__hash__', '__iadd__', '__imul__', '__init__', '__init_subclass__', '__iter__', '__le__', '__len__', '__lt__', '__mul__', '__ne__', '__new__', '__reduce__', '__reduce_ex__', '__repr__', '__reversed__', '__rmul__', '__setattr__', '__setitem__', '__sizeof__', '__str__', '__subclasshook__', 'append', 'clear', 'copy', 'count', 'extend', 'index', 'insert', 'pop', 'remove', 'reverse', 'sort']\n"
          ]
        }
      ],
      "source": [
        "print(dir(list))"
      ]
    },
    {
      "attachments": {
        "image.png": {
          "image/png": "[encoded data removed]"
        }
      },
      "cell_type": "markdown",
      "metadata": {},
      "source": [
        "![image.png](attachment:image.png)"
      ]
    },
    {
      "cell_type": "markdown",
      "metadata": {},
      "source": [
        "# Matriz\n",
        "\n",
        "Em python, matriz é um conceito que representa uma estrutura de dados bidimensional, ou seja, uma lista de listas, onde os dados são organizados em linhas e colunas, semelhante a uma tabela.\n",
        "\n",
        "![image.png](attachment:image.png)"
      ]
    },
    {
      "cell_type": "code",
      "execution_count": 38,
      "metadata": {},
      "outputs": [
        {
          "name": "stdout",
          "output_type": "stream",
          "text": [
            "[[1, 2, 3], [4, 5, 6], [7, 8, 9]]\n"
          ]
        }
      ],
      "source": [
        "matriz_a = [[1, 2, 3],\n",
        "          [4, 5, 6],\n",
        "          [7, 8, 9]]\n",
        "\n",
        "print(matriz_a)"
      ]
    },
    {
      "cell_type": "markdown",
      "metadata": {},
      "source": [
        "Acessando elementos pelo índice"
      ]
    },
    {
      "cell_type": "code",
      "execution_count": 30,
      "metadata": {},
      "outputs": [
        {
          "name": "stdout",
          "output_type": "stream",
          "text": [
            "5\n"
          ]
        }
      ],
      "source": [
        "print(matriz_a[1][1])"
      ]
    },
    {
      "cell_type": "markdown",
      "metadata": {},
      "source": [
        "Para percorrer uma matriz, usa-se dois laços de repetição. Um para percorrer as linhas, e outro para percorrer as colunas:"
      ]
    },
    {
      "cell_type": "code",
      "execution_count": 49,
      "metadata": {},
      "outputs": [
        {
          "name": "stdout",
          "output_type": "stream",
          "text": [
            "0,0: 1\n",
            "0,1: 2\n",
            "0,2: 3\n",
            "\n",
            "Escrevendo a matriz: \n",
            "[1, 2, 3]\n",
            "[4, 5, 6]\n",
            "[7, 8, 9]\n",
            "1,0: 4\n",
            "1,1: 5\n",
            "1,2: 6\n",
            "\n",
            "Escrevendo a matriz: \n",
            "[1, 2, 3]\n",
            "[4, 5, 6]\n",
            "[7, 8, 9]\n",
            "2,0: 7\n",
            "2,1: 8\n",
            "2,2: 9\n",
            "\n",
            "Escrevendo a matriz: \n",
            "[1, 2, 3]\n",
            "[4, 5, 6]\n",
            "[7, 8, 9]\n"
          ]
        }
      ],
      "source": [
        "for i in range(len(matriz_a)): #percorrer as linha\n",
        "    for j in range(len(matriz_a)): #percorrer as colunas    \n",
        "        print(f\"{i},{j}: {matriz_a[i][j]}\") \n",
        "\n",
        "print('\\nEscrevendo a matriz: ')\n",
        "for e in matriz_a:\n",
        "    print(e)\n",
        "    "
      ]
    },
    {
      "cell_type": "code",
      "execution_count": 62,
      "metadata": {},
      "outputs": [
        {
          "name": "stdout",
          "output_type": "stream",
          "text": [
            "0,0: 10\n",
            "0,1: 11\n",
            "1,0: 12\n",
            "1,1: 13\n",
            "\n",
            "Escrevendo a matriz: \n",
            "[10, 11]\n",
            "[12, 13]\n"
          ]
        }
      ],
      "source": [
        "matriz_b = [[10, 11],\n",
        "            [12, 13]]\n",
        "\n",
        "\n",
        "for i in range(len(matriz_b)): #percorrer as linha\n",
        "    for j in range(len(matriz_b)): #percorrer as colunas    \n",
        "        print(f\"{i},{j}: {matriz_b[i][j]}\") \n",
        "\n",
        "print('\\nEscrevendo a matriz: ')\n",
        "for e in matriz_b:\n",
        "    print(e)"
      ]
    },
    {
      "cell_type": "code",
      "execution_count": 63,
      "metadata": {},
      "outputs": [
        {
          "name": "stdout",
          "output_type": "stream",
          "text": [
            "[[1, 2, 3], [4, 5, 6], [7, 8, 9], [10, 11], [12, 13]]\n"
          ]
        }
      ],
      "source": [
        "matriz_c = matriz_a + matriz_b\n",
        "print(matriz_c)"
      ]
    },
    {
      "cell_type": "markdown",
      "metadata": {},
      "source": [
        "# Exercício exemplo:\n",
        "\n",
        "Ler uma matriz 2x3, solicitando os valores para o usuário. Mostrar a matriz completa no final."
      ]
    },
    {
      "cell_type": "code",
      "execution_count": 95,
      "metadata": {},
      "outputs": [
        {
          "name": "stdout",
          "output_type": "stream",
          "text": [
            "\n",
            "- Matriz 2x3:\n",
            "1 = 0, 0:\n",
            "2 = 0, 1:\n",
            "3 = 0, 2:\n",
            "4 = 1, 0:\n",
            "5 = 1, 1:\n",
            "6 = 1, 2:\n",
            "\n",
            "- Formato da matriz:\n",
            "[1, 2, 3]\n",
            "[4, 5, 6]\n"
          ]
        }
      ],
      "source": [
        "lista = []\n",
        "for i in range(6):\n",
        "    valor = int(input(f'Insira o {i+1}º valor para a matriz > '))\n",
        "    lista.append(valor)\n",
        "\n",
        "matriz = [\n",
        "    [lista[0], lista[1], lista[2]],\n",
        "    [lista[3], lista[4], lista[5]]   \n",
        "]\n",
        "\n",
        "print(\"\\n- Matriz 2x3:\")\n",
        "for i in range(len(matriz)):\n",
        "    for j in range(len(matriz[i])):\n",
        "        print(f\"{matriz[i][j]} = {i}, {j}:\")\n",
        "\n",
        "print(\"\\n- Formato da matriz:\")\n",
        "for linha in matriz:\n",
        "    print(linha)"
      ]
    },
    {
      "cell_type": "code",
      "execution_count": 97,
      "metadata": {},
      "outputs": [
        {
          "name": "stdout",
          "output_type": "stream",
          "text": [
            "Matriz final: \n",
            "[1, 2, 3]\n",
            "[4, 5, 6]\n"
          ]
        }
      ],
      "source": [
        "# Jeito do professor\n",
        "\n",
        "matriz = []\n",
        "\n",
        "for i in range(2):\n",
        "    linha = []\n",
        "    for j in range(3):\n",
        "        num = int(input(f'Digite o valor de {i},{j}: '))\n",
        "        linha.append(num)\n",
        "    matriz.append((linha))\n",
        "\n",
        "print('Matriz final: ')\n",
        "for linha in matriz:\n",
        "    print(linha)"
      ]
    },
    {
      "cell_type": "markdown",
      "metadata": {},
      "source": [
        "01. Crie uma matriz 3x3 com valores inseridos pelo usuário e exiba a matriz no formato de tabela.\n",
        "02. Crie uma matriz 3x3 com valores fornecidos pelo usuário e calcule a soma de todos os elementos.\n",
        "03. Peça ao usuário para preencher uma matriz 3x3 com valores inteiros. Em seguida, solicite o número de uma linha (0 a 2) e mostre a soma dos valores dessa linha. (sem usar a função sum())"
      ]
    },
    {
      "cell_type": "code",
      "execution_count": 124,
      "metadata": {},
      "outputs": [
        {
          "name": "stdout",
          "output_type": "stream",
          "text": [
            "Matriz final: \n",
            "[1, 2, 3]\n",
            "[4, 5, 6]\n",
            "[7, 8, 9]\n"
          ]
        }
      ],
      "source": [
        "# 01\n",
        "matriz = []\n",
        "\n",
        "for i in range(3):\n",
        "    linha = []\n",
        "    for j in range(3):\n",
        "        x = 0\n",
        "        num = int(input(f'Digite o valor de {i},{j}: '))\n",
        "        linha.append(num)\n",
        "    matriz.append((linha))\n",
        "\n",
        "print('Matriz final: ')\n",
        "for linha in matriz:\n",
        "    print(linha)"
      ]
    },
    {
      "cell_type": "code",
      "execution_count": 5,
      "metadata": {},
      "outputs": [
        {
          "name": "stdout",
          "output_type": "stream",
          "text": [
            "Matriz final: \n",
            "[1, 2, 3]\n",
            "[4, 5, 6]\n",
            "[7, 8, 9]\n",
            "\n",
            "Sua soma: 45\n"
          ]
        }
      ],
      "source": [
        "# 02\n",
        "matriz = []\n",
        "soma = 0 \n",
        "\n",
        "for i in range(3):\n",
        "    linha = []\n",
        "    for j in range(3):\n",
        "        x = 0\n",
        "        num = int(input(f'Digite o valor de {i},{j}: '))\n",
        "        linha.append(num)\n",
        "        soma += num\n",
        "    matriz.append((linha))\n",
        "\n",
        "print('Matriz final: ')\n",
        "for linha in matriz:\n",
        "    print(linha)\n",
        "\n",
        "print(f'\\nSua soma: {soma}')\n",
        "        "
      ]
    },
    {
      "cell_type": "code",
      "execution_count": 8,
      "metadata": {},
      "outputs": [
        {
          "name": "stdout",
          "output_type": "stream",
          "text": [
            "24\n"
          ]
        }
      ],
      "source": [
        "# 03 \n",
        "matriz = []\n",
        "soma = 0 \n",
        "\n",
        "for i in range(3):\n",
        "    linha = []\n",
        "    for j in range(3):\n",
        "        x = 0\n",
        "        num = int(input(f'Digite o valor de {i},{j}: '))\n",
        "        linha.append(num)\n",
        "    matriz.append((linha))\n",
        "\n",
        "linha = int(input('Qual linha (0 a 2) você gostaria de realizar a soma? > '))\n",
        "\n",
        "for e in matriz[linha]:\n",
        "        soma += e\n",
        "print(soma)\n",
        "        "
      ]
    },
    {
      "cell_type": "markdown",
      "metadata": {},
      "source": [
        "04. Crie uma matriz 3x3 com valores inteiros inseridos pelo usuário. Após preencher a matriz, identifique e exiba o maior valor contido nela."
      ]
    },
    {
      "cell_type": "code",
      "execution_count": 26,
      "metadata": {},
      "outputs": [
        {
          "name": "stdout",
          "output_type": "stream",
          "text": [
            "Sua matriz:\n",
            "[1, 2, 3]\n",
            "[4, 5, 6]\n",
            "[7, 8, 10]\n",
            "\n",
            "O maior número é: 10!\n"
          ]
        }
      ],
      "source": [
        "matriz = []\n",
        "\n",
        "for i in range(3):\n",
        "    linha = []\n",
        "    for j in range(3):\n",
        "        x = 0\n",
        "        num = int(input(f'Digite o valor de {i},{j}: '))\n",
        "        linha.append(num)\n",
        "    matriz.append((linha))\n",
        "\n",
        "print('Sua matriz:')\n",
        "for num in matriz:\n",
        "    print(num)\n",
        "\n",
        "maior = matriz[0][0]\n",
        "\n",
        "for linha in matriz:\n",
        "    for e in linha:\n",
        "        if e > maior:\n",
        "            maior = e\n",
        "\n",
        "print(f'\\nO maior número é: {maior}!')"
      ]
    },
    {
      "cell_type": "markdown",
      "metadata": {},
      "source": [
        "# Adição"
      ]
    },
    {
      "cell_type": "code",
      "execution_count": 3,
      "metadata": {},
      "outputs": [
        {
          "name": "stdout",
          "output_type": "stream",
          "text": [
            "Primeira matriz: \n",
            "[[1, 2, 3], [4, 5, 6], [7, 8, 9]]\n",
            "[[1, 2, 3], [4, 5, 6], [7, 8, 9]]\n",
            "[[1, 2, 3], [4, 5, 6], [7, 8, 9]]\n",
            "\n",
            "Segunda matriz: \n",
            "[[9, 10, 11], [12, 13, 14], [15, 16, 17]]\n",
            "[[9, 10, 11], [12, 13, 14], [15, 16, 17]]\n",
            "[[9, 10, 11], [12, 13, 14], [15, 16, 17]]\n",
            "\n",
            "Resultado da matriz: \n",
            "[[10, 12, 14], [16, 18, 20], [22, 24, 26]]\n",
            "[[10, 12, 14], [16, 18, 20], [22, 24, 26]]\n",
            "[[10, 12, 14], [16, 18, 20], [22, 24, 26]]\n"
          ]
        }
      ],
      "source": [
        "# duas matrizes\n",
        "matriz1 = [[1, 2, 3],[4, 5, 6],[7, 8, 9]]\n",
        "matriz2 = [[9, 10, 11],[12, 13, 14],[15, 16, 17]]\n",
        "\n",
        "# matriz resultante zerada\n",
        "mres = [[0, 0, 0],[0, 0, 0],[0, 0, 0]]\n",
        "\n",
        "for i in range(len(matriz1)):\n",
        "    for j in range(len(matriz2)):\n",
        "        mres[i][j] = matriz1[i][j] + matriz2[i][j]\n",
        "\n",
        "# exibir matriz1\n",
        "print('Primeira matriz: ')\n",
        "for linha in matriz1:\n",
        "    print(matriz1)\n",
        "\n",
        "# exibir matriz2\n",
        "print('\\nSegunda matriz: ')\n",
        "for linha in matriz2:\n",
        "    print(matriz2)\n",
        "\n",
        "# exibir matriz resultante\n",
        "print('\\nResultado da matriz: ')\n",
        "for linha in mres:\n",
        "    print(mres)"
      ]
    },
    {
      "cell_type": "code",
      "execution_count": 4,
      "metadata": {},
      "outputs": [
        {
          "name": "stdout",
          "output_type": "stream",
          "text": [
            "[[1 2 3]\n",
            " [4 5 6]\n",
            " [7 8 9]]\n",
            "[[9, 10, 11], [12, 13, 14], [15, 16, 17]]\n",
            "[[-8 -8 -8]\n",
            " [-8 -8 -8]\n",
            " [-8 -8 -8]]\n"
          ]
        }
      ],
      "source": [
        "import numpy as np\n",
        "\n",
        "matriz1 = np.array([[1, 2, 3],[4, 5, 6],[7, 8, 9]])\n",
        "\n",
        "# matriz resultante zerada\n",
        "mres = [[0, 0, 0],[0, 0, 0],[0, 0, 0]]\n",
        "\n",
        "mres = matriz1 - matriz2\n",
        "\n",
        "print(matriz1)\n",
        "print(matriz2)\n",
        "print(mres)"
      ]
    },
    {
      "cell_type": "markdown",
      "metadata": {},
      "source": [
        "## Multiplicação"
      ]
    },
    {
      "cell_type": "code",
      "execution_count": 5,
      "metadata": {},
      "outputs": [
        {
          "name": "stdout",
          "output_type": "stream",
          "text": [
            "[[2, 4, 6], [2, 4, 6], [2, 4, 6], [8, 10, 12], [8, 10, 12], [8, 10, 12], [14, 16, 18], [14, 16, 18], [14, 16, 18]]\n"
          ]
        }
      ],
      "source": [
        "matriz = [[1, 2, 3],[4, 5, 6],[7, 8, 9]]\n",
        "escalar = 2\n",
        "resultado = []\n",
        "\n",
        "for linha in matriz:\n",
        "    nova_linha = []\n",
        "    for e in linha:\n",
        "        nova_linha.append(e * escalar)\n",
        "        resultado.append(nova_linha)\n",
        "\n",
        "print(resultado)"
      ]
    },
    {
      "cell_type": "markdown",
      "metadata": {},
      "source": [
        "# Exercícios Matriz\n",
        "\n",
        "01. Faça um programa que leia uma matriz 4x4. Depois conte e escreva quantos valores maiores de 10 ela possui.\n",
        "02. Faça um programa em Python que leia uma matriz 3x3. Leia também um valor X inserido pelo usuário. O programa deverá fazer uma busca desse valor na matriz e mostrar caso encontre o valor, a posição em que ele se encontra. Caso não encontrar, mostrar \"não encontrado na posição `[i][j]`\"."
      ]
    },
    {
      "cell_type": "code",
      "execution_count": 6,
      "metadata": {},
      "outputs": [
        {
          "name": "stdout",
          "output_type": "stream",
          "text": [
            "Existe 4 números maiores dentro da matriz!\n"
          ]
        }
      ],
      "source": [
        "# 01\n",
        "matriz = [[1, 2, 3, 0],\n",
        "          [4, 5, 6, 0],\n",
        "          [7, 8, 9, 0],\n",
        "          [10, 11, 12, 13]]\n",
        "\n",
        "valorMaior = matriz[0][0]\n",
        "\n",
        "for linha in matriz:\n",
        "    for e in linha:\n",
        "        if e > 10:\n",
        "            valorMaior += 1\n",
        "\n",
        "print(f'Existe {valorMaior} números maiores dentro da matriz!')\n"
      ]
    },
    {
      "cell_type": "code",
      "execution_count": 7,
      "metadata": {},
      "outputs": [
        {
          "name": "stdout",
          "output_type": "stream",
          "text": [
            "- Número não foi encontrado na posição ([0], [0])\n",
            "- Número não foi encontrado na posição ([0], [1])\n",
            "- Número não foi encontrado na posição ([0], [2])\n",
            "- Número encontrado na posição ([1], [0])\n",
            "- Número não foi encontrado na posição ([1], [1])\n",
            "- Número não foi encontrado na posição ([1], [2])\n",
            "- Número não foi encontrado na posição ([2], [0])\n",
            "- Número não foi encontrado na posição ([2], [1])\n",
            "- Número não foi encontrado na posição ([2], [2])\n"
          ]
        }
      ],
      "source": [
        "# 02\n",
        "num = int(input('Insira um valor para buscar na matriz >'))\n",
        "\n",
        "matriz = [[1, 2, 3], \n",
        "          [4, 5, 6], \n",
        "          [7, 8, 9]]\n",
        "\n",
        "for lindex, linha in enumerate(matriz):\n",
        "    for cindex, elemento in enumerate(linha):\n",
        "       simplificado = [lindex], [cindex]\n",
        "       if elemento == num:\n",
        "           print(f'- Número encontrado na posição {simplificado}')\n",
        "       else:\n",
        "           print(f'- Número não foi encontrado na posição {simplificado}')"
      ]
    },
    {
      "cell_type": "markdown",
      "metadata": {},
      "source": [
        "03. Faça um programa que leia uma matriz 3x3. Calcule e mostre a soma dos elementos que estão na diagonal principal (0x0, 1x1 e 2x2)"
      ]
    },
    {
      "cell_type": "code",
      "execution_count": 8,
      "metadata": {},
      "outputs": [
        {
          "name": "stdout",
          "output_type": "stream",
          "text": [
            "A soma da diagonal principal (0x0, 1x1 e 2x2) é de: 15\n"
          ]
        }
      ],
      "source": [
        "# 03\n",
        "matrizTeste = []\n",
        "soma = 0 \n",
        "\n",
        "for i in range(3):\n",
        "    linha = []\n",
        "    for j in range(3):\n",
        "        e = int(input(f'Insira o elemento da posição [{i}][{j}]'))\n",
        "        linha.append(e)\n",
        "    matrizTeste.append(linha)\n",
        "\n",
        "for lindex, linha in enumerate(matrizTeste):\n",
        "    for cindex, elemento in enumerate(linha):\n",
        "        if lindex == cindex:\n",
        "            soma += elemento\n",
        "\n",
        "print(f'A soma da diagonal principal (0x0, 1x1 e 2x2) é de: {soma}')"
      ]
    },
    {
      "cell_type": "markdown",
      "metadata": {},
      "source": [
        "# Manipulação de strings"
      ]
    },
    {
      "cell_type": "code",
      "execution_count": 9,
      "metadata": {},
      "outputs": [
        {
          "name": "stdout",
          "output_type": "stream",
          "text": [
            "Olá mundo\n",
            "l\n"
          ]
        }
      ],
      "source": [
        "s = 'Olá mundo'\n",
        "print(s)\n",
        "print(s[1])"
      ]
    },
    {
      "cell_type": "code",
      "execution_count": 10,
      "metadata": {},
      "outputs": [
        {
          "name": "stdout",
          "output_type": "stream",
          "text": [
            "['O', 'l', 'á', ' ', 'm', 'u', 'n', 'd', 'o', '!']\n"
          ]
        }
      ],
      "source": [
        "l = list('Olá mundo!')\n",
        "print(l)"
      ]
    },
    {
      "cell_type": "markdown",
      "metadata": {},
      "source": [
        "# Verificação parcial de strings"
      ]
    },
    {
      "cell_type": "code",
      "execution_count": 80,
      "metadata": {},
      "outputs": [
        {
          "name": "stdout",
          "output_type": "stream",
          "text": [
            "Seu nome não foi verificado!\n"
          ]
        }
      ],
      "source": [
        "# Verificação de uma string\n",
        "nome = input('Insira o seu nome completo > ')\n",
        "validacao = nome.startswith('Naruto')\n",
        "\n",
        "if validacao:\n",
        "    print('Seu nome foi verificado com sucesso!')\n",
        "else: \n",
        "    print('Seu nome não foi verificado!')"
      ]
    },
    {
      "cell_type": "markdown",
      "metadata": {},
      "source": [
        "# Maiúsculo / Minúsculo "
      ]
    },
    {
      "cell_type": "code",
      "execution_count": 83,
      "metadata": {},
      "outputs": [
        {
          "name": "stdout",
          "output_type": "stream",
          "text": [
            "GABRIEL PHILIPPE\n",
            "gabriel philippe\n"
          ]
        }
      ],
      "source": [
        "nome = input('Insira seu nome completo > ')\n",
        "print(nome.upper())\n",
        "print(nome.lower())"
      ]
    },
    {
      "cell_type": "code",
      "execution_count": 86,
      "metadata": {},
      "outputs": [
        {
          "name": "stdout",
          "output_type": "stream",
          "text": [
            "True\n",
            "True\n"
          ]
        }
      ],
      "source": [
        "nome = input('Insira seu nome completo > ')\n",
        "print('Lu' in nome)\n",
        "print('Philippe' not in nome)"
      ]
    },
    {
      "cell_type": "markdown",
      "metadata": {},
      "source": [
        "# Contagem de strings"
      ]
    },
    {
      "cell_type": "code",
      "execution_count": 91,
      "metadata": {},
      "outputs": [
        {
          "name": "stdout",
          "output_type": "stream",
          "text": [
            "Existem 2 palavras tigres.\n",
            "Existem 3 números 1 na lista.\n"
          ]
        }
      ],
      "source": [
        "t = 'um tigre, dois tigre, três trige'\n",
        "print('Existem', t.count('tigre'), 'palavras tigres.')\n",
        "\n",
        "lista = [1, 1, 1, 2]\n",
        "print('Existem', lista.count(1), 'números 1 na lista.')"
      ]
    },
    {
      "cell_type": "markdown",
      "metadata": {},
      "source": [
        "# Pesquisa de strings"
      ]
    },
    {
      "cell_type": "code",
      "execution_count": 104,
      "metadata": {},
      "outputs": [
        {
          "name": "stdout",
          "output_type": "stream",
          "text": [
            "3\n",
            "-1\n"
          ]
        }
      ],
      "source": [
        "s = 'Unimari - Universidade de Marilia'\n",
        "print(s.find('mari'))\n",
        "print(s.find('ZORO CEGO '))  "
      ]
    },
    {
      "cell_type": "markdown",
      "metadata": {},
      "source": [
        "rfind() - Reentorna a última ocorrência do parâmetro passado."
      ]
    },
    {
      "cell_type": "code",
      "execution_count": 106,
      "metadata": {},
      "outputs": [
        {
          "name": "stdout",
          "output_type": "stream",
          "text": [
            "24\n"
          ]
        }
      ],
      "source": [
        "\n",
        "s = 'banana nanica é uma banana'\n",
        "print(s.rfind('na'))"
      ]
    },
    {
      "cell_type": "markdown",
      "metadata": {},
      "source": [
        "# Posicionamento de strings\n",
        "Center - centraliza a string em um número de posições passado como parâmetro\n",
        "\n",
        "Ljust - '' preenchimento a esquerda\n",
        "\n",
        "Rjust - '' preenchimento a direita"
      ]
    },
    {
      "cell_type": "code",
      "execution_count": 123,
      "metadata": {},
      "outputs": [
        {
          "name": "stdout",
          "output_type": "stream",
          "text": [
            "===Unimar===\n"
          ]
        }
      ],
      "source": [
        "s = 'Unimar'\n",
        "s = s.center(12, '=')\n",
        "\n",
        "print(s)"
      ]
    },
    {
      "cell_type": "code",
      "execution_count": 120,
      "metadata": {},
      "outputs": [
        {
          "name": "stdout",
          "output_type": "stream",
          "text": [
            "Unimar======\n"
          ]
        }
      ],
      "source": [
        "s = 'Unimar'\n",
        "s = s.ljust(12, '=') \n",
        "print(s)"
      ]
    },
    {
      "cell_type": "code",
      "execution_count": 122,
      "metadata": {},
      "outputs": [
        {
          "name": "stdout",
          "output_type": "stream",
          "text": [
            "======Unimar\n"
          ]
        }
      ],
      "source": [
        "s = 'Unimar'\n",
        "s = s.rjust(12, '=')\n",
        "print(s)"
      ]
    },
    {
      "cell_type": "markdown",
      "metadata": {},
      "source": [
        "# Quebra ou separação de strings\n",
        "split() - Quebra uma string a partir de um caractere passado como parametro retornando uma lista"
      ]
    },
    {
      "cell_type": "code",
      "execution_count": 135,
      "metadata": {},
      "outputs": [
        {
          "name": "stdout",
          "output_type": "stream",
          "text": [
            "['Unimar', '-', 'Universidade', 'de', 'Marília']\n",
            "['Um tigre', ' dois tigre', ' três tigre']\n"
          ]
        }
      ],
      "source": [
        "s = 'Unimar - Universidade de Marília'\n",
        "v = 'Um tigre, dois tigre, três tigre'\n",
        "\n",
        "print(s.split(' '))\n",
        "print(v.split(','))"
      ]
    },
    {
      "cell_type": "markdown",
      "metadata": {},
      "source": [
        "# Substituição de strings"
      ]
    },
    {
      "cell_type": "code",
      "execution_count": 139,
      "metadata": {},
      "outputs": [
        {
          "name": "stdout",
          "output_type": "stream",
          "text": [
            "Unimar - Konoha de Marília\n"
          ]
        }
      ],
      "source": [
        "\n",
        "s = 'Unimar - Universidade de Marília'\n",
        "print(s.replace('Universidade', 'Konoha'))"
      ]
    },
    {
      "cell_type": "markdown",
      "metadata": {},
      "source": [
        "# Remoção de espaços em branco\n",
        "strip() - Remoção dos espaços"
      ]
    },
    {
      "cell_type": "code",
      "execution_count": 141,
      "metadata": {},
      "outputs": [
        {
          "name": "stdout",
          "output_type": "stream",
          "text": [
            "Unimar - Universidade de Marília\n"
          ]
        }
      ],
      "source": [
        "s = '                 Unimar - Universidade de Marília                    '\n",
        "print(s.strip())"
      ]
    },
    {
      "cell_type": "markdown",
      "metadata": {},
      "source": [
        "### Validação por tipo de conteúdo"
      ]
    },
    {
      "cell_type": "code",
      "execution_count": 1,
      "metadata": {},
      "outputs": [
        {
          "name": "stdout",
          "output_type": "stream",
          "text": [
            "True\n",
            "True\n",
            "True\n",
            "False\n",
            "False\n",
            "True\n",
            "True\n"
          ]
        }
      ],
      "source": [
        "s = '125'\n",
        "p = 'alô mundo'\n",
        "espaço = ' '\n",
        "\n",
        "print(s.isalnum())\n",
        "print(s.isdigit())\n",
        "print(s.isnumeric())\n",
        "print(s.isupper())\n",
        "print(s.islower())\n",
        "print(espaço.isspace())\n",
        "print(s.isalnum())"
      ]
    },
    {
      "cell_type": "markdown",
      "metadata": {},
      "source": [
        "format() - Formatação de texto"
      ]
    },
    {
      "cell_type": "code",
      "execution_count": 2,
      "metadata": {},
      "outputs": [
        {
          "name": "stdout",
          "output_type": "stream",
          "text": [
            "isso é um teste\n",
            "isso é um teste\n",
            "um teste é isso\n",
            "O PI é 3.14\n",
            "O PI é 3.14\n",
            "O PI é 8.03\n"
          ]
        }
      ],
      "source": [
        "var1 = 'isso'\n",
        "var2 = 'é'\n",
        "var3 = 'um teste'\n",
        "pi = 3.1434564987\n",
        "\n",
        "print(f'{var1} {var2} {var3}')\n",
        "print('{} {} {}'.format(var1, var2, var3))\n",
        "print('{2} {1} {0}'.format(var1, var2, var3)) # com índices\n",
        "print(f'O PI é {pi:.2f}')\n",
        "print('O PI é {:.2f}'.format(pi)) # sem f-string\n",
        "print('O PI é {:.2f}'.format(pi+4.89))"
      ]
    },
    {
      "cell_type": "markdown",
      "metadata": {},
      "source": [
        "# Leitura e escrita de arquivo\n",
        "Escrita de arquivo"
      ]
    },
    {
      "cell_type": "code",
      "execution_count": 19,
      "metadata": {},
      "outputs": [],
      "source": [
        "with open (\"arquivo_saida.txt\", \"w\") as arquivo:\n",
        "    arquivo.write(\"Olá, mundo! \\n\")"
      ]
    },
    {
      "cell_type": "markdown",
      "metadata": {},
      "source": [
        "Neste exemplo:\n",
        "\n",
        "* Abrimos o arquivo \"arquivo_saida.txt\" no modo de escrita (\"w\"). Se o arquivo não existir, ele será criado. Se ele existir, seu conteúdo será substituído.\n",
        "* Usamos o contexto `with` para garantir que o arquivo seja fechado após a execução do bloco de código.\n",
        "* Utilizamos o método `write()` para escrever a string \"Olá, mundo!\" no arquivo."
      ]
    },
    {
      "cell_type": "code",
      "execution_count": 20,
      "metadata": {},
      "outputs": [
        {
          "name": "stdout",
          "output_type": "stream",
          "text": [
            "Olá, mundo! \n",
            "\n"
          ]
        }
      ],
      "source": [
        "with open('arquivo_saida.txt', 'r') as arquivo:\n",
        "    conteudo = arquivo.read()\n",
        "    print(conteudo)"
      ]
    },
    {
      "cell_type": "markdown",
      "metadata": {},
      "source": [
        "# 07. Bibliotecas\n",
        "\n",
        "Bibliotecas (também chamada de **libs**) são coleções de códigos pré-escritos que podem ser reutilizados em diferentes projetos. Pense nelas como caixas de ferramentas para programadores: em vez de construir tudo no zero, você pode usar essas \"ferramentas\" para acelerar o desenvolvimento de seu projeto. Existem as bibliotecas que são nativas da linguagem, e as externas, que necessitam ser instaladas para serem usadas no código."
      ]
    },
    {
      "cell_type": "markdown",
      "metadata": {},
      "source": [
        "## Bibiloteca interna"
      ]
    },
    {
      "cell_type": "code",
      "execution_count": null,
      "metadata": {},
      "outputs": [
        {
          "name": "stdout",
          "output_type": "stream",
          "text": [
            "Raiz quadrada de 81 é 9.00\n"
          ]
        }
      ],
      "source": [
        "import math\n",
        "\n",
        "num = int(input('Insira um número > '))\n",
        "raiz_quadrada = math.sqrt(num)\n",
        "print(f'Raiz quadrada de {num} é {raiz_quadrada}')"
      ]
    },
    {
      "cell_type": "code",
      "execution_count": 34,
      "metadata": {},
      "outputs": [
        {
          "name": "stdout",
          "output_type": "stream",
          "text": [
            "O valor final do cálculo é 6\n"
          ]
        }
      ],
      "source": [
        "from math import factorial as fac\n",
        "\n",
        "num = int(input('Insira um múmero > '))\n",
        "resultado = fac(num)\n",
        "print(f'O valor final do cálculo é {resultado}')"
      ]
    },
    {
      "cell_type": "markdown",
      "metadata": {},
      "source": [
        "Random - Bibilioteca para aleatoriedade numérica\n",
        "* Random - gera números aleatórios entre 0 e 1;\n",
        "* Randint = gera números aleatórios entre 2 números [x até y];\n",
        "* Randrange = gera números aleatórios entre 2 números, mas com uma chance de repetição;\n",
        "* Choice = gera números aleatórios entre 2 listas;\n",
        "* Shuffle = embaralha uma lista;"
      ]
    },
    {
      "cell_type": "code",
      "execution_count": null,
      "metadata": {},
      "outputs": [
        {
          "name": "stdout",
          "output_type": "stream",
          "text": [
            "0.6724799607992354\n"
          ]
        }
      ],
      "source": [
        "from random import random\n",
        "numero = random() # random\n",
        "print(numero)"
      ]
    },
    {
      "cell_type": "code",
      "execution_count": null,
      "metadata": {},
      "outputs": [
        {
          "name": "stdout",
          "output_type": "stream",
          "text": [
            "6\n"
          ]
        }
      ],
      "source": [
        "from random import randint \n",
        "numero_int = randint(1, 9) #gera números de 1 a 9\n",
        "\n",
        "print(numero_int)"
      ]
    },
    {
      "cell_type": "code",
      "execution_count": 118,
      "metadata": {},
      "outputs": [
        {
          "name": "stdout",
          "output_type": "stream",
          "text": [
            "7\n"
          ]
        }
      ],
      "source": [
        "from random import randrange\n",
        "numero_random = randrange(1, 10, 2) #inicio / fim / intervalo\n",
        "print(numero_random)"
      ]
    },
    {
      "cell_type": "code",
      "execution_count": 116,
      "metadata": {},
      "outputs": [
        {
          "name": "stdout",
          "output_type": "stream",
          "text": [
            "Seu número escolhido dentro da lista foi 5!\n"
          ]
        }
      ],
      "source": [
        "from random import choice\n",
        "lista_numeros = [1, 2, 3, 4, 5, 6, 7]\n",
        "numero_escolhido = choice(lista_numeros)\n",
        "\n",
        "print(f'Seu número escolhido dentro da lista foi {numero_escolhido}!')"
      ]
    },
    {
      "cell_type": "code",
      "execution_count": 111,
      "metadata": {},
      "outputs": [
        {
          "name": "stdout",
          "output_type": "stream",
          "text": [
            "Lista misturada: [5, 3, 6, 2, 1, 7, 4]\n"
          ]
        }
      ],
      "source": [
        "from random import shuffle\n",
        "lista_numeros = [1, 2, 3, 4, 5, 6, 7]\n",
        "shuffle(lista_numeros)\n",
        "\n",
        "print(f'Lista misturada: {lista_numeros}')"
      ]
    },
    {
      "cell_type": "markdown",
      "metadata": {},
      "source": [
        "### Biblioteca externa - exemplo"
      ]
    },
    {
      "cell_type": "code",
      "execution_count": 15,
      "metadata": {},
      "outputs": [
        {
          "name": "stdout",
          "output_type": "stream",
          "text": [
            "Logradouro: Praça da Sé\n",
            "Bairro: Sé\n",
            "Cidade: São Paulo\n",
            "Estado: SP\n"
          ]
        }
      ],
      "source": [
        "# !pip install requests\n",
        "import requests as rq\n",
        "\n",
        "cep_digitado = input('Digite o CEP para consultar > ')\n",
        "requisicao = rq.get(f'https://viacep.com.br/ws/{cep_digitado}/json')\n",
        "dados_obtidos = requisicao.json()\n",
        "\n",
        "print('Logradouro: {}'.format(dados_obtidos['logradouro']))\n",
        "print('Bairro: {}'.format(dados_obtidos['bairro']))\n",
        "print('Cidade: {}'.format(dados_obtidos['localidade']))\n",
        "print('Estado: {}'.format(dados_obtidos['uf']))"
      ]
    },
    {
      "cell_type": "markdown",
      "metadata": {},
      "source": [
        "# 08 - Funções\n",
        "\n"
      ]
    },
    {
      "cell_type": "markdown",
      "metadata": {},
      "source": [
        "## Conceito\n",
        "\n",
        "Podemos criar nossas próprias funções em python. Já usamos várias durante o curso: `len, float, int, print, input, etc`. Agora veremos como declarar novas funções e usá-las. Para definir uma nova função, utilizaremos a instrução `def`."
      ]
    },
    {
      "cell_type": "code",
      "execution_count": 20,
      "metadata": {},
      "outputs": [
        {
          "name": "stdout",
          "output_type": "stream",
          "text": [
            "A soma dos dois números é 3\n"
          ]
        }
      ],
      "source": [
        "def somaNumeros(a, b):\n",
        "    return (a + b)\n",
        "\n",
        "n = int(input('Insira um número > '))\n",
        "n2 = int(input('Insira outro número >'))\n",
        "print(f'A soma dos dois números é {somaNumeros(n, n2)}')"
      ]
    },
    {
      "cell_type": "markdown",
      "metadata": {},
      "source": [
        "Funções são úteis para isolar uma tarefa específica do restante do código. Anteriormente usamos o print, mas a soma e a impressão são dois problemas diferentes."
      ]
    },
    {
      "cell_type": "code",
      "execution_count": 22,
      "metadata": {},
      "outputs": [
        {
          "name": "stdout",
          "output_type": "stream",
          "text": [
            "True\n"
          ]
        }
      ],
      "source": [
        "# Função para retornar valor booleano (V ou F):\n",
        "\n",
        "def validarPar(x):\n",
        "    if x % 2 == 0:\n",
        "        return True\n",
        "    else:\n",
        "        return False\n",
        "    \n",
        "n = int(input('Insira um número para validar se o mesmo é par > '))\n",
        "print(validarPar(n))"
      ]
    },
    {
      "cell_type": "code",
      "execution_count": 24,
      "metadata": {},
      "outputs": [
        {
          "name": "stdout",
          "output_type": "stream",
          "text": [
            "Impar!\n"
          ]
        }
      ],
      "source": [
        "# Mesma função retornando uma string:\n",
        "def validarPar(x):\n",
        "    return x % 2 == 0\n",
        "    \n",
        "def ParOuImpar(x):\n",
        "    if validarPar(x):\n",
        "        return 'Par!'\n",
        "    else:\n",
        "        return 'Impar!'\n",
        "    \n",
        "print(ParOuImpar(3))\n",
        "    "
      ]
    },
    {
      "cell_type": "markdown",
      "metadata": {},
      "source": [
        "# Exemplos"
      ]
    },
    {
      "cell_type": "markdown",
      "metadata": {},
      "source": [
        "\n",
        "e1. Escreva uma função que retorne o maior de dois números.\n",
        "\n",
        "e2. Escreva uma função que receba dois números e retorne `True` se o primeiro número for múltiplo do segundo\n",
        "\n",
        "e3. Escreva uma função que receba o lado de um quadrado e retorne sua área (A = lado^2)\n",
        "\n",
        "e4. Escreva uma função que receba a base e a altura de um triângulo e retorne sua área (A = (base * altura) / 2)"
      ]
    },
    {
      "cell_type": "code",
      "execution_count": 33,
      "metadata": {},
      "outputs": [
        {
          "name": "stdout",
          "output_type": "stream",
          "text": [
            "O 3 é maior que 2!\n"
          ]
        }
      ],
      "source": [
        "# e1\n",
        "def retornarMaior(n, n2):\n",
        "    return n > n2\n",
        "        \n",
        "def MaiorOuMenor(n, n2):\n",
        "    if n > n2:\n",
        "        return f'O {n} é maior que {n2}!'\n",
        "    else:\n",
        "        return f'O {n2} é maior que {n}!'\n",
        "\n",
        "n = int(input('Insira um número > '))\n",
        "n2 = int(input('Insira outro número > '))\n",
        "\n",
        "print(MaiorOuMenor(n, n2))\n"
      ]
    },
    {
      "cell_type": "code",
      "execution_count": 37,
      "metadata": {},
      "outputs": [
        {
          "name": "stdout",
          "output_type": "stream",
          "text": [
            "True\n"
          ]
        }
      ],
      "source": [
        "# e2\n",
        "def ValMultiplo(n, n2):\n",
        "    if n % n2 == 0:\n",
        "        return True\n",
        "    else:\n",
        "        return False\n",
        "\n",
        "n = int(input('Insira um número > '))\n",
        "n2 = int(input('Insira outro número > '))\n",
        "\n",
        "print(ValMultiplo(n, n2))"
      ]
    },
    {
      "cell_type": "code",
      "execution_count": 39,
      "metadata": {},
      "outputs": [
        {
          "name": "stdout",
          "output_type": "stream",
          "text": [
            "A área do quadrado é 1600\n"
          ]
        }
      ],
      "source": [
        "# e3\n",
        "def AreaQuadrado(n):\n",
        "    return n ** 2\n",
        "\n",
        "n = int(input(('Insira o lado de um quadrado >')))\n",
        "print(f'A área do quadrado é {AreaQuadrado(n)}')"
      ]
    },
    {
      "cell_type": "code",
      "execution_count": 44,
      "metadata": {},
      "outputs": [
        {
          "name": "stdout",
          "output_type": "stream",
          "text": [
            "A área do triângulo  é de: 500.0\n"
          ]
        }
      ],
      "source": [
        "# e4\n",
        "def AreaTriangulo(b, a):\n",
        "    return (b * a) / 2\n",
        "\n",
        "b = int(input('Insira a base do triângulo  > '))\n",
        "a = int(input('Insira a altura do triângulo  > '))\n",
        "\n",
        "print(f'A área do triângulo  é de: {AreaTriangulo(b, a)}')"
      ]
    },
    {
      "cell_type": "markdown",
      "metadata": {},
      "source": [
        "### Exemplo 5: Pesquisando valores em uma lista:"
      ]
    },
    {
      "cell_type": "code",
      "execution_count": 45,
      "metadata": {},
      "outputs": [
        {
          "name": "stdout",
          "output_type": "stream",
          "text": [
            "2\n"
          ]
        }
      ],
      "source": [
        "# e5\n",
        "def pesquiseLista(lista, valor):\n",
        "    for i, e in enumerate(lista):\n",
        "        if e == valor:\n",
        "            return i\n",
        "    return None\n",
        "\n",
        "L = [10, 20, 30, 40, 50]\n",
        "print(pesquiseLista(L, 30))"
      ]
    },
    {
      "cell_type": "markdown",
      "metadata": {},
      "source": [
        "Exemplo 6: Faça uma função que calcule a média de N valores existentes em uma lista."
      ]
    },
    {
      "cell_type": "code",
      "execution_count": 60,
      "metadata": {},
      "outputs": [
        {
          "name": "stdout",
          "output_type": "stream",
          "text": [
            "30.0\n"
          ]
        }
      ],
      "source": [
        "lista = [10, 20, 30, 40, 50]\n",
        "\n",
        "def MediaValorLista(lista):\n",
        "    total = 0\n",
        "    for e in lista:       \n",
        "        total += e\n",
        "    return total / len(lista) \n",
        "\n",
        "print(MediaValorLista(lista)) "
      ]
    },
    {
      "cell_type": "markdown",
      "metadata": {},
      "source": [
        "## Validação\n",
        "\n",
        "Funções são úteis para validar a entrada de dados também, imagine que precisamos validar a entrada do usuário, limitando os valores a serem digitados, entre 0 a 5. Faríamos um código sem função assim:"
      ]
    },
    {
      "cell_type": "code",
      "execution_count": 65,
      "metadata": {},
      "outputs": [
        {
          "name": "stdout",
          "output_type": "stream",
          "text": [
            "Valor aceito!\n"
          ]
        }
      ],
      "source": [
        "valor = int(input('Insira um valor entre 0 e 5 > '))\n",
        "if valor < 0 or valor > 5:\n",
        "    print('Valor inválido!')\n",
        "else:\n",
        "    print('Valor aceito!')"
      ]
    },
    {
      "cell_type": "markdown",
      "metadata": {},
      "source": [
        "Podemos tranformá-lo em uma função que receba a pergunta e os valores de máximo e mínimo:"
      ]
    },
    {
      "cell_type": "code",
      "execution_count": 2,
      "metadata": {},
      "outputs": [
        {
          "name": "stdout",
          "output_type": "stream",
          "text": [
            "None\n"
          ]
        }
      ],
      "source": [
        "def validaEntrada(pergunta, v_min, v_max):\n",
        "    while True:\n",
        "        v = int(input(pergunta))\n",
        "        if v == 0:\n",
        "            print('Encerrando..')\n",
        "            break\n",
        "        if v < v_min or v > v_max:\n",
        "\n",
        "            print(f'Valor inválido! Digite um valor entre {v_min} e {v_max}.')\n",
        "        else:\n",
        "            print(f'Valor válido: {v}!')\n",
        "    \n",
        "print(validaEntrada('Digite um valor entre 0 e 5 (digita 0 para encerrar) >', 0, 5))"
      ]
    },
    {
      "cell_type": "markdown",
      "metadata": {},
      "source": [
        "## Módulos\n",
        "\n",
        "Nosso programa, pode ser inteiro modular, ou seja, trabalhar diretamente apenas com subrotinas (funções) para construir a função principal `main`."
      ]
    },
    {
      "cell_type": "code",
      "execution_count": 3,
      "metadata": {},
      "outputs": [
        {
          "name": "stdout",
          "output_type": "stream",
          "text": [
            "String invertida: leirbag\n"
          ]
        }
      ],
      "source": [
        "def inverter_string(texto):\n",
        "    invertida = \"\"\n",
        "    for caractere in texto:\n",
        "        invertida = caractere + invertida\n",
        "    return invertida\n",
        "\n",
        "def main():\n",
        "    entrada = input('Insira uma palavra ou frase > ')\n",
        "    resultado = inverter_string(entrada)\n",
        "    print(f'String invertida: {resultado}')\n",
        "\n",
        "if __name__ == \"__main__\":\n",
        "    main()"
      ]
    },
    {
      "cell_type": "markdown",
      "metadata": {},
      "source": [
        "`__name__`: É uma variável especial do Python\n",
        "\n",
        "* Se o arquivo está sendo executado diretamente, `__name__` é igual a `__main__`.\n",
        "\n",
        "* Se o arquivo está sendo importado por outro, `__name__` é igual ao nome do arquivo (sem o .py ou .ipynb)\n"
      ]
    },
    {
      "cell_type": "code",
      "execution_count": 5,
      "metadata": {},
      "outputs": [
        {
          "name": "stdout",
          "output_type": "stream",
          "text": [
            "Soma: 10.0\n",
            "Soma: 0.0\n",
            "Soma: 25.0\n",
            "Soma: 1.0\n"
          ]
        }
      ],
      "source": [
        "def soma(a, b):\n",
        "    return a + b\n",
        "\n",
        "def subtracao(a, b):\n",
        "    return a - b\n",
        "\n",
        "def mult(a, b):\n",
        "    return a * b\n",
        "\n",
        "def divisao(a, b):\n",
        "    return a / b\n",
        "\n",
        "def main():\n",
        "    n = float(input('Digite o 1 n >'))\n",
        "    n2 = float(input('Digite o 2 n >'))\n",
        "    print(f'Soma: {soma(n, n2)}')\n",
        "    print(f'Soma: {subtracao(n, n2)}')\n",
        "    print(f'Soma: {mult(n, n2)}')\n",
        "    print(f'Soma: {divisao(n, n2)}')\n",
        "\n",
        "if __name__ == \"__main__\":\n",
        "    main()"
      ]
    },
    {
      "cell_type": "markdown",
      "metadata": {},
      "source": [
        "## Lista para patricar\n",
        "https://encurtador.com.br/mwiYe"
      ]
    }
  ],
  "metadata": {
    "colab": {
      "provenance": []
    },
    "kernelspec": {
      "display_name": "Python 3",
      "name": "python3"
    },
    "language_info": {
      "codemirror_mode": {
        "name": "ipython",
        "version": 3
      },
      "file_extension": ".py",
      "mimetype": "text/x-python",
      "name": "python",
      "nbconvert_exporter": "python",
      "pygments_lexer": "ipython3",
      "version": "3.13.3"
    }
  },
  "nbformat": 4,
  "nbformat_minor": 0
}
