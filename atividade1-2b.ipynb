{
 "cells": [
  {
   "cell_type": "markdown",
   "id": "6d3a4827",
   "metadata": {},
   "source": [
    "# TRABALHO EM DUPLA\n",
    "Nicollas: 2039234\n",
    "\n",
    "Gabriel Philippe: 2028736"
   ]
  },
  {
   "cell_type": "markdown",
   "id": "389ab77d",
   "metadata": {},
   "source": [
    "1. Faça uma lista de compras solicitando cada produto e adicionando em uma lista\n",
    "utilize \"x\" para sair da repetição. Ao final exiba a lista de compras.\n"
   ]
  },
  {
   "cell_type": "code",
   "execution_count": 18,
   "id": "5968e42c",
   "metadata": {},
   "outputs": [
    {
     "name": "stdout",
     "output_type": "stream",
     "text": [
      "Sua lista de compras é: ['Renan', 'Samuel', 'Nicollas', 'Carol', 'Bezerra']\n"
     ]
    }
   ],
   "source": [
    "produto = []\n",
    "qtdProdutos = int(input('Insira a quantidade de produtos que você gostaria de adicionar > '))\n",
    "\n",
    "for i in range(qtdProdutos):\n",
    "    adicionar = input(f'Digite o {i+1} produto (X para sair) > ')\n",
    "    produto.append(adicionar)\n",
    "\n",
    "    if produto == 'X':\n",
    "        break\n",
    "\n",
    "print(f'Sua lista de compras é: {produto}')\n"
   ]
  },
  {
   "cell_type": "markdown",
   "id": "29c1ba4c",
   "metadata": {},
   "source": [
    "2. Desenvolva um algoritmo que solicite o nome de uma pessoa e armazene em uma lista enquanto o nome da pessoa seja diferente de \"sair\". Após sair, exiba a lista de todos dos nomes."
   ]
  },
  {
   "cell_type": "code",
   "execution_count": 22,
   "id": "c0640717",
   "metadata": {},
   "outputs": [
    {
     "name": "stdout",
     "output_type": "stream",
     "text": [
      "Seus nomes são:  ['Gabriel', 'Samuel', 'Renan', 'Carol', 'Plinio', 'Bezerra', 'Daniel']\n"
     ]
    }
   ],
   "source": [
    "lnames = []\n",
    "\n",
    "while True:\n",
    "    name = str(input('Digite um nome e digite \"sair\" para parar e mostrar a lista: '))\n",
    "    \n",
    "    if name.lower() == 'sair':\n",
    "        break\n",
    "    lnames.append(name)\n",
    "    \n",
    "print(f'Seus nomes são:  {lnames}')"
   ]
  },
  {
   "cell_type": "markdown",
   "id": "f5545765",
   "metadata": {},
   "source": [
    "3) Escreva um código para ler uma lista de 5 números inteiros e mostrar cada\n",
    "número juntamente com a sua posição na lista."
   ]
  },
  {
   "cell_type": "code",
   "execution_count": 16,
   "id": "f5f0d276",
   "metadata": {},
   "outputs": [
    {
     "name": "stdout",
     "output_type": "stream",
     "text": [
      "* O número [1] está na posição [0]!\n",
      "* O número [2] está na posição [1]!\n",
      "* O número [3] está na posição [2]!\n",
      "* O número [4] está na posição [3]!\n",
      "* O número [50] está na posição [4]!\n"
     ]
    }
   ],
   "source": [
    "lista = []\n",
    "\n",
    "for i in range(5):\n",
    "    num = int(input(f'Insira o {i+1} número > '))\n",
    "    lista.append(num)\n",
    "\n",
    "for index, num in enumerate(lista):\n",
    "    print(f'* O número [{num}] está na posição [{index}]!')\n"
   ]
  },
  {
   "cell_type": "markdown",
   "id": "f344a75f",
   "metadata": {},
   "source": [
    "4. Faça um programa para ler uma lista de 10 números reais e mostre-os na ordem inversa."
   ]
  },
  {
   "cell_type": "code",
   "execution_count": 21,
   "id": "c224c8ae",
   "metadata": {},
   "outputs": [
    {
     "name": "stdout",
     "output_type": "stream",
     "text": [
      "Seus números são:\n",
      "1 2 3 4 5 6 7 8 9 10\n"
     ]
    }
   ],
   "source": [
    "lnum = []\n",
    "x = 0\n",
    "\n",
    "for i in range(10):\n",
    "    x += 1\n",
    "    num = int(input(f'Serão 10 números. Digite o {x}º número: '))\n",
    "    lnum.append(num)\n",
    "lnum.reverse()\n",
    "    \n",
    "print('Seus números são:')\n",
    "print(*lnum)"
   ]
  },
  {
   "cell_type": "markdown",
   "id": "c2aa16e5",
   "metadata": {},
   "source": [
    "5. Faça um programa em Python para leia um vetor de 10 posições. Contar e\n",
    "escrever quantos valores pares ele possui e as posições (índices) em que se\n",
    "encontram."
   ]
  },
  {
   "cell_type": "code",
   "execution_count": 15,
   "id": "043fa58f",
   "metadata": {},
   "outputs": [
    {
     "name": "stdout",
     "output_type": "stream",
     "text": [
      "\n",
      "O vetor possui 5 valores pares.\n",
      "\n",
      "Sua lista: [1, 2, 3, 4, 5, 6, 7, 8, 9, 10]\n",
      "Eles estão nas seguintes posições: [1, 3, 5, 7, 9]\n"
     ]
    }
   ],
   "source": [
    "vetor = []\n",
    "\n",
    "for i in range(10):\n",
    "    valor = int(input(f\"Digite o valor para a posição {i}: \"))\n",
    "    vetor.append(valor)\n",
    "\n",
    "pares = 0\n",
    "posicoes_pares = []\n",
    "\n",
    "for indice, valor in enumerate(vetor):\n",
    "    if valor % 2 == 0:\n",
    "        pares += 1\n",
    "        posicoes_pares.append(indice)\n",
    "\n",
    "print(f\"\\nO vetor possui {pares} valores pares.\")\n",
    "if pares > 0:\n",
    "    print(f'\\nSua lista: {vetor}')\n",
    "    print(\"Eles estão nas seguintes posições:\", posicoes_pares)\n",
    "else:\n",
    "    print(\"Não há valores pares no vetor.\")"
   ]
  },
  {
   "cell_type": "markdown",
   "id": "6c50c765",
   "metadata": {},
   "source": [
    "6. Faça um programa em Python que leia um vetor de 10 posições. Em seguida percorra essa lista verificando se existem itens de valores iguais, caso iguais escreva os na tela."
   ]
  },
  {
   "cell_type": "code",
   "execution_count": 20,
   "id": "df40c68a",
   "metadata": {},
   "outputs": [
    {
     "name": "stdout",
     "output_type": "stream",
     "text": [
      "Sua lista: [10, 9, 8, 7, 6, 5, 4, 3, 2, 1]\n",
      "\n"
     ]
    }
   ],
   "source": [
    "lnum = []\n",
    "lequal = []\n",
    "x = 0\n",
    "\n",
    "for i in range(10):\n",
    "    x += 1\n",
    "    num = int(input(f'Serão 10 números. Digite o {x}º número: '))\n",
    "    lnum.append(num)\n",
    "\n",
    "for e in lnum:\n",
    "    \n",
    "    if lnum.count(e) > 1 and e not in lequal:\n",
    "        lequal.append(e)\n",
    "        \n",
    "print(f'Sua lista: {lnum}\\n')\n",
    "\n",
    "if lequal:\n",
    "    print(f'Sua lista possui número(s) repetido(s)!: {lequal}')"
   ]
  },
  {
   "cell_type": "markdown",
   "id": "8890bd57",
   "metadata": {},
   "source": [
    "7. Escreva um programa Python para mover todos os valores zero para o final do\n",
    "vetor, ou seja, para a direita, sem alterar a ordem dos elementos diferentes de zero já\n",
    "presentes na lista e sem criar um vetor adicional ou temporário."
   ]
  },
  {
   "cell_type": "code",
   "execution_count": 14,
   "id": "042f1745",
   "metadata": {},
   "outputs": [
    {
     "name": "stdout",
     "output_type": "stream",
     "text": [
      "Aqui está sua lista [1, 8, 6, 4, 7, 0, 0, 0]\n"
     ]
    }
   ],
   "source": [
    "lista = [0, 1, 0, 8, 6, 4, 0, 7]\n",
    "\n",
    "for num in lista:\n",
    "    if num == 0:\n",
    "        lista.remove(0)\n",
    "        lista.append(0)\n",
    "\n",
    "print(f'Aqui está sua lista {lista}')"
   ]
  }
 ],
 "metadata": {
  "kernelspec": {
   "display_name": "Python 3",
   "language": "python",
   "name": "python3"
  },
  "language_info": {
   "codemirror_mode": {
    "name": "ipython",
    "version": 3
   },
   "file_extension": ".py",
   "mimetype": "text/x-python",
   "name": "python",
   "nbconvert_exporter": "python",
   "pygments_lexer": "ipython3",
   "version": "3.11.9"
  }
 },
 "nbformat": 4,
 "nbformat_minor": 5
}
