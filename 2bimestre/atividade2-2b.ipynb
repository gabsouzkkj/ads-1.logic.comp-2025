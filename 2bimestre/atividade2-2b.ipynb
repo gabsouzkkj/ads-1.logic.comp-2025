{
 "cells": [
  {
   "cell_type": "markdown",
   "metadata": {},
   "source": [
    "1. Faça um programa em Python que leia 10 números inteiros, armazene-os em um\n",
    "vetor, solicite um valor de referência inteiro e retorne quantos números armazenados\n",
    "no vetor são menores que o valor de referência e são ímpares."
   ]
  },
  {
   "cell_type": "code",
   "execution_count": 13,
   "metadata": {},
   "outputs": [
    {
     "name": "stdout",
     "output_type": "stream",
     "text": [
      "Os números ímpares menores que o número de referência (60) são: []\n"
     ]
    }
   ],
   "source": [
    "vetor = []\n",
    "menorImpar = []\n",
    " \n",
    "for i in range(10):\n",
    "    num = int(input(f\"Digite o {i+1}º número inteiro: \"))\n",
    "    vetor.append(num)\n",
    "\n",
    "ref_input = int(input(\"Digite um número de referência: \"))\n",
    "\n",
    "for n in vetor:\n",
    "    if n < ref_input and n % 2 != 0:\n",
    "        menorImpar.append(n)\n",
    "        \n",
    "print(f\"Os números ímpares menores que o número de referência ({ref_input}) são: {menorImpar}\")"
   ]
  },
  {
   "cell_type": "markdown",
   "metadata": {},
   "source": [
    "2. Elabore um algoritmo que preencha duas matrizes 10×10 com valores aleatórios\n",
    "entre 0 e 9 e em seguida, determine quais valores são coincidentes nas mesmas\n",
    "posições das duas matrizes. Dica: utilize a biblioteca random para gerar números\n",
    "aleatórios.\n"
   ]
  },
  {
   "cell_type": "code",
   "execution_count": 12,
   "metadata": {},
   "outputs": [
    {
     "name": "stdout",
     "output_type": "stream",
     "text": [
      "Valor igual: [7] na posição [0], [0]\n",
      "Valor igual: [2] na posição [3], [5]\n",
      "Valor igual: [0] na posição [4], [3]\n",
      "Valor igual: [7] na posição [4], [6]\n",
      "Valor igual: [1] na posição [5], [0]\n",
      "Valor igual: [8] na posição [5], [1]\n",
      "Valor igual: [3] na posição [6], [7]\n",
      "Valor igual: [2] na posição [7], [3]\n",
      "Valor igual: [1] na posição [7], [9]\n",
      "Valor igual: [0] na posição [8], [1]\n",
      "Valor igual: [6] na posição [9], [6]\n",
      "\n",
      "Sua primeira matriz: \n",
      "[7, 2, 7, 4, 5, 9, 9, 4, 7, 8]\n",
      "[7, 5, 7, 0, 1, 0, 1, 5, 5, 6]\n",
      "[6, 8, 7, 7, 4, 4, 7, 6, 0, 4]\n",
      "[7, 2, 9, 3, 4, 2, 4, 7, 8, 5]\n",
      "[0, 7, 9, 0, 9, 3, 7, 6, 6, 7]\n",
      "[1, 8, 4, 9, 9, 3, 9, 7, 0, 9]\n",
      "[3, 2, 8, 9, 5, 4, 6, 3, 0, 1]\n",
      "[7, 2, 3, 2, 5, 4, 5, 7, 1, 1]\n",
      "[1, 0, 6, 8, 4, 4, 5, 4, 0, 7]\n",
      "[8, 5, 0, 8, 6, 2, 6, 5, 6, 4]\n",
      "\n",
      "Sua segunda matriz: \n",
      "[7, 4, 2, 2, 9, 6, 7, 9, 9, 5]\n",
      "[9, 2, 6, 8, 3, 1, 4, 3, 8, 1]\n",
      "[0, 0, 5, 9, 1, 0, 9, 1, 5, 9]\n",
      "[2, 0, 0, 4, 0, 2, 0, 6, 9, 9]\n",
      "[7, 0, 7, 0, 4, 7, 7, 2, 7, 3]\n",
      "[1, 8, 1, 3, 0, 9, 8, 6, 3, 0]\n",
      "[7, 0, 3, 6, 0, 0, 4, 3, 9, 7]\n",
      "[1, 3, 0, 2, 6, 9, 6, 0, 7, 1]\n",
      "[4, 0, 1, 5, 2, 5, 2, 8, 4, 9]\n",
      "[9, 7, 5, 9, 3, 8, 6, 1, 9, 8]\n"
     ]
    }
   ],
   "source": [
    "import random\n",
    "\n",
    "matriz = []\n",
    "matriz2 = []\n",
    "\n",
    "for i in range(10):\n",
    "  linha = []\n",
    "  linha2 = []\n",
    "  for e in range(10):\n",
    "    linha.append(random.randint(0, 9))\n",
    "    linha2.append(random.randint(0, 9))\n",
    "  matriz.append(linha)\n",
    "  matriz2.append(linha2)\n",
    "\n",
    "for i in range(len(matriz)):\n",
    "  for e in range(len(matriz[i])):\n",
    "    if matriz[i][e] == matriz2[i][e]:\n",
    "      print(f\"Valor igual: [{matriz[i][e]}] na posição [{i}], [{e}]\")\n",
    "\n",
    "print('\\nSua primeira matriz: ')\n",
    "for i in matriz:\n",
    "  print(i)\n",
    "print('\\nSua segunda matriz: ')\n",
    "for i in matriz2:\n",
    "  print(i)"
   ]
  },
  {
   "cell_type": "markdown",
   "metadata": {},
   "source": [
    "3. Crie uma matriz 3 x 3, calcule e exiba o valor do seu determinante. Passos:\n",
    "* 1) Repetir as duas primeiras colunas à direita da matriz:\n",
    "* 2) Identificar as diagonais principais (cor vermelha) e as diagonais\n",
    "secundárias (cor azul):\n",
    "\n",
    "\n",
    "* 3)\n",
    "    * ■ Multiplicar e somar as diagonais principais;\n",
    "    * ■ Multiplicar e somar as diagonais secundarias;\n",
    "    * ■ diagPrin = ((a11 * a22 * a33) + (a12 * a23 * a31) + (a13 * a21 * a32))\n",
    "    * ■ diagSec = ((a13 * a22 * a31) + (a11 * a21 * a32) + (a12 * a21 * a33)\n",
    "    * ■ Subtrair os resultados das diagonais.\n",
    "    * ■ det = diagPrin - diagSec"
   ]
  },
  {
   "cell_type": "code",
   "execution_count": 24,
   "metadata": {},
   "outputs": [
    {
     "name": "stdout",
     "output_type": "stream",
     "text": [
      "Matriz Original:\n",
      "[9, 5, 6]\n",
      "[0, 2, 8]\n",
      "[6, 3, 7]\n",
      "\n",
      "Matriz Expandida:\n",
      "[9, 5, 6, 9, 5]\n",
      "[0, 2, 8, 0, 2]\n",
      "[6, 3, 7, 6, 3]\n",
      "\n",
      "Diagonais Principais:\n",
      "[9, 2, 7]\n",
      "[5, 8, 6]\n",
      "[6, 0, 3]\n",
      "\n",
      "Diagonais Secundárias:\n",
      "[6, 2, 6]\n",
      "[3, 8, 9]\n",
      "[7, 0, 5]\n",
      "\n",
      "Diagonais principais: 654\n",
      "Diagonais secundárias: 654\n",
      "Determinante: 654\n"
     ]
    }
   ],
   "source": [
    "import random\n",
    "import math\n",
    "\n",
    "matriz = []\n",
    "diagonais_principais = []\n",
    "diagonais_secundarias = []\n",
    "\n",
    "produtos_principais = 0\n",
    "produtos_secundarias = 0\n",
    "\n",
    "for i_linha in range(3):\n",
    "    l_atual = []\n",
    "    for i_coluna in range(3):\n",
    "        l_atual.append(random.randint(0, 9))\n",
    "    matriz.append(l_atual)\n",
    "\n",
    "print(\"Matriz Original:\")\n",
    "for l_atual in matriz:\n",
    "    print(l_atual)\n",
    "\n",
    "print('')\n",
    "\n",
    "for i_linha in range(len(matriz)):\n",
    "    for i_coluna in range(2):\n",
    "        matriz[i_linha].append(matriz[i_linha][i_coluna])\n",
    "\n",
    "print(\"Matriz Expandida:\")\n",
    "for l_atual in matriz:\n",
    "    print(l_atual)\n",
    "\n",
    "print('')\n",
    "\n",
    "for i_linha in range(3):\n",
    "    i_diagonal = []\n",
    "    for i_coluna in range(3):\n",
    "        i_diagonal.append(matriz[i_coluna][i_coluna + i_linha])\n",
    "    diagonais_principais.append(i_diagonal)\n",
    "\n",
    "matriz.reverse()\n",
    "\n",
    "for i_linha in range(3):\n",
    "    i_diagonal = []\n",
    "    for i_coluna in range(3):\n",
    "        i_diagonal.append(matriz[i_coluna][i_coluna + i_linha])\n",
    "    diagonais_secundarias.append(i_diagonal)\n",
    "\n",
    "for i_linha in range(3):\n",
    "    produtos_principais += math.prod(diagonais_principais[i_linha])\n",
    "    produtos_principais += math.prod(diagonais_secundarias[i_linha])\n",
    "\n",
    "print(\"Diagonais Principais:\")\n",
    "for l_atual in diagonais_principais:\n",
    "    print(l_atual)\n",
    "\n",
    "\n",
    "print(\"\\nDiagonais Secundárias:\")\n",
    "for l_atual in diagonais_secundarias:\n",
    "    print(l_atual)\n",
    "\n",
    "\n",
    "print(f\"\\nDiagonais principais: {produtos_principais}\")\n",
    "print(f\"Diagonais secundárias: {produtos_principais}\")\n",
    "\n",
    "determinante = produtos_principais - produtos_secundarias\n",
    "\n",
    "print(f\"Determinante: {determinante}\")\n"
   ]
  }
 ],
 "metadata": {
  "kernelspec": {
   "display_name": "Python 3",
   "language": "python",
   "name": "python3"
  },
  "language_info": {
   "codemirror_mode": {
    "name": "ipython",
    "version": 3
   },
   "file_extension": ".py",
   "mimetype": "text/x-python",
   "name": "python",
   "nbconvert_exporter": "python",
   "pygments_lexer": "ipython3",
   "version": "3.11.9"
  },
  "orig_nbformat": 4
 },
 "nbformat": 4,
 "nbformat_minor": 2
}
