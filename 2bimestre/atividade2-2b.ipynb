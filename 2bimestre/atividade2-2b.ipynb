{
 "cells": [
  {
   "cell_type": "markdown",
   "metadata": {},
   "source": [
    "1. Faça um programa em Python que leia 10 números inteiros, armazene-os em um\n",
    "vetor, solicite um valor de referência inteiro e retorne quantos números armazenados\n",
    "no vetor são menores que o valor de referência e são ímpares."
   ]
  },
  {
   "cell_type": "code",
   "execution_count": 7,
   "metadata": {},
   "outputs": [
    {
     "ename": "TypeError",
     "evalue": "'<' not supported between instances of 'int' and 'str'",
     "output_type": "error",
     "traceback": [
      "\u001b[31m---------------------------------------------------------------------------\u001b[39m",
      "\u001b[31mTypeError\u001b[39m                                 Traceback (most recent call last)",
      "\u001b[36mCell\u001b[39m\u001b[36m \u001b[39m\u001b[32mIn[7]\u001b[39m\u001b[32m, line 12\u001b[39m\n\u001b[32m     10\u001b[39m contador = \u001b[32m0\u001b[39m\n\u001b[32m     11\u001b[39m \u001b[38;5;28;01mfor\u001b[39;00m numero \u001b[38;5;129;01min\u001b[39;00m vetor:\n\u001b[32m---> \u001b[39m\u001b[32m12\u001b[39m         \u001b[38;5;28;01mif\u001b[39;00m \u001b[43mnumero\u001b[49m\u001b[43m \u001b[49m\u001b[43m<\u001b[49m\u001b[43m \u001b[49m\u001b[43mvalor_referencia\u001b[49m \u001b[38;5;129;01mand\u001b[39;00m numero % \u001b[32m2\u001b[39m != \u001b[32m0\u001b[39m:\n\u001b[32m     13\u001b[39m             contador += \u001b[32m1\u001b[39m\n\u001b[32m     14\u001b[39m             \u001b[38;5;28mprint\u001b[39m(contador)\n",
      "\u001b[31mTypeError\u001b[39m: '<' not supported between instances of 'int' and 'str'"
     ]
    }
   ],
   "source": [
    "vetor = []\n",
    "qtdVetor = int(input('Quantos números deseja armazenar em um vetor? > '))\n",
    "\n",
    "for i in range(qtdVetor):\n",
    "    num = int(input(f'Insira o {i+1} número > '))\n",
    "    vetor.append(num)\n",
    "\n",
    "    \n",
    "valor_referencia = input('Qual o valor de referência gostaria de ')\n",
    "contador = 0\n",
    "for numero in vetor:\n",
    "        if numero < valor_referencia and numero % 2 != 0:\n",
    "            contador += 1\n",
    "            print(contador)\n"
   ]
  },
  {
   "cell_type": "markdown",
   "metadata": {},
   "source": [
    "2. Elabore um algoritmo que preencha duas matrizes 10×10 com valores aleatórios\n",
    "entre 0 e 9 e em seguida, determine quais valores são coincidentes nas mesmas\n",
    "posições das duas matrizes. Dica: utilize a biblioteca random para gerar números\n",
    "aleatórios.\n"
   ]
  },
  {
   "cell_type": "code",
   "execution_count": null,
   "metadata": {},
   "outputs": [],
   "source": []
  },
  {
   "cell_type": "markdown",
   "metadata": {},
   "source": [
    "3. Crie uma matriz 3 x 3, calcule e exiba o valor do seu determinante. Passos:\n",
    "* 1) Repetir as duas primeiras colunas à direita da matriz:\n",
    "* 2) Identificar as diagonais principais (cor vermelha) e as diagonais\n",
    "secundárias (cor azul):\n",
    "\n",
    "\n",
    "* 3)\n",
    "    * ■ Multiplicar e somar as diagonais principais;\n",
    "    * ■ Multiplicar e somar as diagonais secundarias;\n",
    "    * ■ diagPrin = ((a11 * a22 * a33) + (a12 * a23 * a31) + (a13 * a21 * a32))\n",
    "    * ■ diagSec = ((a13 * a22 * a31) + (a11 * a21 * a32) + (a12 * a21 * a33)\n",
    "    * ■ Subtrair os resultados das diagonais.\n",
    "    * ■ det = diagPrin - diagSec"
   ]
  },
  {
   "cell_type": "code",
   "execution_count": null,
   "metadata": {},
   "outputs": [],
   "source": []
  }
 ],
 "metadata": {
  "kernelspec": {
   "display_name": "Python 3",
   "language": "python",
   "name": "python3"
  },
  "language_info": {
   "codemirror_mode": {
    "name": "ipython",
    "version": 3
   },
   "file_extension": ".py",
   "mimetype": "text/x-python",
   "name": "python",
   "nbconvert_exporter": "python",
   "pygments_lexer": "ipython3",
   "version": "3.13.3"
  },
  "orig_nbformat": 4
 },
 "nbformat": 4,
 "nbformat_minor": 2
}
